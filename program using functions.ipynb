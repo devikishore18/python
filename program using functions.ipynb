{
 "cells": [
  {
   "cell_type": "markdown",
   "id": "298a9bdb-c3d6-4890-bd0f-e7844f87634b",
   "metadata": {},
   "source": [
    "1.Write a Python program to reverse the words in a given sentence.\n",
    "Example:\n",
    " Input: \"Python is fun\"\n",
    " Output: \"fun is Python\" "
   ]
  },
  {
   "cell_type": "code",
   "execution_count": 20,
   "id": "c943d2c0-d01e-49cf-a82e-541b84eb969f",
   "metadata": {},
   "outputs": [],
   "source": [
    "def r():\n",
    "    s=\"python is fun\"\n",
    "    rev=' '.join(s.split(' ')[::-1])\n",
    "    print(rev)"
   ]
  },
  {
   "cell_type": "code",
   "execution_count": 21,
   "id": "e7e0a23b-476c-4aa1-85fa-b8cec5054ddd",
   "metadata": {},
   "outputs": [
    {
     "name": "stdout",
     "output_type": "stream",
     "text": [
      "fun is python\n"
     ]
    }
   ],
   "source": [
    "r()"
   ]
  },
  {
   "cell_type": "code",
   "execution_count": 22,
   "id": "82f4a267-ec59-4bc6-9403-7acc03c309b7",
   "metadata": {},
   "outputs": [],
   "source": [
    "def reverse_word(a):\n",
    "    re=' '.join(a.split(' ')[::-1])\n",
    "    print(re)"
   ]
  },
  {
   "cell_type": "code",
   "execution_count": 23,
   "id": "443caba5-ca56-4d6e-8e25-970fb9f5c4d7",
   "metadata": {},
   "outputs": [
    {
     "name": "stdout",
     "output_type": "stream",
     "text": [
      "fun is python\n"
     ]
    }
   ],
   "source": [
    "reverse_word('python is fun')"
   ]
  },
  {
   "cell_type": "markdown",
   "id": "33203b46-f774-4558-9d9d-9abf22fa3580",
   "metadata": {},
   "source": [
    "2. Write a program to calculate the sum of digits in a given number.\n",
    "Example:\n",
    " Input: 123\n",
    " Output: 6"
   ]
  },
  {
   "cell_type": "code",
   "execution_count": 24,
   "id": "745997b6-65e4-491e-959a-d50356684af5",
   "metadata": {},
   "outputs": [],
   "source": [
    "def sod(a,b,c):\n",
    "    return a+b+c"
   ]
  },
  {
   "cell_type": "code",
   "execution_count": 25,
   "id": "32cf0b0c-e39a-4ae3-a243-05600f613dfa",
   "metadata": {},
   "outputs": [
    {
     "data": {
      "text/plain": [
       "6"
      ]
     },
     "execution_count": 25,
     "metadata": {},
     "output_type": "execute_result"
    }
   ],
   "source": [
    "sod(1,2,3)"
   ]
  },
  {
   "cell_type": "code",
   "execution_count": 54,
   "id": "6707437e-9f58-4eb7-be2b-57e4d9a284b6",
   "metadata": {},
   "outputs": [],
   "source": [
    "def digit(numbers):\n",
    "    return sum(numbers)"
   ]
  },
  {
   "cell_type": "code",
   "execution_count": 55,
   "id": "5cf0b5c8-ea03-48aa-988d-f1a7c5c26f70",
   "metadata": {},
   "outputs": [
    {
     "data": {
      "text/plain": [
       "6"
      ]
     },
     "execution_count": 55,
     "metadata": {},
     "output_type": "execute_result"
    }
   ],
   "source": [
    "l=[1,2,3]\n",
    "digit(l)"
   ]
  },
  {
   "cell_type": "markdown",
   "id": "cbc2634b-6fd9-4d46-a523-5e09775bbbf5",
   "metadata": {},
   "source": [
    "3. Write a Python function to count the number of vowels in a string.\n",
    "Example:\n",
    " Input: \"hello world\"\n",
    " Output: 3"
   ]
  },
  {
   "cell_type": "code",
   "execution_count": 52,
   "id": "f890471b-179c-4aad-a5ed-8f5e73024ad7",
   "metadata": {},
   "outputs": [],
   "source": [
    "def cnv(s):\n",
    "    vowels='a', 'e', 'i' , 'o' , 'u'\n",
    "    count=0\n",
    "    for i in s:\n",
    "        if i in vowels:\n",
    "            count+=1\n",
    "    print(count)"
   ]
  },
  {
   "cell_type": "code",
   "execution_count": 53,
   "id": "3a4e933c-c9ef-4373-881d-77882f3c3849",
   "metadata": {},
   "outputs": [
    {
     "name": "stdout",
     "output_type": "stream",
     "text": [
      "3\n"
     ]
    }
   ],
   "source": [
    "cnv(\"hello world\")"
   ]
  },
  {
   "cell_type": "code",
   "execution_count": 71,
   "id": "74900920-b83c-4f80-9784-7cfefdef6363",
   "metadata": {},
   "outputs": [
    {
     "name": "stdout",
     "output_type": "stream",
     "text": [
      "10\n"
     ]
    }
   ],
   "source": [
    "cnv(\"hi everyone. how do you do\")"
   ]
  },
  {
   "cell_type": "markdown",
   "id": "aac347a2-1e05-4e1b-a150-1bc0bc1b8daa",
   "metadata": {},
   "source": [
    "4. Write a program to check whether a string is a palindrome.\n",
    "Example:\n",
    " Input: \"madam\"\n",
    " Output: True"
   ]
  },
  {
   "cell_type": "code",
   "execution_count": 68,
   "id": "00cb300b-a350-403f-8104-bf1c9a9feb18",
   "metadata": {},
   "outputs": [],
   "source": [
    "def palindrome(w):\n",
    "    print(w[::-1]==w)        "
   ]
  },
  {
   "cell_type": "code",
   "execution_count": 69,
   "id": "bac56028-72fd-4b2f-a7e7-885b2d800e98",
   "metadata": {},
   "outputs": [
    {
     "name": "stdout",
     "output_type": "stream",
     "text": [
      "True\n"
     ]
    }
   ],
   "source": [
    "palindrome('mam')"
   ]
  },
  {
   "cell_type": "code",
   "execution_count": 70,
   "id": "f3d4c119-fd89-411f-820c-6e0982f999f8",
   "metadata": {},
   "outputs": [
    {
     "name": "stdout",
     "output_type": "stream",
     "text": [
      "False\n"
     ]
    }
   ],
   "source": [
    "palindrome('ass')"
   ]
  },
  {
   "cell_type": "markdown",
   "id": "c598fcee-38e1-4312-9ca3-adb0e96d7419",
   "metadata": {},
   "source": [
    "5. Write a function to find the largest number in a list without using max() function.\n",
    "Example:\n",
    " Input: [5, 12, 7, 9]\n",
    " Output: 12"
   ]
  },
  {
   "cell_type": "code",
   "execution_count": 77,
   "id": "b0b20025-c68f-45c5-972e-42ff67e2804a",
   "metadata": {},
   "outputs": [],
   "source": [
    "def largest(numbers):\n",
    "    numbers.sort()\n",
    "    return numbers[-1] \n",
    "    "
   ]
  },
  {
   "cell_type": "code",
   "execution_count": 78,
   "id": "ac9dc522-e6c8-4c19-a022-3662a29b5e78",
   "metadata": {},
   "outputs": [
    {
     "name": "stdout",
     "output_type": "stream",
     "text": [
      "88\n"
     ]
    }
   ],
   "source": [
    "n=[1,12,7,9,88]\n",
    "print(largest(n))"
   ]
  },
  {
   "cell_type": "code",
   "execution_count": 79,
   "id": "bdff7cd2-4726-4f92-8c01-ce6b11ba81a7",
   "metadata": {},
   "outputs": [
    {
     "data": {
      "text/plain": [
       "12"
      ]
     },
     "execution_count": 79,
     "metadata": {},
     "output_type": "execute_result"
    }
   ],
   "source": [
    "n=[5, 12, 7, 9]\n",
    "largest(n)"
   ]
  },
  {
   "cell_type": "markdown",
   "id": "c0fdd789-fe22-468b-9641-62aea059c66f",
   "metadata": {},
   "source": [
    "6. Write a Python program to remove duplicate values from a list.\n",
    "Example:\n",
    " Input: [1, 2, 2, 3, 1]\n",
    " Output: [1, 2, 3]"
   ]
  },
  {
   "cell_type": "code",
   "execution_count": 80,
   "id": "72f33dad-f673-4b3a-baa3-7a61d27c962f",
   "metadata": {},
   "outputs": [],
   "source": [
    "def remove_duplicate(numbers):\n",
    "    n=set(numbers)\n",
    "    return list(n)\n",
    "    "
   ]
  },
  {
   "cell_type": "code",
   "execution_count": 82,
   "id": "a8963378-7187-4cc7-b835-a63cb16af6c0",
   "metadata": {},
   "outputs": [
    {
     "data": {
      "text/plain": [
       "[1, 2, 3]"
      ]
     },
     "execution_count": 82,
     "metadata": {},
     "output_type": "execute_result"
    }
   ],
   "source": [
    "i=[1, 2, 2, 3, 1]\n",
    "remove_duplicate(i)"
   ]
  },
  {
   "cell_type": "markdown",
   "id": "f6e2b160-ed8c-44fe-97ec-cf511e4b0373",
   "metadata": {},
   "source": [
    "7. Write a program to find the factorial of a given number.\n",
    "Example:\n",
    " Input: 5\n",
    " Output: 120"
   ]
  },
  {
   "cell_type": "code",
   "execution_count": 83,
   "id": "375b2b84-08b1-42f6-a0a2-4c8813fd1b5e",
   "metadata": {},
   "outputs": [],
   "source": [
    "import math\n",
    "def fact(a):\n",
    "    return math.factorial(a)"
   ]
  },
  {
   "cell_type": "code",
   "execution_count": 84,
   "id": "9dc36d53-6b24-4d51-a37b-5e268c9c13c7",
   "metadata": {},
   "outputs": [
    {
     "data": {
      "text/plain": [
       "120"
      ]
     },
     "execution_count": 84,
     "metadata": {},
     "output_type": "execute_result"
    }
   ],
   "source": [
    "fact(5)"
   ]
  },
  {
   "cell_type": "markdown",
   "id": "8f89bfe5-b03c-45a5-bf9b-0a2c69d20028",
   "metadata": {},
   "source": [
    "8. Write a Python program to return all even numbers in a list.\n",
    "Example:\n",
    " Input: [1, 4, 5, 6]\n",
    " Output: [4, 6]"
   ]
  },
  {
   "cell_type": "code",
   "execution_count": 92,
   "id": "66696b52-ee7c-45c1-847b-c3ae52268d4a",
   "metadata": {},
   "outputs": [],
   "source": [
    "def even(numbers):\n",
    "    for i in numbers:\n",
    "        if i%2==0:\n",
    "            print(i)         \n",
    "      "
   ]
  },
  {
   "cell_type": "code",
   "execution_count": 93,
   "id": "52cc4647-0a00-4d0d-b739-39920f74e121",
   "metadata": {},
   "outputs": [
    {
     "name": "stdout",
     "output_type": "stream",
     "text": [
      "4\n",
      "6\n"
     ]
    }
   ],
   "source": [
    "e=[1, 4, 5, 6]\n",
    "even(e)"
   ]
  },
  {
   "cell_type": "markdown",
   "id": "e3b0c0bc-25d7-4f5b-984f-07f2cc14f291",
   "metadata": {},
   "source": [
    "9. Write a function to count how many times each character appears in a string.\n",
    "Example:\n",
    " Input: \"banana\"\n",
    " Output: {'b': 1, 'a': 3, 'n': 2}"
   ]
  },
  {
   "cell_type": "code",
   "execution_count": 96,
   "id": "fbcdab60-dc09-4c63-8e30-bbdb494dd2a3",
   "metadata": {},
   "outputs": [],
   "source": [
    "def count_characters(a):\n",
    "    count={}\n",
    "    for i in a:\n",
    "        if i in count:\n",
    "            count[i]+=1\n",
    "        else:\n",
    "            count[i]=1\n",
    "    print(count)"
   ]
  },
  {
   "cell_type": "code",
   "execution_count": 97,
   "id": "eafc2af9-f0f5-47fe-9d32-5a3a2a91f3b7",
   "metadata": {},
   "outputs": [
    {
     "name": "stdout",
     "output_type": "stream",
     "text": [
      "{'a': 1, 'p': 2, 'l': 1, 'e': 1}\n"
     ]
    }
   ],
   "source": [
    "count_characters('apple')"
   ]
  },
  {
   "cell_type": "markdown",
   "id": "c14f2a0b-92f3-4f60-a5f9-502db722b9b3",
   "metadata": {},
   "source": [
    "10.Write a Python program to count the number of words in a sentence.\n",
    "Example:\n",
    " Input: \"Python is easy to learn\"\n",
    " Output: 5"
   ]
  },
  {
   "cell_type": "code",
   "execution_count": 99,
   "id": "a8308f7b-9d25-4510-8783-1f3a9a4c5058",
   "metadata": {},
   "outputs": [],
   "source": [
    "def count_words(a):\n",
    "    b= a.split()\n",
    "    return len(b)"
   ]
  },
  {
   "cell_type": "code",
   "execution_count": 100,
   "id": "adecce22-7a86-48c3-9a57-4ec28c34eb98",
   "metadata": {},
   "outputs": [
    {
     "data": {
      "text/plain": [
       "5"
      ]
     },
     "execution_count": 100,
     "metadata": {},
     "output_type": "execute_result"
    }
   ],
   "source": [
    "count_words(\"Python is easy to learn\")"
   ]
  },
  {
   "cell_type": "code",
   "execution_count": 102,
   "id": "a65cb4a9-2384-492a-bfe8-b4ecdb3f6b6f",
   "metadata": {},
   "outputs": [
    {
     "data": {
      "text/plain": [
       "7"
      ]
     },
     "execution_count": 102,
     "metadata": {},
     "output_type": "execute_result"
    }
   ],
   "source": [
    "count_words(\"good morning. hope you are doing good\")"
   ]
  },
  {
   "cell_type": "markdown",
   "id": "9e9774b7-befe-4e2c-97f4-cf45393bb507",
   "metadata": {},
   "source": [
    "11.Write a program to check if two strings are anagrams.\n",
    "Example:\n",
    " Input: \"listen\", \"silent\"\n",
    " Output: True"
   ]
  },
  {
   "cell_type": "code",
   "execution_count": 13,
   "id": "364ddcf2-f19d-49a1-a812-2982b50d8907",
   "metadata": {},
   "outputs": [
    {
     "name": "stdout",
     "output_type": "stream",
     "text": [
      "False\n"
     ]
    }
   ],
   "source": [
    "def anagrams(str1,str2):\n",
    "    s1=sorted(str1)\n",
    "    s2=sorted(str2)\n",
    "    return s1==s2\n",
    "print(anagrams('hello','hi'))"
   ]
  },
  {
   "cell_type": "code",
   "execution_count": 14,
   "id": "b612a40a-a83f-4dd3-85ba-8a083f676bee",
   "metadata": {},
   "outputs": [
    {
     "data": {
      "text/plain": [
       "True"
      ]
     },
     "execution_count": 14,
     "metadata": {},
     "output_type": "execute_result"
    }
   ],
   "source": [
    "anagrams('silent','listen')"
   ]
  },
  {
   "cell_type": "markdown",
   "id": "ec8dc517-c2ba-446c-a9d2-e4675d5d3a8a",
   "metadata": {},
   "source": [
    "12.Write a Python function to convert Celsius temperature to Fahrenheit.\n",
    "Example:\n",
    " Input: 0\n",
    " Output: 32.0"
   ]
  },
  {
   "cell_type": "code",
   "execution_count": 18,
   "id": "642a0a33-6fc2-4a26-9174-7163503c1b05",
   "metadata": {},
   "outputs": [
    {
     "data": {
      "text/plain": [
       "32.0"
      ]
     },
     "execution_count": 18,
     "metadata": {},
     "output_type": "execute_result"
    }
   ],
   "source": [
    "def cel_to_fah(C):\n",
    "    F = (C * 9/5) + 32\n",
    "    return F\n",
    "cel_to_fah(0)"
   ]
  },
  {
   "cell_type": "markdown",
   "id": "8ca5a02b-070f-4273-b683-90aefe07e3fe",
   "metadata": {},
   "source": [
    "13.Write a program to count how many uppercase letters are in a string.\n",
    "Example:\n",
    " Input: \"Hello World\"\n",
    " Output: 2"
   ]
  },
  {
   "cell_type": "code",
   "execution_count": 22,
   "id": "3223f85a-c921-478b-ac41-9bcc2175102a",
   "metadata": {},
   "outputs": [
    {
     "data": {
      "text/plain": [
       "6"
      ]
     },
     "execution_count": 22,
     "metadata": {},
     "output_type": "execute_result"
    }
   ],
   "source": [
    "def uppercase(A):\n",
    "    count=0\n",
    "    for i in A:\n",
    "        if i.isupper():\n",
    "            count+=1\n",
    "    return count\n",
    "uppercase(\"HeLLO worLD\")"
   ]
  },
  {
   "cell_type": "markdown",
   "id": "147ac278-43fa-4093-ace1-dd5583181a19",
   "metadata": {},
   "source": [
    "14.Write a Python function to find the second largest number in a list.\n",
    "Example:\n",
    " Input: [10, 20, 15, 5]\n",
    " Output: 15"
   ]
  },
  {
   "cell_type": "code",
   "execution_count": 40,
   "id": "14177008-7ba1-4417-8758-80ad5af030a0",
   "metadata": {},
   "outputs": [
    {
     "data": {
      "text/plain": [
       "15"
      ]
     },
     "execution_count": 40,
     "metadata": {},
     "output_type": "execute_result"
    }
   ],
   "source": [
    "def sec_lar(numbers):\n",
    "    numbers.sort()\n",
    "    slar=numbers[-2]\n",
    "    return slar    \n",
    "    \n",
    "l=[10, 20, 15, 5]\n",
    "sec_lar(l)"
   ]
  },
  {
   "cell_type": "markdown",
   "id": "32f89e56-375c-4bfc-962d-6db3fd817ac0",
   "metadata": {},
   "source": [
    "15.Write a function to merge two lists into one.\n",
    "Example:\n",
    " Input: [1, 2], [3, 4]\n",
    " Output: [1, 2, 3, 4]"
   ]
  },
  {
   "cell_type": "code",
   "execution_count": 54,
   "id": "bfa7ca4d-0813-4029-aff0-b8bdb66c56d0",
   "metadata": {},
   "outputs": [],
   "source": [
    "def merge2list(numbers1,numbers2):\n",
    "    return numbers1+numbers2\n",
    "    "
   ]
  },
  {
   "cell_type": "code",
   "execution_count": 55,
   "id": "55071cc0-6ee1-4bf2-bc67-07080e375ee3",
   "metadata": {},
   "outputs": [
    {
     "data": {
      "text/plain": [
       "[1, 2, 3, 4]"
      ]
     },
     "execution_count": 55,
     "metadata": {},
     "output_type": "execute_result"
    }
   ],
   "source": [
    "j= [1, 2]\n",
    "k=[3,4]\n",
    "merge2list(j,k)"
   ]
  },
  {
   "cell_type": "code",
   "execution_count": null,
   "id": "c60ec013-1406-43d4-bc0c-7e0dd3b34135",
   "metadata": {},
   "outputs": [],
   "source": [
    "16.Write a program to find common elements in two lists.\n",
    "Example:\n",
    " Input: [1, 2, 3], [2, 3, 4]\n",
    " Output: [2, 3]"
   ]
  },
  {
   "cell_type": "code",
   "execution_count": 62,
   "id": "5bbdaa72-55f9-46f2-83ee-7c6202acccb0",
   "metadata": {},
   "outputs": [],
   "source": [
    "def common(numbers1,numbers2):\n",
    "    a=set(numbers1)\n",
    "    b=set(numbers2)\n",
    "    c=a&b\n",
    "    return list(c)"
   ]
  },
  {
   "cell_type": "code",
   "execution_count": 63,
   "id": "b94b90e1-5620-4431-a546-ad93931a2274",
   "metadata": {},
   "outputs": [
    {
     "data": {
      "text/plain": [
       "[2, 3]"
      ]
     },
     "execution_count": 63,
     "metadata": {},
     "output_type": "execute_result"
    }
   ],
   "source": [
    "i=[1, 2, 3]\n",
    "j=[2, 3, 4]\n",
    "common(i,j)"
   ]
  },
  {
   "cell_type": "markdown",
   "id": "8550b7cd-fa7e-4ce5-b2c3-78c738b2e161",
   "metadata": {},
   "source": [
    "17.Write a function to return the square of each number in a list.\n",
    "Example:\n",
    " Input: [1, 2, 3]\n",
    " Output: [1, 4, 9]"
   ]
  },
  {
   "cell_type": "code",
   "execution_count": 74,
   "id": "84d88232-c545-463a-98be-68b4b1bc8244",
   "metadata": {},
   "outputs": [],
   "source": [
    "def sq(numbers):\n",
    "    return [x**2 for x in numbers]\n",
    "    "
   ]
  },
  {
   "cell_type": "code",
   "execution_count": 75,
   "id": "3498ce1c-4a22-4397-bef1-efcac526aff8",
   "metadata": {},
   "outputs": [
    {
     "name": "stdout",
     "output_type": "stream",
     "text": [
      "[1, 4, 9]\n"
     ]
    }
   ],
   "source": [
    "l= [1, 2, 3]\n",
    "print(sq(l))"
   ]
  },
  {
   "cell_type": "markdown",
   "id": "f06b1ba7-ef39-4c3a-a0e9-88d45e146108",
   "metadata": {},
   "source": [
    "18.Write a Python function that returns the count of even and odd numbers in a list.\n",
    "Example:\n",
    " Input: [1, 2, 3, 4]\n",
    " Output: (2, 2)"
   ]
  },
  {
   "cell_type": "code",
   "execution_count": 77,
   "id": "088a1b05-57e3-41e7-955d-12a44b11f14c",
   "metadata": {},
   "outputs": [],
   "source": [
    "def counteo(numbers):\n",
    "    counteven=[]\n",
    "    countodd=[]\n",
    "    for i in numbers:\n",
    "        if i%2==0:\n",
    "            counteven.append(i)\n",
    "        else:\n",
    "            countodd.append(i)\n",
    "    return (len(counteven),len(countodd))"
   ]
  },
  {
   "cell_type": "code",
   "execution_count": 78,
   "id": "9a8dcbc9-2c53-4645-800c-87711a86dc62",
   "metadata": {},
   "outputs": [
    {
     "data": {
      "text/plain": [
       "(2, 2)"
      ]
     },
     "execution_count": 78,
     "metadata": {},
     "output_type": "execute_result"
    }
   ],
   "source": [
    "l=[1, 2, 3, 4]\n",
    "counteo(l)"
   ]
  },
  {
   "cell_type": "markdown",
   "id": "05683bc6-9f30-4109-b71e-53eb8d493f10",
   "metadata": {},
   "source": [
    "19.Write a program to swap the first and last elements in a list.\n",
    "Example:\n",
    " Input: [1, 2, 3, 4]\n",
    " Output: [4, 2, 3, 1]"
   ]
  },
  {
   "cell_type": "code",
   "execution_count": 86,
   "id": "0ab7ac80-0181-4fd4-ab25-13fc3533cea5",
   "metadata": {},
   "outputs": [],
   "source": [
    "def swape(numbers):\n",
    "    numbers[0],numbers[-1]=numbers[-1],numbers[0]\n",
    "    return numbers"
   ]
  },
  {
   "cell_type": "code",
   "execution_count": 87,
   "id": "9bae8208-153b-4e27-acb5-2461cd037cde",
   "metadata": {},
   "outputs": [
    {
     "data": {
      "text/plain": [
       "[4, 2, 3, 1]"
      ]
     },
     "execution_count": 87,
     "metadata": {},
     "output_type": "execute_result"
    }
   ],
   "source": [
    "l=[1, 2, 3, 4]\n",
    "swape(l)"
   ]
  },
  {
   "cell_type": "markdown",
   "id": "ad68e622-085f-45c0-b300-2535f17a8c4c",
   "metadata": {},
   "source": [
    "20.Write a Python program to find the sum of elements in a list.\n",
    "Example:\n",
    " Input: [1, 2, 3]\n",
    " Output: 6"
   ]
  },
  {
   "cell_type": "code",
   "execution_count": 88,
   "id": "59570215-eaed-4c17-86b3-c5b0b3d213bf",
   "metadata": {},
   "outputs": [],
   "source": [
    "def sume(numbers):\n",
    "    return sum(numbers)\n",
    "    "
   ]
  },
  {
   "cell_type": "code",
   "execution_count": 89,
   "id": "b88e8328-720d-44fd-b0ce-ba27d9b8cbbf",
   "metadata": {},
   "outputs": [
    {
     "data": {
      "text/plain": [
       "6"
      ]
     },
     "execution_count": 89,
     "metadata": {},
     "output_type": "execute_result"
    }
   ],
   "source": [
    "l=[1, 2, 3]\n",
    "sume(l)"
   ]
  },
  {
   "cell_type": "markdown",
   "id": "ee088ed9-8e87-4ede-963d-8d9e16e1fb3c",
   "metadata": {},
   "source": [
    "21.Write a function to return the longest word in a sentence.\n",
    "Example:\n",
    " Input: \"Python is amazing\"\n",
    " Output: \"amazing\""
   ]
  },
  {
   "cell_type": "code",
   "execution_count": 104,
   "id": "18a1bf3b-58cf-4ad3-8699-aacd315f20cd",
   "metadata": {},
   "outputs": [],
   "source": [
    "def longword(a):\n",
    "    words=a.split()\n",
    "    long=\"\"\n",
    "    for word in words:\n",
    "        if len(word)>len(long):\n",
    "            long=word\n",
    "    print( long)"
   ]
  },
  {
   "cell_type": "code",
   "execution_count": 105,
   "id": "743cd8e5-f35c-404c-941d-3ccbd22cbdbf",
   "metadata": {},
   "outputs": [
    {
     "name": "stdout",
     "output_type": "stream",
     "text": [
      "amazing\n"
     ]
    }
   ],
   "source": [
    "longword(' Python is amazing')"
   ]
  },
  {
   "cell_type": "markdown",
   "id": "5962d6c8-49f4-4e98-b68c-22bdf706dd4e",
   "metadata": {},
   "source": [
    "22.Write a program that prints the multiplication table of a number up to 10.\n",
    "Example:\n",
    " Input: 5\n",
    " Output:\n",
    "5 x 1 = 5\n",
    "5 x 2 = 10\n",
    "...\n",
    "5 x 10 = 50"
   ]
  },
  {
   "cell_type": "code",
   "execution_count": 107,
   "id": "bd712453-c09a-4097-a3a6-0fe06e3a32b0",
   "metadata": {},
   "outputs": [
    {
     "name": "stdout",
     "output_type": "stream",
     "text": [
      "6 * 1 = 6\n",
      "6 * 2 = 12\n",
      "6 * 3 = 18\n",
      "6 * 4 = 24\n",
      "6 * 5 = 30\n",
      "6 * 6 = 36\n",
      "6 * 7 = 42\n",
      "6 * 8 = 48\n",
      "6 * 9 = 54\n",
      "6 * 10 = 60\n"
     ]
    }
   ],
   "source": [
    "def tables(a):\n",
    "    for i in range(1,11):\n",
    "        f=a*i\n",
    "        print(a,'*',i,'=',f)\n",
    "tables(6)\n",
    "    "
   ]
  },
  {
   "cell_type": "markdown",
   "id": "04a3df7a-69b3-45da-b8a1-35fd76e99649",
   "metadata": {},
   "source": [
    "23.Write a function to count the number of times a specific character appears in a string.\n",
    "Example:\n",
    " Input: \"hello world\", 'l'\n",
    " Output: 3"
   ]
  },
  {
   "cell_type": "code",
   "execution_count": 114,
   "id": "5023c13c-af37-4579-a98c-9e6cd42660ee",
   "metadata": {},
   "outputs": [
    {
     "data": {
      "text/plain": [
       "3"
      ]
     },
     "execution_count": 114,
     "metadata": {},
     "output_type": "execute_result"
    }
   ],
   "source": [
    "def csc(str1,str2):\n",
    "    count=0\n",
    "    for i in str1:\n",
    "        if i == str2:\n",
    "            count+=1\n",
    "    return count\n",
    "csc(\"hello world\", \"l\")\n",
    "            "
   ]
  },
  {
   "cell_type": "code",
   "execution_count": 115,
   "id": "20322006-0623-4093-8de2-9c4b505f75a7",
   "metadata": {},
   "outputs": [
    {
     "data": {
      "text/plain": [
       "2"
      ]
     },
     "execution_count": 115,
     "metadata": {},
     "output_type": "execute_result"
    }
   ],
   "source": [
    "csc('hello','l')"
   ]
  },
  {
   "cell_type": "markdown",
   "id": "6ab10928-cd44-4273-8136-1bd4b6b463d5",
   "metadata": {},
   "source": [
    "24.Write a program to check if one string is a substring of another.\n",
    "Example:\n",
    " Input: \"hello\", \"ell\"\n",
    " Output: True"
   ]
  },
  {
   "cell_type": "code",
   "execution_count": 118,
   "id": "12aac9f1-9987-4b57-9e93-a429f9150b75",
   "metadata": {},
   "outputs": [
    {
     "data": {
      "text/plain": [
       "True"
      ]
     },
     "execution_count": 118,
     "metadata": {},
     "output_type": "execute_result"
    }
   ],
   "source": [
    "def subs(str1,str2):\n",
    "    s=str1.lower()\n",
    "    t=str2.lower()\n",
    "    return t in s\n",
    "subs(\"hello\", \"ell\")\n"
   ]
  },
  {
   "cell_type": "code",
   "execution_count": 119,
   "id": "63a25616-1a82-4694-8e81-ce6b26dadb9f",
   "metadata": {},
   "outputs": [
    {
     "data": {
      "text/plain": [
       "False"
      ]
     },
     "execution_count": 119,
     "metadata": {},
     "output_type": "execute_result"
    }
   ],
   "source": [
    "subs('mom','gun')"
   ]
  },
  {
   "cell_type": "markdown",
   "id": "ce736b6a-73e3-40de-a95f-b23877a4dd4c",
   "metadata": {},
   "source": [
    "25.Write a Python program to count the number of negative numbers in a list.\n",
    "Example:\n",
    " Input: [-1, 2, -3, 4]\n",
    " Output: 2"
   ]
  },
  {
   "cell_type": "code",
   "execution_count": null,
   "id": "45de95f8-1a22-4ffb-9b01-adb33b98b014",
   "metadata": {},
   "outputs": [],
   "source": [
    "def neg(numbers):\n",
    "    neg=[]\n",
    "    for i in numbers:\n",
    "        if i<0:\n",
    "        neg.append(i)\n",
    "    return neg\n",
    "l= [-1, 2, -3, 4]\n"
   ]
  }
 ],
 "metadata": {
  "kernelspec": {
   "display_name": "Python 3 (ipykernel)",
   "language": "python",
   "name": "python3"
  },
  "language_info": {
   "codemirror_mode": {
    "name": "ipython",
    "version": 3
   },
   "file_extension": ".py",
   "mimetype": "text/x-python",
   "name": "python",
   "nbconvert_exporter": "python",
   "pygments_lexer": "ipython3",
   "version": "3.13.1"
  }
 },
 "nbformat": 4,
 "nbformat_minor": 5
}
