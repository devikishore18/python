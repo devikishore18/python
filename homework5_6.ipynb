{
 "cells": [
  {
   "cell_type": "code",
   "execution_count": 2,
   "id": "93d7b44e-ae79-4b09-a138-17a6f75f948a",
   "metadata": {},
   "outputs": [
    {
     "data": {
      "text/plain": [
       "['Lorem',\n",
       " 'ipsum',\n",
       " 'dolor',\n",
       " 'sit',\n",
       " 'amet,',\n",
       " 'consectetur',\n",
       " 'adipiscing',\n",
       " 'elit.',\n",
       " 'Sed',\n",
       " 'do',\n",
       " 'eiusmod',\n",
       " 'tempor',\n",
       " 'incididunt',\n",
       " 'ut',\n",
       " 'labore',\n",
       " 'et',\n",
       " 'dolore',\n",
       " 'magna',\n",
       " 'aliqua.']"
      ]
     },
     "execution_count": 2,
     "metadata": {},
     "output_type": "execute_result"
    }
   ],
   "source": [
    "text= '''Lorem ipsum dolor sit amet, consectetur adipiscing elit. \n",
    "Sed do eiusmod tempor incididunt ut labore et dolore magna aliqua.'''\n",
    "var= text.split()\n",
    "var"
   ]
  },
  {
   "cell_type": "code",
   "execution_count": 13,
   "id": "73b0f82f-c793-4133-b14d-5d52cfb532d0",
   "metadata": {},
   "outputs": [
    {
     "data": {
      "text/plain": [
       "{'Lorem',\n",
       " 'Sed',\n",
       " 'adipiscing',\n",
       " 'aliqua.',\n",
       " 'amet,',\n",
       " 'consectetur',\n",
       " 'do',\n",
       " 'dolor',\n",
       " 'dolore',\n",
       " 'eiusmod',\n",
       " 'elit.',\n",
       " 'et',\n",
       " 'incididunt',\n",
       " 'ipsum',\n",
       " 'labore',\n",
       " 'magna',\n",
       " 'sit',\n",
       " 'tempor',\n",
       " 'ut'}"
      ]
     },
     "execution_count": 13,
     "metadata": {},
     "output_type": "execute_result"
    }
   ],
   "source": [
    "word_containing_vowel=[]\n",
    "word_not_containing_vowel=[]\n",
    "for i in var:\n",
    "    for j in i:\n",
    "        if j == 'a' or'e' or 'i' or'o' or 'u':\n",
    "            word_containing_vowel.append(i)\n",
    "        else:\n",
    "            word_not_containing_vowel.append(i)\n",
    "set(word_containing_vowel)\n",
    "   \n",
    "        \n",
    "    \n"
   ]
  },
  {
   "cell_type": "code",
   "execution_count": 17,
   "id": "6590ab63-81ea-48e4-a2a3-d378150881f1",
   "metadata": {},
   "outputs": [
    {
     "data": {
      "text/plain": [
       "set()"
      ]
     },
     "execution_count": 17,
     "metadata": {},
     "output_type": "execute_result"
    }
   ],
   "source": [
    "set(word_not_containing_vowel)"
   ]
  },
  {
   "cell_type": "code",
   "execution_count": null,
   "id": "58436b73-eb2a-4adf-b2b3-5811f42ff4ef",
   "metadata": {},
   "outputs": [],
   "source": []
  }
 ],
 "metadata": {
  "kernelspec": {
   "display_name": "Python 3 (ipykernel)",
   "language": "python",
   "name": "python3"
  },
  "language_info": {
   "codemirror_mode": {
    "name": "ipython",
    "version": 3
   },
   "file_extension": ".py",
   "mimetype": "text/x-python",
   "name": "python",
   "nbconvert_exporter": "python",
   "pygments_lexer": "ipython3",
   "version": "3.13.1"
  }
 },
 "nbformat": 4,
 "nbformat_minor": 5
}
