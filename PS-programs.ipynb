{
 "cells": [
  {
   "cell_type": "code",
   "execution_count": 10,
   "id": "9aab6d11-d5a8-41ed-9d50-7aac79f4189d",
   "metadata": {},
   "outputs": [],
   "source": [
    "#REVERSE A NUMBER\n",
    "def rev_number(n):\n",
    "    while n>0:\n",
    "        r=n%10\n",
    "        print(r, end='')\n",
    "        n=n//10\n"
   ]
  },
  {
   "cell_type": "code",
   "execution_count": 11,
   "id": "bfda88de-09bb-49fb-9168-6854671e1461",
   "metadata": {},
   "outputs": [
    {
     "name": "stdout",
     "output_type": "stream",
     "text": [
      "54321"
     ]
    }
   ],
   "source": [
    "rev_number(12345)\n"
   ]
  },
  {
   "cell_type": "code",
   "execution_count": 9,
   "id": "da23f7eb-5fbb-46dd-b552-738a5af055c5",
   "metadata": {},
   "outputs": [],
   "source": [
    "#REVERSE A NUMBER\n",
    "def rn(n):\n",
    "    r=0\n",
    "    while n!=0:\n",
    "        res=n%10\n",
    "        r=r*10+res\n",
    "        n=n//10\n",
    "    print(r)\n"
   ]
  },
  {
   "cell_type": "code",
   "execution_count": 48,
   "id": "c0c64aa6-6b41-45cc-a81b-4c1f8f1bd4b9",
   "metadata": {},
   "outputs": [
    {
     "name": "stdout",
     "output_type": "stream",
     "text": [
      "54321\n"
     ]
    }
   ],
   "source": [
    "rn(12345)\n"
   ]
  },
  {
   "cell_type": "code",
   "execution_count": 6,
   "id": "99968dad-8225-4272-9895-c687a5deeee7",
   "metadata": {},
   "outputs": [
    {
     "name": "stdout",
     "output_type": "stream",
     "text": [
      "321 6\n"
     ]
    }
   ],
   "source": [
    "#REVERSE A NUMBER WITHOUT FUNCTION\n",
    "n=123\n",
    "r=0\n",
    "s=0\n",
    "while n!=0:\n",
    "    res=n%10\n",
    "    s=s+res\n",
    "    r=r*10+res\n",
    "    n=n//10\n",
    "print(r,s)"
   ]
  },
  {
   "cell_type": "code",
   "execution_count": 7,
   "id": "ed23fea2-f8f7-405f-84ec-22576aa391f8",
   "metadata": {},
   "outputs": [],
   "source": [
    "#SUM OF NUMBER \n",
    "def sum_digits(n):\n",
    "    s=0\n",
    "    while n>0:\n",
    "        s=s+n%10\n",
    "        n=n//10\n",
    "    print(s)\n"
   ]
  },
  {
   "cell_type": "code",
   "execution_count": 8,
   "id": "d315d099-9e42-48c8-804d-4b5ef52f7d15",
   "metadata": {},
   "outputs": [
    {
     "name": "stdout",
     "output_type": "stream",
     "text": [
      "6\n"
     ]
    }
   ],
   "source": [
    "sum_digits(123)"
   ]
  },
  {
   "cell_type": "code",
   "execution_count": 31,
   "id": "ade4bcd4-f6d1-4c84-8179-bd882f5a793f",
   "metadata": {},
   "outputs": [],
   "source": [
    "#CHECK WHETHER EACH NUMBER IN THE NUMBER IS EVEN. IF IT IS EVEN PRINT TRUE. ELSE FALSE. 124=FALSE, 222=EVEN\n",
    "def ev_odd(n):\n",
    "    a='true'\n",
    "    for i in str(n):\n",
    "        b=int(i)\n",
    "        if b%2!=0:\n",
    "            a='false'\n",
    "            break  \n",
    "    print(a)"
   ]
  },
  {
   "cell_type": "code",
   "execution_count": 32,
   "id": "2643e3a7-9738-4ed6-877a-f2565fe71c47",
   "metadata": {},
   "outputs": [
    {
     "name": "stdout",
     "output_type": "stream",
     "text": [
      "false\n"
     ]
    }
   ],
   "source": [
    "ev_odd(22001394)"
   ]
  },
  {
   "cell_type": "code",
   "execution_count": 53,
   "id": "b8c430d3-4417-401b-a236-e6318b8f3bf4",
   "metadata": {},
   "outputs": [],
   "source": [
    "def number(num):\n",
    "    s=0\n",
    "    for i in range(1,num+1):\n",
    "        s=s+i\n",
    "    return s"
   ]
  },
  {
   "cell_type": "code",
   "execution_count": 54,
   "id": "1bee43dd-c3c9-428a-b05e-cf9b97827f4e",
   "metadata": {},
   "outputs": [
    {
     "data": {
      "text/plain": [
       "10"
      ]
     },
     "execution_count": 54,
     "metadata": {},
     "output_type": "execute_result"
    }
   ],
   "source": [
    "number(4)"
   ]
  },
  {
   "cell_type": "code",
   "execution_count": 57,
   "id": "fc0e38b2-964c-4acf-a854-6b6e24980234",
   "metadata": {},
   "outputs": [],
   "source": [
    "def replacechar(output,ct):\n",
    "    for char in ct:\n",
    "        output=output.replace(char, f'--{char}--')\n",
    "        return output"
   ]
  },
  {
   "cell_type": "code",
   "execution_count": 59,
   "id": "5aaa341a-9216-4a3c-b95a-c54d4e313e99",
   "metadata": {},
   "outputs": [
    {
     "name": "stdout",
     "output_type": "stream",
     "text": [
      "9870\n"
     ]
    }
   ],
   "source": [
    "r=number(140)\n",
    "ct='t38kyb2tu'\n",
    "output=str(r)\n",
    "ms=replacechar(output,ct)\n",
    "print(ms)\n"
   ]
  },
  {
   "cell_type": "code",
   "execution_count": 65,
   "id": "015f8366-2547-44c1-a277-d6eb7ad3c565",
   "metadata": {},
   "outputs": [
    {
     "name": "stdout",
     "output_type": "stream",
     "text": [
      "9--8--70\n"
     ]
    }
   ],
   "source": [
    "def number(num):\n",
    "    return sum(range(1, num + 1))\n",
    "\n",
    "def replacechar(output, ct):\n",
    "    for char in ct:\n",
    "        output = output.replace(char, f'--{char}--')\n",
    "    return output\n",
    "\n",
    "r = number(140)\n",
    "ct = 't38kyb2tu'\n",
    "output = str(r)\n",
    "ms = replacechar(output, ct)\n",
    "print(ms)"
   ]
  },
  {
   "cell_type": "code",
   "execution_count": 64,
   "id": "c9b80bf4-b18a-45f6-9c18-7fc0c4d9baa3",
   "metadata": {},
   "outputs": [],
   "source": [
    "def number(num):\n",
    "    s = 0\n",
    "    ct = 't38kyb2tu'\n",
    "    replacements = {char: f'--{char}--' for char in ct}\n",
    "    for i in range(1, num + 1):\n",
    "        s += i\n",
    "    s_str = str(s)\n",
    "    for char, replacement in replacements.items():\n",
    "        s_str = s_str.replace(char, replacement)\n",
    "    return s_str"
   ]
  },
  {
   "cell_type": "code",
   "execution_count": 63,
   "id": "90179f3d-6ae8-4766-99cd-8beb5cc40ad9",
   "metadata": {},
   "outputs": [
    {
     "data": {
      "text/plain": [
       "'9--8--70'"
      ]
     },
     "execution_count": 63,
     "metadata": {},
     "output_type": "execute_result"
    }
   ],
   "source": [
    "number(140)"
   ]
  },
  {
   "cell_type": "code",
   "execution_count": null,
   "id": "2901ada7-c96f-4811-88fc-f2d7ee574794",
   "metadata": {},
   "outputs": [],
   "source": []
  }
 ],
 "metadata": {
  "kernelspec": {
   "display_name": "Python 3 (ipykernel)",
   "language": "python",
   "name": "python3"
  },
  "language_info": {
   "codemirror_mode": {
    "name": "ipython",
    "version": 3
   },
   "file_extension": ".py",
   "mimetype": "text/x-python",
   "name": "python",
   "nbconvert_exporter": "python",
   "pygments_lexer": "ipython3",
   "version": "3.13.1"
  }
 },
 "nbformat": 4,
 "nbformat_minor": 5
}
