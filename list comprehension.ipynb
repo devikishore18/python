{
 "cells": [
  {
   "cell_type": "code",
   "execution_count": null,
   "id": "92ea5ad7-42b8-4534-91e5-bbb27e28c892",
   "metadata": {},
   "outputs": [],
   "source": [
    "#LIST COMPHRENSION--> Transform loops into concise one - liners for filtering and mapping data\n",
    "#SYNTAX\n",
    "#new_list = [expression for item in iterable if condition]\n"
   ]
  },
  {
   "cell_type": "code",
   "execution_count": 2,
   "id": "023dac1a-136d-4bff-991d-7f68177b0b04",
   "metadata": {},
   "outputs": [
    {
     "data": {
      "text/plain": [
       "[1, 14, 24, 3, 7, 22, 76, 54]"
      ]
     },
     "execution_count": 2,
     "metadata": {},
     "output_type": "execute_result"
    }
   ],
   "source": [
    "#FOR LOOP\n",
    "numbers=[1,14,24,3,7,22,76,54]\n",
    "numbers=[x for x in numbers]\n",
    "numbers\n",
    "         "
   ]
  },
  {
   "cell_type": "code",
   "execution_count": 3,
   "id": "072f2979-3267-4dcd-a990-157f4ced752b",
   "metadata": {},
   "outputs": [
    {
     "data": {
      "text/plain": [
       "[14, 24, 22, 76, 54]"
      ]
     },
     "execution_count": 3,
     "metadata": {},
     "output_type": "execute_result"
    }
   ],
   "source": [
    "#for loop with if condition\n",
    "even_numbers=[x for x in numbers if x%2==0]\n",
    "even_numbers"
   ]
  },
  {
   "cell_type": "code",
   "execution_count": 4,
   "id": "98ed0684-40e0-4bc8-ba40-b1392f1893bb",
   "metadata": {},
   "outputs": [
    {
     "data": {
      "text/plain": [
       "['positive',\n",
       " 'negative',\n",
       " 'negative',\n",
       " 'positive',\n",
       " 'positive',\n",
       " 'negative',\n",
       " 'negative']"
      ]
     },
     "execution_count": 4,
     "metadata": {},
     "output_type": "execute_result"
    }
   ],
   "source": [
    "#for loop with if else condition\n",
    "numbers=[1,-3,-4,2,5,-7,-8]\n",
    "positive_negative=['positive' if x>0 else 'negative' for x in numbers]\n",
    "positive_negative"
   ]
  },
  {
   "cell_type": "code",
   "execution_count": null,
   "id": "53e0cfba-085d-42cf-8913-136d8e9383dd",
   "metadata": {},
   "outputs": [],
   "source": [
    "#nested for loop\n",
    "char=['a','b','c']\n",
    "number=[1,2,3]\n",
    "pairs=[(x,y) for x in char for y in number]"
   ]
  }
 ],
 "metadata": {
  "kernelspec": {
   "display_name": "Python 3 (ipykernel)",
   "language": "python",
   "name": "python3"
  },
  "language_info": {
   "codemirror_mode": {
    "name": "ipython",
    "version": 3
   },
   "file_extension": ".py",
   "mimetype": "text/x-python",
   "name": "python",
   "nbconvert_exporter": "python",
   "pygments_lexer": "ipython3",
   "version": "3.13.1"
  }
 },
 "nbformat": 4,
 "nbformat_minor": 5
}
