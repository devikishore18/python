{
 "cells": [
  {
   "cell_type": "markdown",
   "id": "f4bd4526-e634-47d9-ab12-69da52a8872b",
   "metadata": {},
   "source": [
    "grade calculator\n",
    "=90 grade A 75to 89 b 60-74 c below 60 d"
   ]
  },
  {
   "cell_type": "code",
   "execution_count": 1,
   "id": "b2d504c4-b321-4a12-93b1-13c63a9decde",
   "metadata": {},
   "outputs": [
    {
     "name": "stdin",
     "output_type": "stream",
     "text": [
      "enter a mark of the student 60\n"
     ]
    },
    {
     "name": "stdout",
     "output_type": "stream",
     "text": [
      "grade C\n"
     ]
    }
   ],
   "source": [
    "x= float(input('enter a mark of the student'))\n",
    "if x>=90:\n",
    "         print(\"grade A\")\n",
    "elif 75<=x<=89:\n",
    "         print(\"grade B\")\n",
    "elif 60<=x<=74:\n",
    "         print(\"grade C\")\n",
    "else:\n",
    "     print(\"grade D\")"
   ]
  },
  {
   "cell_type": "markdown",
   "id": "60e13895-3367-4d62-90fa-670e66cc5902",
   "metadata": {},
   "source": [
    "student scholarship 12th pass score should be above 90 both true eligible(nested if)"
   ]
  },
  {
   "cell_type": "code",
   "execution_count": 2,
   "id": "b5d9d363-7e02-4560-935c-89d4144439c1",
   "metadata": {},
   "outputs": [
    {
     "name": "stdin",
     "output_type": "stream",
     "text": [
      "12th pass or fail: enter(pass/fail) pass\n",
      "enter your mark 95\n"
     ]
    },
    {
     "name": "stdout",
     "output_type": "stream",
     "text": [
      "you are eligible for scholarship\n"
     ]
    }
   ],
   "source": [
    "x=input(\"12th pass or fail: enter(pass/fail)\")\n",
    "mark=float(input(\"enter your mark\"))\n",
    "if x == 'pass':\n",
    "    if mark>90:\n",
    "           print(\"you are eligible for scholarship\")\n",
    "    else:\n",
    "           print(\"you should score above 90 to get scholarship\")\n",
    "else:\n",
    "     print(\"better luck next time\")"
   ]
  },
  {
   "cell_type": "markdown",
   "id": "9fbf1f04-31cc-4503-96d4-c372c5f2a188",
   "metadata": {},
   "source": [
    "#print only even numbers 1-20 using while loop \n",
    "#print numbers from 1-100 stop at 50 using break\n",
    "#print numbers from 1-100 stop at 50 using continue\n"
   ]
  },
  {
   "cell_type": "markdown",
   "id": "ae3d9aa2-ba02-4b95-a93a-049ddf8f42fe",
   "metadata": {},
   "source": [
    "questions \n",
    "#create a list with +ve and -ve values and print only +ve value from the list \n",
    "#create a list. count the vowels in a given string.\n",
    "\n"
   ]
  },
  {
   "cell_type": "code",
   "execution_count": 3,
   "id": "9cc0319e-38ca-4af1-a4e7-8b4218c62984",
   "metadata": {},
   "outputs": [
    {
     "data": {
      "text/plain": [
       "[True, False, False, True, False, True, False, True, True, True]"
      ]
     },
     "execution_count": 3,
     "metadata": {},
     "output_type": "execute_result"
    }
   ],
   "source": [
    "#create a list with +ve and -ve values and print only +ve value from the list\n",
    "l=[1,-1,0,15,-2,2,-18,5,7,9]\n",
    "positive_value=[x>0 for x in l]  \n",
    "positive_value"
   ]
  },
  {
   "cell_type": "code",
   "execution_count": 3,
   "id": "44401442-ab6b-47ba-b51b-0ae61b03e033",
   "metadata": {},
   "outputs": [
    {
     "name": "stdout",
     "output_type": "stream",
     "text": [
      "1\n",
      "15\n",
      "2\n",
      "5\n",
      "7\n",
      "9\n"
     ]
    }
   ],
   "source": [
    "l=[1,-1,0,15,-2,2,-18,5,7,9]\n",
    "positive_value=[]\n",
    "for i in l:\n",
    "    if i>0:\n",
    "        print(i)"
   ]
  },
  {
   "cell_type": "code",
   "execution_count": 4,
   "id": "620c3dc9-e6c1-497c-a1ca-3d9810ccfe6e",
   "metadata": {},
   "outputs": [
    {
     "name": "stdout",
     "output_type": "stream",
     "text": [
      "True\n",
      "False\n",
      "False\n",
      "True\n",
      "False\n",
      "True\n",
      "False\n",
      "True\n",
      "True\n",
      "True\n"
     ]
    }
   ],
   "source": [
    "for i in l:\n",
    "    print(i>0)\n"
   ]
  },
  {
   "cell_type": "code",
   "execution_count": 6,
   "id": "9beeac61-ff13-44cc-b2a5-dd0551d95a85",
   "metadata": {},
   "outputs": [
    {
     "name": "stdout",
     "output_type": "stream",
     "text": [
      "True\n",
      "False\n",
      "False\n",
      "True\n",
      "False\n",
      "True\n",
      "False\n",
      "True\n",
      "True\n",
      "True\n"
     ]
    }
   ],
   "source": [
    "for i in l:\n",
    "    x=i>0\n",
    "    print(x)\n",
    "    i+=1"
   ]
  },
  {
   "cell_type": "code",
   "execution_count": 4,
   "id": "a27d5937-b261-465b-8485-2a55970a74a3",
   "metadata": {},
   "outputs": [
    {
     "name": "stdout",
     "output_type": "stream",
     "text": [
      "2\n",
      "4\n",
      "6\n",
      "8\n",
      "10\n",
      "12\n",
      "14\n",
      "16\n",
      "18\n",
      "20\n"
     ]
    }
   ],
   "source": [
    "#print only even numbers 1-20 using while loop \n",
    "x=1\n",
    "while x<=20:\n",
    "    if x%2==0:\n",
    "        print(x)\n",
    "    x+=1\n",
    "        \n",
    "   "
   ]
  },
  {
   "cell_type": "code",
   "execution_count": 3,
   "id": "dd401e75-cbff-40e6-b7b3-02bfa153fb1d",
   "metadata": {},
   "outputs": [
    {
     "name": "stdout",
     "output_type": "stream",
     "text": [
      "1\n",
      "2\n",
      "3\n",
      "4\n",
      "5\n",
      "6\n",
      "7\n",
      "8\n",
      "9\n",
      "10\n",
      "11\n",
      "12\n",
      "13\n",
      "14\n",
      "15\n",
      "16\n",
      "17\n",
      "18\n",
      "19\n",
      "20\n",
      "21\n",
      "22\n",
      "23\n",
      "24\n",
      "25\n",
      "26\n",
      "27\n",
      "28\n",
      "29\n",
      "30\n",
      "31\n",
      "32\n",
      "33\n",
      "34\n",
      "35\n",
      "36\n",
      "37\n",
      "38\n",
      "39\n",
      "40\n",
      "41\n",
      "42\n",
      "43\n",
      "44\n",
      "45\n",
      "46\n",
      "47\n",
      "48\n",
      "49\n",
      "50\n"
     ]
    }
   ],
   "source": [
    "#print numbers from 1-100 stop at 50 using break\n",
    "a=1\n",
    "while a<=100:\n",
    "    print(a)\n",
    "    if a==50:\n",
    "        break\n",
    "    a+=1"
   ]
  },
  {
   "cell_type": "code",
   "execution_count": 5,
   "id": "2d72827d-4256-482b-b6b8-4ae67b007b59",
   "metadata": {},
   "outputs": [
    {
     "name": "stdout",
     "output_type": "stream",
     "text": [
      "1\n",
      "2\n",
      "3\n",
      "4\n",
      "5\n",
      "6\n",
      "7\n",
      "8\n",
      "9\n",
      "10\n",
      "11\n",
      "12\n",
      "13\n",
      "14\n",
      "15\n",
      "16\n",
      "17\n",
      "18\n",
      "19\n",
      "20\n",
      "21\n",
      "22\n",
      "23\n",
      "24\n",
      "25\n",
      "26\n",
      "27\n",
      "28\n",
      "29\n",
      "30\n",
      "31\n",
      "32\n",
      "33\n",
      "34\n",
      "35\n",
      "36\n",
      "37\n",
      "38\n",
      "39\n",
      "40\n",
      "41\n",
      "42\n",
      "43\n",
      "44\n",
      "45\n",
      "46\n",
      "47\n",
      "48\n",
      "49\n",
      "51\n",
      "52\n",
      "53\n",
      "54\n",
      "55\n",
      "56\n",
      "57\n",
      "58\n",
      "59\n",
      "60\n",
      "61\n",
      "62\n",
      "63\n",
      "64\n",
      "65\n",
      "66\n",
      "67\n",
      "68\n",
      "69\n",
      "70\n",
      "71\n",
      "72\n",
      "73\n",
      "74\n",
      "75\n",
      "76\n",
      "77\n",
      "78\n",
      "79\n",
      "80\n",
      "81\n",
      "82\n",
      "83\n",
      "84\n",
      "85\n",
      "86\n",
      "87\n",
      "88\n",
      "89\n",
      "90\n",
      "91\n",
      "92\n",
      "93\n",
      "94\n",
      "95\n",
      "96\n",
      "97\n",
      "98\n",
      "99\n",
      "100\n"
     ]
    }
   ],
   "source": [
    "#print numbers from 1-100 stop at 50 using continue\n",
    "b=0\n",
    "while b<100:\n",
    "    b+=1\n",
    "    if b==50:\n",
    "        continue\n",
    "    print(b)"
   ]
  },
  {
   "cell_type": "code",
   "execution_count": 39,
   "id": "23a1206c-fac3-40e8-aeb9-8493ddf8a3d4",
   "metadata": {},
   "outputs": [
    {
     "data": {
      "text/plain": [
       "1"
      ]
     },
     "execution_count": 39,
     "metadata": {},
     "output_type": "execute_result"
    }
   ],
   "source": [
    "l1=('a','b','hi',1,5,'python','o')\n",
    "vowels=('a','e','i','o','u')\n",
    "l1.count(vowels[0])\n"
   ]
  },
  {
   "cell_type": "code",
   "execution_count": 40,
   "id": "882e56a2-1bb9-41ef-ba0f-7b31ce16951a",
   "metadata": {},
   "outputs": [
    {
     "data": {
      "text/plain": [
       "1"
      ]
     },
     "execution_count": 40,
     "metadata": {},
     "output_type": "execute_result"
    }
   ],
   "source": [
    "l1.count(vowels[3])"
   ]
  },
  {
   "cell_type": "code",
   "execution_count": 38,
   "id": "0ec2e0d9-aff6-4df2-b074-4127b1fcce21",
   "metadata": {},
   "outputs": [
    {
     "name": "stdout",
     "output_type": "stream",
     "text": [
      "total vowel count is 7\n"
     ]
    }
   ],
   "source": [
    "#create a list. count the vowels in a given string.\n",
    "\n",
    "LIST=('a','b','c','d','e','i','o','u','o','u')\n",
    "vowel=0\n",
    "vowels='aeiou'\n",
    "for i in LIST:\n",
    "    if i in vowels:\n",
    "        vowel+=1\n",
    "print('total vowel count is', vowel)"
   ]
  },
  {
   "cell_type": "code",
   "execution_count": 43,
   "id": "3143d519-b509-46b3-82fb-ea0937f249a9",
   "metadata": {},
   "outputs": [
    {
     "name": "stdout",
     "output_type": "stream",
     "text": [
      "total vowel count is 5\n"
     ]
    }
   ],
   "source": [
    "list=('hi everyone')\n",
    "vowel=0\n",
    "vowels='aeiou'\n",
    "for i in list:\n",
    "    if i in vowels:\n",
    "        vowel+=1\n",
    "print('total vowel count is', vowel)"
   ]
  },
  {
   "cell_type": "code",
   "execution_count": null,
   "id": "35db6acc-41a4-443f-9bb8-516c4211564e",
   "metadata": {},
   "outputs": [],
   "source": []
  }
 ],
 "metadata": {
  "kernelspec": {
   "display_name": "Python 3 (ipykernel)",
   "language": "python",
   "name": "python3"
  },
  "language_info": {
   "codemirror_mode": {
    "name": "ipython",
    "version": 3
   },
   "file_extension": ".py",
   "mimetype": "text/x-python",
   "name": "python",
   "nbconvert_exporter": "python",
   "pygments_lexer": "ipython3",
   "version": "3.13.1"
  }
 },
 "nbformat": 4,
 "nbformat_minor": 5
}
