{
 "cells": [
  {
   "cell_type": "markdown",
   "id": "6508d20a",
   "metadata": {},
   "source": [
    "### Check if a Number is Even or Odd"
   ]
  },
  {
   "cell_type": "code",
   "execution_count": 1,
   "id": "4c09e393",
   "metadata": {},
   "outputs": [
    {
     "name": "stdin",
     "output_type": "stream",
     "text": [
      "Enter a number:  3\n"
     ]
    },
    {
     "name": "stdout",
     "output_type": "stream",
     "text": [
      "Odd\n"
     ]
    }
   ],
   "source": [
    "num = int(input(\"Enter a number: \"))\n",
    "if num % 2 == 0:\n",
    "    print(\"Even\")\n",
    "else:\n",
    "    print(\"Odd\")"
   ]
  },
  {
   "cell_type": "markdown",
   "id": "dbffbdb9",
   "metadata": {},
   "source": [
    "### Find the Largest of Three Numbers"
   ]
  },
  {
   "cell_type": "code",
   "execution_count": 2,
   "id": "4105ae98",
   "metadata": {},
   "outputs": [
    {
     "name": "stdin",
     "output_type": "stream",
     "text": [
      " 7\n",
      " 9\n",
      " 8\n"
     ]
    },
    {
     "name": "stdout",
     "output_type": "stream",
     "text": [
      "Largest: 9\n"
     ]
    }
   ],
   "source": [
    "a = int(input())\n",
    "b = int(input())\n",
    "c = int(input())\n",
    "\n",
    "if a >= b and a >= c:\n",
    "    print(\"Largest:\", a)\n",
    "elif b >= c:\n",
    "    print(\"Largest:\", b)\n",
    "else:\n",
    "    print(\"Largest:\", c)"
   ]
  },
  {
   "cell_type": "markdown",
   "id": "9bc8c1e1",
   "metadata": {},
   "source": [
    "### Sum of Natural Numbers Using Loop"
   ]
  },
  {
   "cell_type": "code",
   "execution_count": 3,
   "id": "2f551bb4",
   "metadata": {},
   "outputs": [
    {
     "name": "stdin",
     "output_type": "stream",
     "text": [
      "Enter n:  10\n"
     ]
    },
    {
     "name": "stdout",
     "output_type": "stream",
     "text": [
      "Sum: 55\n"
     ]
    }
   ],
   "source": [
    "n = int(input(\"Enter n: \"))\n",
    "total = 0\n",
    "for i in range(1, n+1):\n",
    "    total += i\n",
    "print(\"Sum:\", total)"
   ]
  },
  {
   "cell_type": "markdown",
   "id": "2d8772eb",
   "metadata": {},
   "source": [
    "### Factorial Using While Loop"
   ]
  },
  {
   "cell_type": "code",
   "execution_count": 4,
   "id": "2378cf5c",
   "metadata": {},
   "outputs": [
    {
     "name": "stdin",
     "output_type": "stream",
     "text": [
      " 5\n"
     ]
    },
    {
     "name": "stdout",
     "output_type": "stream",
     "text": [
      "Factorial: 120\n"
     ]
    }
   ],
   "source": [
    "n = int(input())\n",
    "fact = 1\n",
    "while n > 0:\n",
    "    fact *= n\n",
    "    n -= 1\n",
    "print(\"Factorial:\", fact)"
   ]
  },
  {
   "cell_type": "markdown",
   "id": "04f6f01f",
   "metadata": {},
   "source": [
    "### Reverse a String"
   ]
  },
  {
   "cell_type": "code",
   "execution_count": 5,
   "id": "90c36990",
   "metadata": {},
   "outputs": [
    {
     "name": "stdin",
     "output_type": "stream",
     "text": [
      "Enter string:  Hello\n"
     ]
    },
    {
     "name": "stdout",
     "output_type": "stream",
     "text": [
      "Reversed: olleH\n"
     ]
    }
   ],
   "source": [
    "s = input(\"Enter string: \")\n",
    "print(\"Reversed:\", s[::-1])"
   ]
  },
  {
   "cell_type": "markdown",
   "id": "07b545be",
   "metadata": {},
   "source": [
    "### Count Vowels in a String"
   ]
  },
  {
   "cell_type": "code",
   "execution_count": 6,
   "id": "7e58826a",
   "metadata": {},
   "outputs": [
    {
     "name": "stdin",
     "output_type": "stream",
     "text": [
      "Enter string:  Hello\n"
     ]
    },
    {
     "name": "stdout",
     "output_type": "stream",
     "text": [
      "Vowel Count: 2\n"
     ]
    }
   ],
   "source": [
    "s = input(\"Enter string: \")\n",
    "vowels = \"aeiouAEIOU\"\n",
    "count = 0\n",
    "for char in s:\n",
    "    if char in vowels:\n",
    "        count += 1\n",
    "print(\"Vowel Count:\", count)"
   ]
  },
  {
   "cell_type": "markdown",
   "id": "eec049f0",
   "metadata": {},
   "source": [
    "### Check for Palindrome"
   ]
  },
  {
   "cell_type": "code",
   "execution_count": 7,
   "id": "7d37481f",
   "metadata": {},
   "outputs": [
    {
     "name": "stdin",
     "output_type": "stream",
     "text": [
      " Madam\n"
     ]
    },
    {
     "name": "stdout",
     "output_type": "stream",
     "text": [
      "Not a Palindrome\n"
     ]
    }
   ],
   "source": [
    "s = input()\n",
    "if s == s[::-1]:\n",
    "    print(\"Palindrome\")\n",
    "else:\n",
    "    print(\"Not a Palindrome\")"
   ]
  },
  {
   "cell_type": "markdown",
   "id": "b7154b93",
   "metadata": {},
   "source": [
    "### List All Prime Numbers in a Range"
   ]
  },
  {
   "cell_type": "code",
   "execution_count": 8,
   "id": "00b40d74",
   "metadata": {},
   "outputs": [
    {
     "name": "stdin",
     "output_type": "stream",
     "text": [
      " 6\n",
      " 50\n"
     ]
    },
    {
     "name": "stdout",
     "output_type": "stream",
     "text": [
      "7 11 13 17 19 23 29 31 37 41 43 47 "
     ]
    }
   ],
   "source": [
    "start = int(input())\n",
    "end = int(input())\n",
    "for num in range(start, end+1):\n",
    "    if num > 1:\n",
    "        for i in range(2, num):\n",
    "            if num % i == 0:\n",
    "                break\n",
    "        else:\n",
    "            print(num, end=' ')"
   ]
  },
  {
   "cell_type": "markdown",
   "id": "f35c84bb",
   "metadata": {},
   "source": [
    "### Create a List of Squares"
   ]
  },
  {
   "cell_type": "code",
   "execution_count": 9,
   "id": "6b41c915",
   "metadata": {},
   "outputs": [
    {
     "name": "stdout",
     "output_type": "stream",
     "text": [
      "[0, 1, 4, 9, 16, 25, 36, 49, 64, 81]\n"
     ]
    }
   ],
   "source": [
    "squares = [i**2 for i in range(10)]\n",
    "print(squares)"
   ]
  },
  {
   "cell_type": "markdown",
   "id": "ed368a2b",
   "metadata": {},
   "source": [
    "### Swap Two Numbers Without Temp"
   ]
  },
  {
   "cell_type": "code",
   "execution_count": 10,
   "id": "d1ec2653",
   "metadata": {},
   "outputs": [
    {
     "name": "stdin",
     "output_type": "stream",
     "text": [
      " 3\n",
      " 5\n"
     ]
    },
    {
     "name": "stdout",
     "output_type": "stream",
     "text": [
      "a: 5 b: 3\n"
     ]
    }
   ],
   "source": [
    "a = int(input())\n",
    "b = int(input())\n",
    "a, b = b, a\n",
    "print(\"a:\", a, \"b:\", b)"
   ]
  },
  {
   "cell_type": "markdown",
   "id": "028b84ac",
   "metadata": {},
   "source": [
    "### Count Frequency of Elements in List"
   ]
  },
  {
   "cell_type": "code",
   "execution_count": 11,
   "id": "358ac2c1",
   "metadata": {},
   "outputs": [
    {
     "name": "stdout",
     "output_type": "stream",
     "text": [
      "{1: 1, 2: 2, 3: 3, 4: 1}\n"
     ]
    }
   ],
   "source": [
    "items = [1, 2, 2, 3, 3, 3, 4]\n",
    "freq = {}\n",
    "for i in items:\n",
    "    freq[i] = freq.get(i, 0) + 1\n",
    "print(freq)"
   ]
  },
  {
   "cell_type": "markdown",
   "id": "74ee059c",
   "metadata": {},
   "source": [
    "### Find Duplicate Elements"
   ]
  },
  {
   "cell_type": "code",
   "execution_count": 12,
   "id": "1c14ddb8",
   "metadata": {},
   "outputs": [
    {
     "name": "stdout",
     "output_type": "stream",
     "text": [
      "[2, 4]\n"
     ]
    }
   ],
   "source": [
    "lst = [1, 2, 2, 3, 4, 4, 5]\n",
    "duplicates = list(set([x for x in lst if lst.count(x) > 1]))\n",
    "print(duplicates)"
   ]
  },
  {
   "cell_type": "markdown",
   "id": "0f8187a9",
   "metadata": {},
   "source": [
    "### Remove Duplicates from List"
   ]
  },
  {
   "cell_type": "code",
   "execution_count": 13,
   "id": "59b338d3",
   "metadata": {},
   "outputs": [
    {
     "name": "stdout",
     "output_type": "stream",
     "text": [
      "[1, 2, 3, 4, 5]\n"
     ]
    }
   ],
   "source": [
    "lst = [1, 2, 2, 3, 4, 4, 5]\n",
    "unique = list(set(lst))\n",
    "print(unique)"
   ]
  },
  {
   "cell_type": "markdown",
   "id": "9af59d89",
   "metadata": {},
   "source": [
    "### Merge Two Lists and Sort"
   ]
  },
  {
   "cell_type": "code",
   "execution_count": 14,
   "id": "f5ef041f",
   "metadata": {},
   "outputs": [
    {
     "name": "stdout",
     "output_type": "stream",
     "text": [
      "[1, 2, 3, 4, 5, 6]\n"
     ]
    }
   ],
   "source": [
    "a = [1, 4, 6]\n",
    "b = [2, 3, 5]\n",
    "merged = sorted(a + b)\n",
    "print(merged)"
   ]
  },
  {
   "cell_type": "markdown",
   "id": "f670ef5c",
   "metadata": {},
   "source": [
    "### Dictionary of Squares"
   ]
  },
  {
   "cell_type": "code",
   "execution_count": 15,
   "id": "105103e3",
   "metadata": {},
   "outputs": [
    {
     "name": "stdin",
     "output_type": "stream",
     "text": [
      "Enter number:  6\n"
     ]
    },
    {
     "name": "stdout",
     "output_type": "stream",
     "text": [
      "{1: 1, 2: 4, 3: 9, 4: 16, 5: 25, 6: 36}\n"
     ]
    }
   ],
   "source": [
    "n = int(input(\"Enter number: \"))\n",
    "squares = {x: x*x for x in range(1, n+1)}\n",
    "print(squares)"
   ]
  },
  {
   "cell_type": "markdown",
   "id": "412e8c00",
   "metadata": {},
   "source": [
    "### Fibonacci Series Using Loop"
   ]
  },
  {
   "cell_type": "code",
   "execution_count": 16,
   "id": "37bcd2b9",
   "metadata": {},
   "outputs": [
    {
     "name": "stdin",
     "output_type": "stream",
     "text": [
      "Enter n:  9\n"
     ]
    },
    {
     "name": "stdout",
     "output_type": "stream",
     "text": [
      "0 1 1 2 3 5 8 13 21 "
     ]
    }
   ],
   "source": [
    "n = int(input(\"Enter n: \"))\n",
    "a, b = 0, 1\n",
    "for _ in range(n):\n",
    "    print(a, end=\" \")\n",
    "    a, b = b, a + b"
   ]
  },
  {
   "cell_type": "markdown",
   "id": "2e673c1d",
   "metadata": {},
   "source": [
    "### Function to Check Prime Number"
   ]
  },
  {
   "cell_type": "code",
   "execution_count": 17,
   "id": "1bc0c9fd",
   "metadata": {},
   "outputs": [
    {
     "name": "stdout",
     "output_type": "stream",
     "text": [
      "True\n"
     ]
    }
   ],
   "source": [
    "def is_prime(n):\n",
    "    if n <= 1:\n",
    "        return False\n",
    "    for i in range(2, n):\n",
    "        if n % i == 0:\n",
    "            return False\n",
    "    return True\n",
    "\n",
    "print(is_prime(13))"
   ]
  },
  {
   "cell_type": "markdown",
   "id": "a0622b8f",
   "metadata": {},
   "source": [
    "### Lambda to Multiply Two Numbers"
   ]
  },
  {
   "cell_type": "code",
   "execution_count": 18,
   "id": "3b960407",
   "metadata": {},
   "outputs": [
    {
     "name": "stdout",
     "output_type": "stream",
     "text": [
      "20\n"
     ]
    }
   ],
   "source": [
    "multiply = lambda x, y: x * y\n",
    "print(multiply(4, 5))"
   ]
  },
  {
   "cell_type": "markdown",
   "id": "801cf75c",
   "metadata": {},
   "source": [
    "### Map to Square Elements in List"
   ]
  },
  {
   "cell_type": "code",
   "execution_count": 19,
   "id": "7b60f872",
   "metadata": {},
   "outputs": [
    {
     "name": "stdout",
     "output_type": "stream",
     "text": [
      "[1, 4, 9, 16]\n"
     ]
    }
   ],
   "source": [
    "nums = [1, 2, 3, 4]\n",
    "squared = list(map(lambda x: x**2, nums))\n",
    "print(squared)"
   ]
  },
  {
   "cell_type": "markdown",
   "id": "39872e60",
   "metadata": {},
   "source": [
    "### Filter Even Numbers"
   ]
  },
  {
   "cell_type": "code",
   "execution_count": 20,
   "id": "290a21cd",
   "metadata": {},
   "outputs": [
    {
     "name": "stdout",
     "output_type": "stream",
     "text": [
      "[2, 4]\n"
     ]
    }
   ],
   "source": [
    "nums = [1, 2, 3, 4, 5]\n",
    "evens = list(filter(lambda x: x % 2 == 0, nums))\n",
    "print(evens)"
   ]
  },
  {
   "cell_type": "markdown",
   "id": "5493c011",
   "metadata": {},
   "source": [
    "### Read a File and Count Lines"
   ]
  },
  {
   "cell_type": "markdown",
   "id": "889a3ed4",
   "metadata": {},
   "source": [
    "### Handle Division by Zero Exception"
   ]
  },
  {
   "cell_type": "code",
   "execution_count": 23,
   "id": "c112a2ca",
   "metadata": {},
   "outputs": [
    {
     "name": "stdin",
     "output_type": "stream",
     "text": [
      " 8\n",
      " 0\n"
     ]
    },
    {
     "name": "stdout",
     "output_type": "stream",
     "text": [
      "Cannot divide by zero!\n"
     ]
    }
   ],
   "source": [
    "try:\n",
    "    a = int(input())\n",
    "    b = int(input())\n",
    "    print(\"Result:\", a / b)\n",
    "except ZeroDivisionError:\n",
    "    print(\"Cannot divide by zero!\")"
   ]
  },
  {
   "cell_type": "markdown",
   "id": "c2339d69",
   "metadata": {},
   "source": [
    "### Function with Default Argument"
   ]
  },
  {
   "cell_type": "code",
   "execution_count": 24,
   "id": "513022ce",
   "metadata": {},
   "outputs": [
    {
     "name": "stdout",
     "output_type": "stream",
     "text": [
      "Hello Guest\n",
      "Hello Alice\n"
     ]
    }
   ],
   "source": [
    "def greet(name=\"Guest\"):\n",
    "    print(\"Hello\", name)\n",
    "\n",
    "greet()\n",
    "greet(\"Alice\")"
   ]
  },
  {
   "cell_type": "markdown",
   "id": "e17d726c",
   "metadata": {},
   "source": [
    "### Find Max Value in List"
   ]
  },
  {
   "cell_type": "code",
   "execution_count": 25,
   "id": "57d8fff7",
   "metadata": {},
   "outputs": [
    {
     "name": "stdout",
     "output_type": "stream",
     "text": [
      "Max: 50\n"
     ]
    }
   ],
   "source": [
    "lst = [10, 20, 5, 50]\n",
    "print(\"Max:\", max(lst))"
   ]
  },
  {
   "cell_type": "markdown",
   "id": "2c9b0c1a",
   "metadata": {},
   "source": [
    "### Sum of Digits in a Number"
   ]
  },
  {
   "cell_type": "code",
   "execution_count": 26,
   "id": "98ed5b36",
   "metadata": {},
   "outputs": [
    {
     "name": "stdin",
     "output_type": "stream",
     "text": [
      "Enter number:  65\n"
     ]
    },
    {
     "name": "stdout",
     "output_type": "stream",
     "text": [
      "Sum of digits: 11\n"
     ]
    }
   ],
   "source": [
    "num = input(\"Enter number: \")\n",
    "total = sum(int(digit) for digit in num)\n",
    "print(\"Sum of digits:\", total)"
   ]
  },
  {
   "cell_type": "code",
   "execution_count": null,
   "id": "60af8568-5aae-4269-a0d3-fdcc9e0c3916",
   "metadata": {},
   "outputs": [],
   "source": []
  }
 ],
 "metadata": {
  "kernelspec": {
   "display_name": "Python [conda env:base] *",
   "language": "python",
   "name": "conda-base-py"
  },
  "language_info": {
   "codemirror_mode": {
    "name": "ipython",
    "version": 3
   },
   "file_extension": ".py",
   "mimetype": "text/x-python",
   "name": "python",
   "nbconvert_exporter": "python",
   "pygments_lexer": "ipython3",
   "version": "3.13.5"
  }
 },
 "nbformat": 4,
 "nbformat_minor": 5
}
