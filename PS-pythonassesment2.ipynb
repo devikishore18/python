{
 "cells": [
  {
   "cell_type": "code",
   "execution_count": null,
   "id": "e461108e-e158-48ac-adcb-ed4554efba3f",
   "metadata": {},
   "outputs": [],
   "source": [
    "#take a comma-separated string of integers, remove duplicates, sort them in descending order, and return the mean."
   ]
  },
  {
   "cell_type": "code",
   "execution_count": 1,
   "id": "e2cf7d73-904a-4410-bad9-79e86e8e595b",
   "metadata": {
    "scrolled": true
   },
   "outputs": [
    {
     "name": "stdout",
     "output_type": "stream",
     "text": [
      "3\n"
     ]
    }
   ],
   "source": [
    "a='1,2,3,4,5,1,1,2,2,3,4,5,3'   #comma separted integer\n",
    "b=a.split(',')                  #spliting string which is separated by comma\n",
    "b=set(map(int,b))               #converting a string to set of integers \n",
    "b=list(b)                       #converting a set of integers to list of integers\n",
    "b.sort(reverse=True)             #sorting it in descending order\n",
    "m=int(sum(b)/len(b))             #calculating mean\n",
    "print(m)   \n",
    "        "
   ]
  },
  {
   "cell_type": "code",
   "execution_count": 3,
   "id": "5cdb9956-54a0-4b62-b05e-0db99db669b8",
   "metadata": {},
   "outputs": [],
   "source": [
    "def mean(numbers):\n",
    "    n=numbers.split(',')\n",
    "    n=set(map(int,n))\n",
    "    n=list(n)\n",
    "    n.sort(reverse=True)\n",
    "    m=int(sum(n)/len(n))\n",
    "    return m"
   ]
  },
  {
   "cell_type": "code",
   "execution_count": 4,
   "id": "fd5d0e55-6830-4c83-966e-92fd6b40af19",
   "metadata": {},
   "outputs": [
    {
     "data": {
      "text/plain": [
       "4"
      ]
     },
     "execution_count": 4,
     "metadata": {},
     "output_type": "execute_result"
    }
   ],
   "source": [
    "numbers='1,9,9,6,3,2,1,2,5,7'\n",
    "mean(numbers)"
   ]
  },
  {
   "cell_type": "code",
   "execution_count": 2,
   "id": "d68347e8-da83-4afa-bde3-9d17e251ed53",
   "metadata": {},
   "outputs": [],
   "source": [
    "def mean():\n",
    " a = input(\"enter the string of integeres\")\n",
    " n = list(map(int, a.split(',')))\n",
    " print(n)\n",
    " b = list(set(n))\n",
    " print(b)\n",
    " b.sort(reverse=True)\n",
    " print(b)\n",
    " m = sum(b) / len(b) \n",
    " return m\n"
   ]
  },
  {
   "cell_type": "code",
   "execution_count": 3,
   "id": "27651552-0b1c-48ac-a75f-8a2a1888d0e3",
   "metadata": {},
   "outputs": [
    {
     "name": "stdin",
     "output_type": "stream",
     "text": [
      "enter the string of integeres 1,2,6,8,9,4\n"
     ]
    },
    {
     "name": "stdout",
     "output_type": "stream",
     "text": [
      "[1, 2, 6, 8, 9, 4]\n",
      "[1, 2, 4, 6, 8, 9]\n",
      "[9, 8, 6, 4, 2, 1]\n"
     ]
    },
    {
     "data": {
      "text/plain": [
       "5.0"
      ]
     },
     "execution_count": 3,
     "metadata": {},
     "output_type": "execute_result"
    }
   ],
   "source": [
    "mean()"
   ]
  },
  {
   "cell_type": "code",
   "execution_count": null,
   "id": "1739cce0-4339-4116-9a58-070efc7f1dce",
   "metadata": {},
   "outputs": [],
   "source": [
    "#Write a function calculate_discount(price, discount=10) that returns the final price after applying a discount. actual amt 100\n",
    "#after discount 90==>o/p"
   ]
  },
  {
   "cell_type": "code",
   "execution_count": 4,
   "id": "05cf8dac-f837-40ee-8086-afa95b2ab6bd",
   "metadata": {},
   "outputs": [
    {
     "data": {
      "text/plain": [
       "90.0"
      ]
     },
     "execution_count": 4,
     "metadata": {},
     "output_type": "execute_result"
    }
   ],
   "source": [
    "def calculate_discount(price,discount=10):\n",
    "    dis_price=price*0.9\n",
    "    return dis_price\n",
    "calculate_discount(100)  \n",
    "    "
   ]
  },
  {
   "cell_type": "code",
   "execution_count": 6,
   "id": "fc4c68a7-64da-4096-911b-676c1ca675a3",
   "metadata": {},
   "outputs": [
    {
     "data": {
      "text/plain": [
       "809.1"
      ]
     },
     "execution_count": 6,
     "metadata": {},
     "output_type": "execute_result"
    }
   ],
   "source": [
    "calculate_discount(899)"
   ]
  },
  {
   "cell_type": "code",
   "execution_count": null,
   "id": "435b6fe8-a119-49b5-8bdb-5beb7feaab8d",
   "metadata": {},
   "outputs": [],
   "source": [
    "#Write a recursive function factorial(n) that returns the factorial of a number."
   ]
  },
  {
   "cell_type": "code",
   "execution_count": 13,
   "id": "3d4f6be5-c9d5-42d9-ab7b-241242f5eb4e",
   "metadata": {},
   "outputs": [
    {
     "data": {
      "text/plain": [
       "120"
      ]
     },
     "execution_count": 13,
     "metadata": {},
     "output_type": "execute_result"
    }
   ],
   "source": [
    "def factorial(n):\n",
    "    if n==0 or n==1:          #to avoid infinite loop\n",
    "        return 1     #n!=0     \n",
    "    else:\n",
    "        return n*factorial(n-1)   #recursive function==> a function that calls itself within its own definition\n",
    "factorial(5)\n",
    "        "
   ]
  },
  {
   "cell_type": "code",
   "execution_count": 14,
   "id": "3ad67a78-e520-4a88-bbf5-b395edf8462c",
   "metadata": {},
   "outputs": [
    {
     "data": {
      "text/plain": [
       "1"
      ]
     },
     "execution_count": 14,
     "metadata": {},
     "output_type": "execute_result"
    }
   ],
   "source": [
    "factorial(1)"
   ]
  },
  {
   "cell_type": "code",
   "execution_count": null,
   "id": "564e6c7c-f51d-4ace-bd1b-d0530d59065a",
   "metadata": {},
   "outputs": [],
   "source": [
    "#Create a function make_multiplier(n) that returns a new function which multiplies its input by n.(nested function)"
   ]
  },
  {
   "cell_type": "code",
   "execution_count": 17,
   "id": "c28af997-fe46-425f-b241-0c6390b9bc3e",
   "metadata": {},
   "outputs": [
    {
     "data": {
      "text/plain": [
       "20"
      ]
     },
     "execution_count": 17,
     "metadata": {},
     "output_type": "execute_result"
    }
   ],
   "source": [
    "def make_multiplier(n):      #outer function\n",
    "    def multiplier(i):        #inner function\n",
    "        return i*n\n",
    "    return multiplier         #returns inner function to outer function\n",
    "m=make_multiplier(5)          #calling outer function with value n\n",
    "r=m(4)                         #calling inner function with value 4 with outer function\n",
    "r"
   ]
  },
  {
   "cell_type": "code",
   "execution_count": null,
   "id": "eb8a19de-89b5-47c4-91fb-de64725b0402",
   "metadata": {},
   "outputs": [],
   "source": [
    "#Given a list of numbers, use filter() with a lambda function to extract only the even numbers.\n",
    "#Also, use map() to square"
   ]
  },
  {
   "cell_type": "code",
   "execution_count": 18,
   "id": "a5c501f5-0b4b-411c-bbe6-25f8e7c0dc29",
   "metadata": {},
   "outputs": [
    {
     "name": "stdout",
     "output_type": "stream",
     "text": [
      "[2, 4, 6, 8, 10]\n",
      "[4, 16, 36, 64, 100]\n"
     ]
    }
   ],
   "source": [
    "l=[1,2,3,4,5,6,7,8,9,10]\n",
    "evennumber=list(filter(lambda i:  i%2==0,l))\n",
    "print(evennumber)\n",
    "square=list(map(lambda i: i**2,evennumber))\n",
    "print(square)"
   ]
  },
  {
   "cell_type": "code",
   "execution_count": null,
   "id": "9a105371-ba2a-4045-ad79-f589a6739db8",
   "metadata": {},
   "outputs": [],
   "source": [
    "List Comprehensions - Transform loops into concise one-liners for filtering and mapping data"
   ]
  },
  {
   "cell_type": "code",
   "execution_count": 17,
   "id": "0565dc35-2057-4541-8c20-6d85fa40c8e6",
   "metadata": {},
   "outputs": [
    {
     "name": "stdout",
     "output_type": "stream",
     "text": [
      "\n",
      "0\n",
      "01\n",
      "012\n",
      "0123\n",
      "01234\n"
     ]
    }
   ],
   "source": [
    "for i in range(6):\n",
    "    for j in range(i):\n",
    "        print(j, end=\"\")\n",
    "    print()"
   ]
  },
  {
   "cell_type": "code",
   "execution_count": 10,
   "id": "29e7ff05-ab8f-4a04-a82b-99a5f07b0a1d",
   "metadata": {},
   "outputs": [
    {
     "name": "stdout",
     "output_type": "stream",
     "text": [
      "0\n",
      "1\n",
      "2\n",
      "3\n",
      "4\n"
     ]
    }
   ],
   "source": [
    "for i in [0, 1, 2, 3, 4]:\n",
    "    print(i)\n",
    "    "
   ]
  },
  {
   "cell_type": "code",
   "execution_count": 18,
   "id": "873952e5-0f76-47ff-bb73-2cccafba2067",
   "metadata": {},
   "outputs": [
    {
     "name": "stdout",
     "output_type": "stream",
     "text": [
      "0\n",
      "0\n",
      "1\n"
     ]
    }
   ],
   "source": [
    "for i in range(3):\n",
    "    for j in range(i):\n",
    "        print(j)"
   ]
  },
  {
   "cell_type": "code",
   "execution_count": 19,
   "id": "bab4c9ed-665e-418c-8198-f21493f49ea0",
   "metadata": {},
   "outputs": [
    {
     "name": "stdout",
     "output_type": "stream",
     "text": [
      "\n",
      "5\n",
      "55\n",
      "555\n",
      "5555\n",
      "55555\n"
     ]
    }
   ],
   "source": [
    "for i in range(6):\n",
    "    for j in range(i):\n",
    "        print(5,end='')\n",
    "    print()"
   ]
  },
  {
   "cell_type": "code",
   "execution_count": 27,
   "id": "9352a3ae-2b4c-4443-bcfd-f9fe3ce0e667",
   "metadata": {},
   "outputs": [
    {
     "name": "stdout",
     "output_type": "stream",
     "text": [
      "*****\n",
      "*****\n",
      "*****\n",
      "*****\n",
      "*****\n"
     ]
    }
   ],
   "source": [
    "for i in range(5):\n",
    "    for j in range(5):\n",
    "        print(\"*\",end='')\n",
    "    print()\n"
   ]
  },
  {
   "cell_type": "code",
   "execution_count": 28,
   "id": "2e45a934-16bd-4469-af98-d486559c07e4",
   "metadata": {},
   "outputs": [
    {
     "name": "stdout",
     "output_type": "stream",
     "text": [
      "5555\n",
      "5555\n",
      "5555\n",
      "5555\n",
      "5555\n"
     ]
    }
   ],
   "source": [
    "for i in range(5):\n",
    "    for i in range(4):\n",
    "        print(5, end='')\n",
    "    print()\n"
   ]
  },
  {
   "cell_type": "code",
   "execution_count": 35,
   "id": "21456041-7d44-46fd-8a46-db26887d5cd8",
   "metadata": {},
   "outputs": [
    {
     "name": "stdout",
     "output_type": "stream",
     "text": [
      "1a 1b 1c \n",
      "2a 2b 2c \n",
      "3a 3b 3c \n"
     ]
    }
   ],
   "source": [
    "a=[1,2,3]\n",
    "b=['a','b','c']\n",
    "for i in a:\n",
    "    for j in b:\n",
    "        print(f\"{i}{ j}\",end=' ')\n",
    "    print()"
   ]
  },
  {
   "cell_type": "code",
   "execution_count": null,
   "id": "b9c2e8cd-59a9-4837-9c8c-9d61fbade75c",
   "metadata": {},
   "outputs": [],
   "source": []
  }
 ],
 "metadata": {
  "kernelspec": {
   "display_name": "Python 3 (ipykernel)",
   "language": "python",
   "name": "python3"
  },
  "language_info": {
   "codemirror_mode": {
    "name": "ipython",
    "version": 3
   },
   "file_extension": ".py",
   "mimetype": "text/x-python",
   "name": "python",
   "nbconvert_exporter": "python",
   "pygments_lexer": "ipython3",
   "version": "3.13.1"
  }
 },
 "nbformat": 4,
 "nbformat_minor": 5
}
