{
 "cells": [
  {
   "cell_type": "code",
   "execution_count": 1,
   "id": "5be1b598-76be-4136-8116-91a8cfabf5e9",
   "metadata": {},
   "outputs": [
    {
     "data": {
      "text/plain": [
       "[1, 2, 8, 3, 4, 5]"
      ]
     },
     "execution_count": 1,
     "metadata": {},
     "output_type": "execute_result"
    }
   ],
   "source": [
    "#Implement a program to insert an element at a specific position in a list.\n",
    "list=[1,2,3,4,5]\n",
    "list.insert(2,8)\n",
    "list"
   ]
  },
  {
   "cell_type": "code",
   "execution_count": 2,
   "id": "b8ad5945-7ada-4b83-a92f-66ab6e651e6c",
   "metadata": {},
   "outputs": [
    {
     "name": "stdout",
     "output_type": "stream",
     "text": [
      "minimum:1\n",
      "maximum:55\n"
     ]
    }
   ],
   "source": [
    "#Find the maximum and minimum elements in a list without using max() or min().\n",
    "list=[1,2,55,33,8,55]\n",
    "list.sort()\n",
    "set(list)\n",
    "print(f'minimum:{list[0]}')\n",
    "print(f'maximum:{list[-1]}')\n"
   ]
  },
  {
   "cell_type": "code",
   "execution_count": 3,
   "id": "04f485be-1992-4625-91fc-2ec1618720fb",
   "metadata": {},
   "outputs": [
    {
     "name": "stdout",
     "output_type": "stream",
     "text": [
      "[1, 2, 3, 6, 99]\n"
     ]
    }
   ],
   "source": [
    "#Remove all negative numbers from a list.\n",
    "l=[1,2,-5,-66,-44,3,6,99]\n",
    "pos=[]\n",
    "for i in l:\n",
    "    if i>0:\n",
    "        pos.append(i)\n",
    "print(pos)"
   ]
  },
  {
   "cell_type": "code",
   "execution_count": 4,
   "id": "0451934b-993e-4328-a82b-f85ebc068db9",
   "metadata": {},
   "outputs": [
    {
     "data": {
      "text/plain": [
       "[3, 4, 5, 9, 1]"
      ]
     },
     "execution_count": 4,
     "metadata": {},
     "output_type": "execute_result"
    }
   ],
   "source": [
    "#Reverse a list using slicing and a loop.\n",
    "list=[1,9,5,4,3]\n",
    "list[::-1] #using slicing\n"
   ]
  },
  {
   "cell_type": "code",
   "execution_count": 5,
   "id": "c978c08c-dd50-45ee-b932-3b6884d6d62c",
   "metadata": {},
   "outputs": [
    {
     "name": "stdout",
     "output_type": "stream",
     "text": [
      "[3, 4, 5, 9, 1]\n"
     ]
    }
   ],
   "source": [
    "list=[1,9,5,4,3]\n",
    "r=[]\n",
    "for i in range(len(list)-1,-1,-1):  #using forloop\n",
    "    r.append(list[i])\n",
    "print(r)       "
   ]
  },
  {
   "cell_type": "code",
   "execution_count": 6,
   "id": "752dede5-f4bb-4758-861e-9dc3e776aec8",
   "metadata": {},
   "outputs": [
    {
     "name": "stdout",
     "output_type": "stream",
     "text": [
      "[0, 1, 2, 3, 4, 4, 9, 9, 55, 66, 66, 99, 99]\n"
     ]
    }
   ],
   "source": [
    "#Merge two sorted lists into a single sorted list.\n",
    "l1=[1,9,99,4,66,3,9]\n",
    "l2=[55,66,99,0,2,4]\n",
    "l1.sort()\n",
    "l2.sort()\n",
    "l1.extend(l2)\n",
    "l1.sort()\n",
    "print(l1)"
   ]
  },
  {
   "cell_type": "code",
   "execution_count": 7,
   "id": "a4c33890-c2e7-45a1-8668-ff63cd214b24",
   "metadata": {},
   "outputs": [
    {
     "name": "stdout",
     "output_type": "stream",
     "text": [
      "(1, 2, 3, 4, 5)\n"
     ]
    }
   ],
   "source": [
    "#Convert a list into a tuple and vice versa.\n",
    "l=[1,2,3,4,5]\n",
    "t=tuple(l)\n",
    "print(t)"
   ]
  },
  {
   "cell_type": "code",
   "execution_count": 9,
   "id": "11bed6ce-3498-4dfa-9509-8227d5516c53",
   "metadata": {},
   "outputs": [
    {
     "name": "stdout",
     "output_type": "stream",
     "text": [
      "[1, 2, 5, 6, 7]\n"
     ]
    }
   ],
   "source": [
    "del list\n",
    "t1 = (1, 2, 5, 6, 7)\n",
    "l1 = list(t1)\n",
    "print(l1)"
   ]
  },
  {
   "cell_type": "code",
   "execution_count": 11,
   "id": "1ba35b0c-3afc-4eee-9174-5adb0e2218a3",
   "metadata": {},
   "outputs": [
    {
     "name": "stdin",
     "output_type": "stream",
     "text": [
      " 1 2 3 4 5\n",
      " 3 4 6 7\n"
     ]
    },
    {
     "data": {
      "text/plain": [
       "{3, 4}"
      ]
     },
     "execution_count": 11,
     "metadata": {},
     "output_type": "execute_result"
    }
   ],
   "source": [
    "#Find the common elements in two sets.\n",
    "set1=set(map(int,input().split()))\n",
    "set2=set(map(int,input().split()))\n",
    "set1.intersection(set2)"
   ]
  },
  {
   "cell_type": "code",
   "execution_count": null,
   "id": "ae74a823-e3f8-4c7c-a44d-c8800ed8603a",
   "metadata": {},
   "outputs": [],
   "source": [
    "#Write a program to remove duplicate elements from a list using a set.\n",
    "l=list(map(int,input().split()))\n",
    "l=set(l)\n",
    "l=list(l)\n",
    "print(l)"
   ]
  },
  {
   "cell_type": "code",
   "execution_count": null,
   "id": "b65e04b3-3724-4e55-b3c2-d3b769f3a31d",
   "metadata": {},
   "outputs": [],
   "source": [
    "#Check if two sets are disjoint.\n",
    "s1=set(map(int,input().split()))\n",
    "s2=set(map(int,input().split()))\n",
    "if s1&s2:\n",
    "    print('not disjoint')\n",
    "else:\n",
    "    print('sets are disjoint')"
   ]
  },
  {
   "cell_type": "code",
   "execution_count": null,
   "id": "f4641ee3-bb3a-4a0f-b652-ef694b2e4813",
   "metadata": {},
   "outputs": [],
   "source": [
    "#Create a set from user input and check membership of an element.\n",
    "s=set(map(int,input().split()))\n",
    "print(4 in s)\n",
    "print(5 not in s)"
   ]
  },
  {
   "cell_type": "code",
   "execution_count": null,
   "id": "e0a91b81-4a02-4435-87df-dbdf7295cbcd",
   "metadata": {},
   "outputs": [],
   "source": [
    "# Count the frequency of each character in a string using a dictionary.\n",
    "s='data science'\n",
    "d={}\n",
    "\n",
    "for i in s:\n",
    "    if i in d:\n",
    "        d[i]+=1\n",
    "    else:\n",
    "        d[i]=1\n",
    "print(d)\n",
    "    "
   ]
  },
  {
   "cell_type": "code",
   "execution_count": null,
   "id": "1adf1b80-e30d-4bb1-9d2f-0fa91055e9e5",
   "metadata": {},
   "outputs": [],
   "source": [
    "# Create a dictionary from two lists: one of keys and one of values.\n",
    "l=['a','b','c','d']\n",
    "m=[13,9,4,25]\n",
    "d=dict(zip(l,m))\n",
    "d"
   ]
  },
  {
   "cell_type": "code",
   "execution_count": null,
   "id": "a938a53d-890f-4f2e-8538-0dfabbcbd7c4",
   "metadata": {},
   "outputs": [],
   "source": [
    "#Write a program to sort a dictionary by its values.\n",
    "d=dict(sorted(d.items(), key=lambda item: item[1]))\n",
    "d"
   ]
  },
  {
   "cell_type": "code",
   "execution_count": null,
   "id": "4ce800ef-90e3-49ab-9493-351d9e342d3d",
   "metadata": {},
   "outputs": [],
   "source": [
    "# Merge two dictionaries into one.\n",
    "d1 = {'a': 13, 'b': 27}\n",
    "d2 = {'c': 36, 'd': 34}\n",
    "a=d1|d2\n",
    "a"
   ]
  },
  {
   "cell_type": "code",
   "execution_count": null,
   "id": "cff57d62-2975-4cdb-b3d7-d5a4d37e87a3",
   "metadata": {},
   "outputs": [],
   "source": [
    "# Find the key with the highest value in a dictionary.\n",
    "max_key = max(a, key=a.get)\n",
    "max_key"
   ]
  },
  {
   "cell_type": "code",
   "execution_count": null,
   "id": "67216248-bc79-47f3-bbc3-07c7ed98554e",
   "metadata": {},
   "outputs": [],
   "source": []
  }
 ],
 "metadata": {
  "kernelspec": {
   "display_name": "Python 3 (ipykernel)",
   "language": "python",
   "name": "python3"
  },
  "language_info": {
   "codemirror_mode": {
    "name": "ipython",
    "version": 3
   },
   "file_extension": ".py",
   "mimetype": "text/x-python",
   "name": "python",
   "nbconvert_exporter": "python",
   "pygments_lexer": "ipython3",
   "version": "3.13.1"
  }
 },
 "nbformat": 4,
 "nbformat_minor": 5
}
