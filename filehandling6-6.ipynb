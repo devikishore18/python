{
 "cells": [
  {
   "cell_type": "code",
   "execution_count": null,
   "id": "4dbfc31a-c240-4245-bb6b-2e8d680bada5",
   "metadata": {},
   "outputs": [],
   "source": [
    "file handling\n",
    "extensions of jupyter,excel,py,docx\n",
    ".ipynb\n",
    ".xlsx\n",
    ".py\n",
    ".docx"
   ]
  },
  {
   "cell_type": "code",
   "execution_count": 1,
   "id": "cea7d002-9a33-466f-9f58-d805d26c851c",
   "metadata": {},
   "outputs": [
    {
     "name": "stdout",
     "output_type": "stream",
     "text": [
      "11\n"
     ]
    }
   ],
   "source": [
    "f1 = open('test.txt','w')     #creating new text file   #w   write\n",
    "content = f1.write(\"hello world\")\n",
    "print(content)\n",
    "f1.close()                     #should close the file"
   ]
  },
  {
   "cell_type": "code",
   "execution_count": 2,
   "id": "32ba98ee-24f9-403a-ae7b-522f19322072",
   "metadata": {},
   "outputs": [
    {
     "data": {
      "text/plain": [
       "'hello world'"
      ]
     },
     "execution_count": 2,
     "metadata": {},
     "output_type": "execute_result"
    }
   ],
   "source": [
    "f2 = open('test.txt','r')     #read a file and should not close it    #r read\n",
    "f2.read()"
   ]
  },
  {
   "cell_type": "code",
   "execution_count": 3,
   "id": "a231f229-8dd7-436e-bbc7-908d0f3ab93e",
   "metadata": {},
   "outputs": [
    {
     "name": "stdout",
     "output_type": "stream",
     "text": [
      "12\n"
     ]
    }
   ],
   "source": [
    "f1 = open('test.txt','w')     #creating new text file   #w   write\n",
    "content = f1.write(\"good morning\")\n",
    "print(content)\n",
    "f1.close()                     #should close the file"
   ]
  },
  {
   "cell_type": "code",
   "execution_count": 4,
   "id": "6457d340-cbfb-4afc-8a3e-2563941536db",
   "metadata": {},
   "outputs": [
    {
     "data": {
      "text/plain": [
       "'good morning'"
      ]
     },
     "execution_count": 4,
     "metadata": {},
     "output_type": "execute_result"
    }
   ],
   "source": [
    "f2 = open('test.txt','r')     #over writing\n",
    "f2.read()"
   ]
  },
  {
   "cell_type": "code",
   "execution_count": 11,
   "id": "0175fc94-6062-4113-9c16-ec11f18de939",
   "metadata": {},
   "outputs": [
    {
     "name": "stdout",
     "output_type": "stream",
     "text": [
      "12\n"
     ]
    }
   ],
   "source": [
    "f1 = open('test.txt','a')     #appending text file   #a  append\n",
    "content = f1.write(\"\\nhello world\")\n",
    "print(content)\n",
    "f1.close()      "
   ]
  },
  {
   "cell_type": "code",
   "execution_count": 12,
   "id": "e9cfa315-c7ad-4bf0-8c3b-0e1b77fe04d9",
   "metadata": {},
   "outputs": [
    {
     "data": {
      "text/plain": [
       "'good morninggood morninghello world\\nhello world'"
      ]
     },
     "execution_count": 12,
     "metadata": {},
     "output_type": "execute_result"
    }
   ],
   "source": [
    "f2 = open('test.txt','r')     \n",
    "f2.read()"
   ]
  },
  {
   "cell_type": "code",
   "execution_count": 16,
   "id": "3149c209-fe34-4932-8057-bfd6a546aba7",
   "metadata": {},
   "outputs": [
    {
     "data": {
      "text/plain": [
       "'good morninggood morninghello world\\n'"
      ]
     },
     "execution_count": 16,
     "metadata": {},
     "output_type": "execute_result"
    }
   ],
   "source": [
    "f2 = open('test.txt','r')     \n",
    "f2.readline() "
   ]
  },
  {
   "cell_type": "code",
   "execution_count": 17,
   "id": "2edae39c-a8de-4d9a-b10b-6c8a8f74c717",
   "metadata": {},
   "outputs": [],
   "source": [
    "with open ('test.txt','w') as file:   #with operator no need to close\n",
    " file.write(\"hello Devi\")"
   ]
  },
  {
   "cell_type": "code",
   "execution_count": 18,
   "id": "a176b258-e3e0-4ef3-b847-75f2a68d0589",
   "metadata": {},
   "outputs": [
    {
     "data": {
      "text/plain": [
       "'hello Devi'"
      ]
     },
     "execution_count": 18,
     "metadata": {},
     "output_type": "execute_result"
    }
   ],
   "source": [
    "f2 = open('test.txt','r')     #over writing\n",
    "f2.read()"
   ]
  },
  {
   "cell_type": "code",
   "execution_count": 19,
   "id": "00494a47-1f7e-4cfc-9115-4c463ae7bf1a",
   "metadata": {},
   "outputs": [
    {
     "name": "stdout",
     "output_type": "stream",
     "text": [
      "hello Devi\n"
     ]
    }
   ],
   "source": [
    "with open('test.txt','r') as file:\n",
    " content = file.read()\n",
    " print(content)"
   ]
  },
  {
   "cell_type": "code",
   "execution_count": 22,
   "id": "51a7e20f-4310-4452-a745-1921e3d8b52a",
   "metadata": {},
   "outputs": [
    {
     "name": "stdout",
     "output_type": "stream",
     "text": [
      "2.0\n",
      "program exceuted\n"
     ]
    }
   ],
   "source": [
    "#EXCEPTION HANDLING\n",
    "a= 10\n",
    "b= 5\n",
    "c= a/b\n",
    "print (c)\n",
    "print (\"program exceuted\")"
   ]
  },
  {
   "cell_type": "code",
   "execution_count": 23,
   "id": "6f8d3dbd-0776-4866-b435-0d751effb7c5",
   "metadata": {},
   "outputs": [
    {
     "ename": "ZeroDivisionError",
     "evalue": "division by zero",
     "output_type": "error",
     "traceback": [
      "\u001b[1;31m---------------------------------------------------------------------------\u001b[0m",
      "\u001b[1;31mZeroDivisionError\u001b[0m                         Traceback (most recent call last)",
      "Cell \u001b[1;32mIn[23], line 3\u001b[0m\n\u001b[0;32m      1\u001b[0m a\u001b[38;5;241m=\u001b[39m \u001b[38;5;241m10\u001b[39m\n\u001b[0;32m      2\u001b[0m b\u001b[38;5;241m=\u001b[39m \u001b[38;5;241m0\u001b[39m\n\u001b[1;32m----> 3\u001b[0m c\u001b[38;5;241m=\u001b[39m \u001b[43ma\u001b[49m\u001b[38;5;241;43m/\u001b[39;49m\u001b[43mb\u001b[49m\n\u001b[0;32m      4\u001b[0m \u001b[38;5;28mprint\u001b[39m (c)\n\u001b[0;32m      5\u001b[0m \u001b[38;5;28mprint\u001b[39m (\u001b[38;5;124m\"\u001b[39m\u001b[38;5;124mprogram exceuted\u001b[39m\u001b[38;5;124m\"\u001b[39m)\n",
      "\u001b[1;31mZeroDivisionError\u001b[0m: division by zero"
     ]
    }
   ],
   "source": [
    "a= 10\n",
    "b= 0\n",
    "c= a/b\n",
    "print (c)\n",
    "print (\"program exceuted\")      #ZERO DIVISION ERROR"
   ]
  },
  {
   "cell_type": "code",
   "execution_count": 25,
   "id": "4d9840a0-c025-4d01-b845-f1b41d5d9107",
   "metadata": {},
   "outputs": [
    {
     "data": {
      "text/plain": [
       "[1, 2, 3, 4]"
      ]
     },
     "execution_count": 25,
     "metadata": {},
     "output_type": "execute_result"
    }
   ],
   "source": [
    "L=[1,2,3,4]\n",
    "L"
   ]
  },
  {
   "cell_type": "code",
   "execution_count": 26,
   "id": "d9c3dff2-ab47-42ad-9e16-44fb6c4cf12e",
   "metadata": {},
   "outputs": [
    {
     "data": {
      "text/plain": [
       "3"
      ]
     },
     "execution_count": 26,
     "metadata": {},
     "output_type": "execute_result"
    }
   ],
   "source": [
    "L[2]"
   ]
  },
  {
   "cell_type": "code",
   "execution_count": 27,
   "id": "7e20f2d1-268e-4e6e-8336-2384add07123",
   "metadata": {},
   "outputs": [
    {
     "ename": "IndexError",
     "evalue": "list index out of range",
     "output_type": "error",
     "traceback": [
      "\u001b[1;31m---------------------------------------------------------------------------\u001b[0m",
      "\u001b[1;31mIndexError\u001b[0m                                Traceback (most recent call last)",
      "Cell \u001b[1;32mIn[27], line 1\u001b[0m\n\u001b[1;32m----> 1\u001b[0m \u001b[43mL\u001b[49m\u001b[43m[\u001b[49m\u001b[38;5;241;43m5\u001b[39;49m\u001b[43m]\u001b[49m\n",
      "\u001b[1;31mIndexError\u001b[0m: list index out of range"
     ]
    }
   ],
   "source": [
    "L[5]   #INDEX ERROR"
   ]
  },
  {
   "cell_type": "code",
   "execution_count": 28,
   "id": "64bfb888-321d-4fc6-b5f1-a72964a4286b",
   "metadata": {},
   "outputs": [
    {
     "name": "stdout",
     "output_type": "stream",
     "text": [
      "5.0\n",
      " not in list\n",
      "program exceuted\n"
     ]
    }
   ],
   "source": [
    "try:\n",
    " a= 10\n",
    " b= 2\n",
    " c= a/b\n",
    " print(c)\n",
    " l1 = [2,3,4,5,6,7]\n",
    " print(l1[6]) \n",
    "except ZeroDivisionError:\n",
    " print(\"Cannot divide by Zero\")\n",
    "except IndexError:\n",
    " print (\" not in list\")\n",
    "print (\"program exceuted\")      #TO RUN NEXT PROGRAM EVEN IF THE ERROR OCCURS"
   ]
  },
  {
   "cell_type": "code",
   "execution_count": 29,
   "id": "d35a5192-8793-424b-802c-9419a062a67f",
   "metadata": {},
   "outputs": [
    {
     "name": "stdout",
     "output_type": "stream",
     "text": [
      "Cannot divide by Zero\n",
      "program exceuted\n"
     ]
    }
   ],
   "source": [
    "try:\n",
    " a= 10\n",
    " b= 0\n",
    " c= a/b\n",
    " print(c)\n",
    " l1 = [2,3,4,5,6,7]        #PROGRAM DOESNOT ENTER INTO LIST\n",
    " print(l1[6]) \n",
    "except ZeroDivisionError:\n",
    " print(\"Cannot divide by Zero\")     #DIRECTLY COMES HERE\n",
    "except IndexError:\n",
    " print (\" not in list\")\n",
    "print (\"program exceuted\")"
   ]
  },
  {
   "cell_type": "code",
   "execution_count": 30,
   "id": "c6f08586-e223-4150-a151-10686453acaf",
   "metadata": {},
   "outputs": [
    {
     "name": "stdout",
     "output_type": "stream",
     "text": [
      "5.0\n",
      "error\n",
      "program exceuted\n"
     ]
    }
   ],
   "source": [
    "try:\n",
    " a= 10\n",
    " b= 2\n",
    " c= a/b\n",
    " print(c)\n",
    " l1 = [2,3,4,5,6,7]\n",
    " print(l1[6]) \n",
    "except :                  #if we dont know which error will come means we just give except\n",
    " print(\"error\")\n",
    "\n",
    "print (\"program exceuted\")"
   ]
  },
  {
   "cell_type": "code",
   "execution_count": 31,
   "id": "b7d1ac51-de2f-4a1e-b8a7-89792290118a",
   "metadata": {},
   "outputs": [
    {
     "name": "stdout",
     "output_type": "stream",
     "text": [
      "4\n",
      "Cannot divide by Zero\n",
      "hello\n",
      "the program uses finally\n"
     ]
    }
   ],
   "source": [
    "#try,else,finally\n",
    "try:\n",
    " l1 = [2,3,4,5,6,7]\n",
    " print(l1[2]) \n",
    " a= 10\n",
    " b= 0\n",
    " c= a/b\n",
    " print(c)\n",
    "except ZeroDivisionError:\n",
    " print(\"Cannot divide by Zero\")\n",
    "except IndexError:\n",
    " print (\" not in list\")\n",
    "else:                         #error occured so it will not enter else statement\n",
    " print (\"program exceuted\")\n",
    "finally:\n",
    " print(\"hello\")\n",
    " print(\"the program uses finally\")"
   ]
  },
  {
   "cell_type": "code",
   "execution_count": 32,
   "id": "b2b34538-10da-431a-89c5-5574951e1595",
   "metadata": {},
   "outputs": [
    {
     "name": "stdout",
     "output_type": "stream",
     "text": [
      "4\n",
      "5.0\n",
      "program exceuted\n",
      "hello\n",
      "the program uses finally\n"
     ]
    }
   ],
   "source": [
    "try:\n",
    " l1 = [2,3,4,5,6,7]\n",
    " print(l1[2]) \n",
    " a= 10\n",
    " b= 2\n",
    " c= a/b\n",
    " print(c)\n",
    "except ZeroDivisionError:\n",
    " print(\"Cannot divide by Zero\")\n",
    "except IndexError:\n",
    " print (\" not in list\")\n",
    "else:                      #if no error else with run\n",
    " print (\"program exceuted\")\n",
    "finally:                 #whatever we give it ll run\n",
    " print(\"hello\")\n",
    " print(\"the program uses finally\")"
   ]
  },
  {
   "cell_type": "markdown",
   "id": "92d732fe-22b2-4597-8e96-b004c62e0903",
   "metadata": {},
   "source": [
    "file_names = [\"file1.txt\", \"file2.txt\", \"file3.txt\"]\n",
    "\n",
    "for file_name in file_names:\n",
    " with open(file_name, 'r') as file:\n",
    " content = file.read()\n",
    " print(f\"Contents of {file_name}:\\n{content}\\n\")"
   ]
  }
 ],
 "metadata": {
  "kernelspec": {
   "display_name": "Python 3 (ipykernel)",
   "language": "python",
   "name": "python3"
  },
  "language_info": {
   "codemirror_mode": {
    "name": "ipython",
    "version": 3
   },
   "file_extension": ".py",
   "mimetype": "text/x-python",
   "name": "python",
   "nbconvert_exporter": "python",
   "pygments_lexer": "ipython3",
   "version": "3.13.1"
  }
 },
 "nbformat": 4,
 "nbformat_minor": 5
}
