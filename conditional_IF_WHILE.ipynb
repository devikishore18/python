{
 "cells": [
  {
   "cell_type": "code",
   "execution_count": 1,
   "id": "8f38f405-3774-4161-baed-d2bff6572097",
   "metadata": {},
   "outputs": [
    {
     "name": "stdout",
     "output_type": "stream",
     "text": [
      "you are not eligible to vote\n"
     ]
    }
   ],
   "source": [
    "age=15\n",
    "if age>=18:                               #indentation\n",
    "    print('you are eligible to work')\n",
    "else:\n",
    "    print(\"you are not eligible to vote\")"
   ]
  },
  {
   "cell_type": "code",
   "execution_count": 2,
   "id": "4661afc2-dc42-47f4-897e-5b69474d6b32",
   "metadata": {},
   "outputs": [
    {
     "name": "stdin",
     "output_type": "stream",
     "text": [
      "enter your age 12\n"
     ]
    },
    {
     "name": "stdout",
     "output_type": "stream",
     "text": [
      "you are not eligible to vote\n"
     ]
    }
   ],
   "source": [
    "age=int(input(\"enter your age\"))\n",
    "if age>=18:                               #indentation\n",
    "    print('you are eligible to work')\n",
    "else:\n",
    "    print(\"you are not eligible to vote\")"
   ]
  },
  {
   "cell_type": "code",
   "execution_count": 3,
   "id": "af1d96aa-9b8b-4832-afb2-e38a423dab89",
   "metadata": {},
   "outputs": [
    {
     "name": "stdin",
     "output_type": "stream",
     "text": [
      "enter a number -1\n"
     ]
    },
    {
     "name": "stdout",
     "output_type": "stream",
     "text": [
      "number is negative\n"
     ]
    }
   ],
   "source": [
    "x=int(input(\"enter a number\"))\n",
    "if x>0:\n",
    "    print(\"number is postive\")\n",
    "elif x==0:\n",
    "    print(\"number is zero\")\n",
    "else:\n",
    "    print(\"number is negative\")"
   ]
  },
  {
   "cell_type": "code",
   "execution_count": 4,
   "id": "bc53b4a4-cd83-43a6-9f3a-9ac4135e550d",
   "metadata": {},
   "outputs": [
    {
     "name": "stdin",
     "output_type": "stream",
     "text": [
      "enter a number 2\n"
     ]
    },
    {
     "name": "stdout",
     "output_type": "stream",
     "text": [
      "number is postive\n"
     ]
    }
   ],
   "source": [
    "x=int(input(\"enter a number\"))\n",
    "if x>0:\n",
    "    print(\"number is postive\")\n",
    "else:\n",
    "    print(\"number is negative\")"
   ]
  },
  {
   "cell_type": "markdown",
   "id": "4d495ffc-08fd-49a2-b436-237499d45f26",
   "metadata": {},
   "source": [
    "grade calculator\n",
    "\n",
    "=90 grade A 75to 89 b 60-74 c below 60 d"
   ]
  },
  {
   "cell_type": "code",
   "execution_count": 5,
   "id": "cb6a6ddb-8301-47ea-93f5-2636958a5951",
   "metadata": {},
   "outputs": [
    {
     "name": "stdin",
     "output_type": "stream",
     "text": [
      "enter a mark of the student 60\n"
     ]
    },
    {
     "name": "stdout",
     "output_type": "stream",
     "text": [
      "grade C\n"
     ]
    }
   ],
   "source": [
    "x= float(input('enter a mark of the student'))\n",
    "if x>=90:\n",
    "         print(\"grade A\")\n",
    "elif 75<=x<=89:\n",
    "         print(\"grade B\")\n",
    "elif 60<=x<=74:\n",
    "         print(\"grade C\")\n",
    "else:\n",
    "     print(\"grade D\")"
   ]
  },
  {
   "cell_type": "markdown",
   "id": "1a32c0ba-1143-40d0-bf81-eab802863e19",
   "metadata": {},
   "source": [
    "#nested if\n",
    "#if condition1:\n",
    "   if condition2:"
   ]
  },
  {
   "cell_type": "code",
   "execution_count": 6,
   "id": "b1a8fbf3-2f59-46de-a042-6b0c5918ab08",
   "metadata": {},
   "outputs": [
    {
     "name": "stdout",
     "output_type": "stream",
     "text": [
      "you can vote\n"
     ]
    }
   ],
   "source": [
    "age=20\n",
    "id= True   #boolean of input\n",
    "if age>=18:\n",
    "    if id:\n",
    "        print(\"you can vote\")\n",
    "    else:\n",
    "        print(\"need id to vote\")\n",
    "else:\n",
    "    print (\"you are too young\")"
   ]
  },
  {
   "cell_type": "code",
   "execution_count": 8,
   "id": "492166f6-3ddd-483f-81e0-6d760934d1e5",
   "metadata": {},
   "outputs": [
    {
     "name": "stdin",
     "output_type": "stream",
     "text": [
      "age 19\n",
      "do you have id  (yes/no) yes\n"
     ]
    },
    {
     "name": "stdout",
     "output_type": "stream",
     "text": [
      "you can vote\n"
     ]
    }
   ],
   "source": [
    "age=int(input(\"age\"))\n",
    "id= input(\"do you have id  (yes/no)\")   #boolean of input\n",
    "if age>=18:\n",
    "    if id.lower()=='yes':\n",
    "        print(\"you can vote\")\n",
    "    else:\n",
    "        print(\"need id to vote\")\n",
    "else:\n",
    "    print (\"you are too young\")"
   ]
  },
  {
   "cell_type": "markdown",
   "id": "12a518b0-4120-40b8-93d6-74ce8d9aba02",
   "metadata": {},
   "source": [
    "student scholarship 12th pass score should be above 90 both true eligible(nested if)\n",
    "\n"
   ]
  },
  {
   "cell_type": "code",
   "execution_count": 9,
   "id": "fdad60e6-58fe-490d-b3a5-2ee2a7fdc23b",
   "metadata": {},
   "outputs": [
    {
     "name": "stdin",
     "output_type": "stream",
     "text": [
      "12th pass or fail: enter(pass/fail) pass\n",
      "enter your mark 95\n"
     ]
    },
    {
     "name": "stdout",
     "output_type": "stream",
     "text": [
      "you are eligible for scholarship\n"
     ]
    }
   ],
   "source": [
    "x=input(\"12th pass or fail: enter(pass/fail)\")\n",
    "mark=float(input(\"enter your mark\"))\n",
    "if x == 'pass':\n",
    "    if mark>90:\n",
    "           print(\"you are eligible for scholarship\")\n",
    "    else:\n",
    "           print(\"you should score above 90 to get scholarship\")\n",
    "else:\n",
    "     print(\"better luck next time\")"
   ]
  },
  {
   "cell_type": "markdown",
   "id": "b716147b-9351-4cbe-b998-495f5ef7e89d",
   "metadata": {},
   "source": [
    "#control statement while and for\n",
    "while condition:\n",
    "    print(\"\")"
   ]
  },
  {
   "cell_type": "code",
   "execution_count": 10,
   "id": "e33fb31b-c3e2-4a8a-bff3-d4da52225a57",
   "metadata": {},
   "outputs": [
    {
     "name": "stdout",
     "output_type": "stream",
     "text": [
      "0\n",
      "1\n",
      "2\n",
      "3\n",
      "4\n",
      "5\n"
     ]
    }
   ],
   "source": [
    "count=0\n",
    "while count<=5:\n",
    "    print(count)\n",
    "    count+=1"
   ]
  },
  {
   "cell_type": "code",
   "execution_count": 11,
   "id": "2f73f868-6067-4d0d-8163-e18925ea67c0",
   "metadata": {},
   "outputs": [
    {
     "name": "stdout",
     "output_type": "stream",
     "text": [
      "loop exit\n"
     ]
    }
   ],
   "source": [
    "count=6\n",
    "while count<=5:\n",
    "    print(count)\n",
    "    count+=1\n",
    "else:\n",
    "    print(\"loop exit\")"
   ]
  },
  {
   "cell_type": "code",
   "execution_count": 12,
   "id": "e77b16ee-9f9c-4bd2-99a9-4b30c7a091b4",
   "metadata": {},
   "outputs": [
    {
     "name": "stdout",
     "output_type": "stream",
     "text": [
      "1\n",
      "2\n",
      "3\n",
      "4\n",
      "5\n"
     ]
    }
   ],
   "source": [
    "x=1\n",
    "while x<10:\n",
    "    print(x)\n",
    "    if x==5:\n",
    "        break\n",
    "    x+=1"
   ]
  },
  {
   "cell_type": "code",
   "execution_count": 13,
   "id": "f32f2bf3-1700-4129-83d1-a33778433632",
   "metadata": {},
   "outputs": [
    {
     "name": "stdout",
     "output_type": "stream",
     "text": [
      "2\n",
      "3\n",
      "4\n",
      "6\n",
      "7\n",
      "8\n",
      "9\n",
      "10\n"
     ]
    }
   ],
   "source": [
    "x=1\n",
    "while x<10:\n",
    "    x+=1\n",
    "    if x==5:\n",
    "        continue\n",
    "    print(x)"
   ]
  },
  {
   "cell_type": "markdown",
   "id": "4a4b353b-eb14-4b44-86ef-4e6177def0d8",
   "metadata": {},
   "source": [
    "#print only even numbers 1-20 using while loop\n",
    "#print numbers from 1-100 stop at 50 using break \n",
    "##print numbers from 1-100 stop at 50 using continue"
   ]
  },
  {
   "cell_type": "markdown",
   "id": "5ea63090-80e2-4a7e-8370-3bc8236f76ac",
   "metadata": {},
   "source": [
    "#for loop\n",
    "for variable in sequence:\n",
    "    print(\"\")"
   ]
  },
  {
   "cell_type": "code",
   "execution_count": 15,
   "id": "b2ecf8a1-c87b-4e63-9603-a68c6e57f9b2",
   "metadata": {},
   "outputs": [
    {
     "name": "stdout",
     "output_type": "stream",
     "text": [
      "0\n",
      "1\n",
      "2\n",
      "3\n",
      "4\n"
     ]
    }
   ],
   "source": [
    "for i in range(5):\n",
    "    print(i)"
   ]
  },
  {
   "cell_type": "code",
   "execution_count": 16,
   "id": "4cad3ccb-880d-49ea-9941-61f1be49250f",
   "metadata": {},
   "outputs": [
    {
     "data": {
      "text/plain": [
       "['apple', 'banana', 'orange', 'lime', 'watermelon']"
      ]
     },
     "execution_count": 16,
     "metadata": {},
     "output_type": "execute_result"
    }
   ],
   "source": [
    "#list\n",
    "fruit=['apple','banana','orange','lime','watermelon']\n",
    "fruit"
   ]
  },
  {
   "cell_type": "code",
   "execution_count": 17,
   "id": "f9fdf05a-18b2-4084-9b54-c9b9fc68e0ff",
   "metadata": {},
   "outputs": [
    {
     "data": {
      "text/plain": [
       "list"
      ]
     },
     "execution_count": 17,
     "metadata": {},
     "output_type": "execute_result"
    }
   ],
   "source": [
    "type(fruit)"
   ]
  },
  {
   "cell_type": "code",
   "execution_count": 18,
   "id": "9f9f5c29-1247-46ec-ac4f-5324574fd509",
   "metadata": {},
   "outputs": [
    {
     "name": "stdout",
     "output_type": "stream",
     "text": [
      "apple\n",
      "banana\n",
      "orange\n",
      "lime\n",
      "watermelon\n"
     ]
    }
   ],
   "source": [
    "for i in fruit:\n",
    "    print(i)"
   ]
  },
  {
   "cell_type": "code",
   "execution_count": 19,
   "id": "747fec6a-439d-4ad1-be0f-9c8cc07cf887",
   "metadata": {},
   "outputs": [
    {
     "name": "stdout",
     "output_type": "stream",
     "text": [
      "0 apple\n",
      "1 banana\n",
      "2 orange\n",
      "3 lime\n",
      "4 watermelon\n"
     ]
    }
   ],
   "source": [
    "for index,i in enumerate(fruit):\n",
    "    print  (index,i)"
   ]
  },
  {
   "cell_type": "code",
   "execution_count": 20,
   "id": "cb83030d-bc2e-45a0-9df0-05380cd6ee29",
   "metadata": {},
   "outputs": [
    {
     "name": "stdout",
     "output_type": "stream",
     "text": [
      "one: apple\n",
      "two: banana\n",
      "three: cherry\n",
      "four: mango\n",
      "five: orange\n"
     ]
    }
   ],
   "source": [
    "index_names = [\"one\", \"two\", \"three\", \"four\", \"five\"]\n",
    "fruits = [\"apple\", \"banana\", \"cherry\", \"mango\", \"orange\"]\n",
    "\n",
    "for idx, fruit in enumerate(fruits):\n",
    " print(f\"{index_names[idx]}: {fruit}\")"
   ]
  },
  {
   "cell_type": "markdown",
   "id": "06a62c63-8589-40d4-bc4a-ad7d6175901c",
   "metadata": {},
   "source": [
    "#questions\n",
    "#create a list with +ve and -ve values and print only +ve value from the list\n",
    "#create a list. count the vowels in a given string."
   ]
  },
  {
   "cell_type": "code",
   "execution_count": 21,
   "id": "b3512ce4-aa47-4d8b-b145-ac4067cdc100",
   "metadata": {},
   "outputs": [
    {
     "data": {
      "text/plain": [
       "tuple"
      ]
     },
     "execution_count": 21,
     "metadata": {},
     "output_type": "execute_result"
    }
   ],
   "source": [
    "num=(1,2,3,4,5,6,7,8,9,10)\n",
    "type(num)"
   ]
  },
  {
   "cell_type": "code",
   "execution_count": 22,
   "id": "5ea1e131-46e7-41db-8176-623714f1a126",
   "metadata": {},
   "outputs": [
    {
     "data": {
      "text/plain": [
       "[1, 4, 9, 16, 25, 36, 49, 64, 81, 100]"
      ]
     },
     "execution_count": 22,
     "metadata": {},
     "output_type": "execute_result"
    }
   ],
   "source": [
    "square= [x**2 for x in num]\n",
    "square"
   ]
  },
  {
   "cell_type": "code",
   "execution_count": 23,
   "id": "3226b74a-59c4-4599-b207-016c955eadb6",
   "metadata": {},
   "outputs": [
    {
     "data": {
      "text/plain": [
       "[1, 8, 27, 64, 125, 216, 343, 512, 729, 1000]"
      ]
     },
     "execution_count": 23,
     "metadata": {},
     "output_type": "execute_result"
    }
   ],
   "source": [
    "cube= [x**3 for x in num]\n",
    "cube"
   ]
  },
  {
   "cell_type": "code",
   "execution_count": null,
   "id": "0dbfea5f-cc35-4fa7-a8a8-d4504b4ae76c",
   "metadata": {},
   "outputs": [],
   "source": []
  }
 ],
 "metadata": {
  "kernelspec": {
   "display_name": "Python 3 (ipykernel)",
   "language": "python",
   "name": "python3"
  },
  "language_info": {
   "codemirror_mode": {
    "name": "ipython",
    "version": 3
   },
   "file_extension": ".py",
   "mimetype": "text/x-python",
   "name": "python",
   "nbconvert_exporter": "python",
   "pygments_lexer": "ipython3",
   "version": "3.13.1"
  }
 },
 "nbformat": 4,
 "nbformat_minor": 5
}
