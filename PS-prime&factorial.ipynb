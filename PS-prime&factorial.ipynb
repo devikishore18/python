{
 "cells": [
  {
   "cell_type": "code",
   "execution_count": 2,
   "id": "a83b2321-c32d-4ef2-86d7-2bb0e357ae88",
   "metadata": {},
   "outputs": [
    {
     "name": "stdout",
     "output_type": "stream",
     "text": [
      "False\n"
     ]
    }
   ],
   "source": [
    "def prime(n):\n",
    "    if n<2:\n",
    "        return False\n",
    "    if n in [2,3]:\n",
    "        return True\n",
    "    if n==1 or n%2==0:\n",
    "        return False\n",
    "    r=3\n",
    "    while r*r<=n:\n",
    "        if n%r==0:\n",
    "            return False\n",
    "            r+=2\n",
    "    return True\n",
    "print(prime(0))            "
   ]
  },
  {
   "cell_type": "code",
   "execution_count": 2,
   "id": "8c0ee492-088b-4633-95d7-f8b2adebf13a",
   "metadata": {},
   "outputs": [
    {
     "data": {
      "text/plain": [
       "True"
      ]
     },
     "execution_count": 2,
     "metadata": {},
     "output_type": "execute_result"
    }
   ],
   "source": [
    "prime(2)"
   ]
  },
  {
   "cell_type": "code",
   "execution_count": 3,
   "id": "69f86b18-7574-44ed-b606-c5c505c9c706",
   "metadata": {},
   "outputs": [
    {
     "data": {
      "text/plain": [
       "True"
      ]
     },
     "execution_count": 3,
     "metadata": {},
     "output_type": "execute_result"
    }
   ],
   "source": [
    "prime(3)"
   ]
  },
  {
   "cell_type": "code",
   "execution_count": 4,
   "id": "1ed52b98-f973-4e67-89e5-67ef05f7efa1",
   "metadata": {},
   "outputs": [
    {
     "data": {
      "text/plain": [
       "False"
      ]
     },
     "execution_count": 4,
     "metadata": {},
     "output_type": "execute_result"
    }
   ],
   "source": [
    "prime(4)"
   ]
  },
  {
   "cell_type": "code",
   "execution_count": 3,
   "id": "b0a7fb62-2634-4604-96b5-247c8185bfb6",
   "metadata": {},
   "outputs": [
    {
     "data": {
      "text/plain": [
       "False"
      ]
     },
     "execution_count": 3,
     "metadata": {},
     "output_type": "execute_result"
    }
   ],
   "source": [
    "prime(6)"
   ]
  },
  {
   "cell_type": "code",
   "execution_count": 2,
   "id": "5c905bb0-d586-48f9-a926-091d0894b900",
   "metadata": {},
   "outputs": [
    {
     "name": "stdout",
     "output_type": "stream",
     "text": [
      "True\n"
     ]
    }
   ],
   "source": [
    "def prime(n):\n",
    "    if n<2:\n",
    "        return False\n",
    "    if n in [2,3]:\n",
    "        return True\n",
    "    if n==1 or n%2==0:\n",
    "        return False\n",
    "    \n",
    "    for r in range (n+1):\n",
    "        r=3\n",
    "        r*r<=n\n",
    "        if n%r==0:\n",
    "            return False\n",
    "            r+=2\n",
    "    return True\n",
    "print(prime(7))"
   ]
  },
  {
   "cell_type": "code",
   "execution_count": 3,
   "id": "e98952e7-b0e7-4081-abbf-90ce6e55cf5a",
   "metadata": {},
   "outputs": [
    {
     "name": "stdout",
     "output_type": "stream",
     "text": [
      "True\n"
     ]
    }
   ],
   "source": [
    "print(prime(79))"
   ]
  },
  {
   "cell_type": "code",
   "execution_count": 4,
   "id": "72ff19a0-206a-4b16-a36e-7a7c9d0d9e09",
   "metadata": {},
   "outputs": [
    {
     "name": "stdout",
     "output_type": "stream",
     "text": [
      "False\n"
     ]
    }
   ],
   "source": [
    "print(prime(64))"
   ]
  },
  {
   "cell_type": "code",
   "execution_count": 5,
   "id": "2f93cac3-611e-44bc-9f8d-7ffa40795177",
   "metadata": {},
   "outputs": [
    {
     "data": {
      "text/plain": [
       "False"
      ]
     },
     "execution_count": 5,
     "metadata": {},
     "output_type": "execute_result"
    }
   ],
   "source": [
    "prime(0)"
   ]
  },
  {
   "cell_type": "code",
   "execution_count": 6,
   "id": "411a6632-a3bb-45a9-a65b-d62edd67245c",
   "metadata": {},
   "outputs": [
    {
     "data": {
      "text/plain": [
       "False"
      ]
     },
     "execution_count": 6,
     "metadata": {},
     "output_type": "execute_result"
    }
   ],
   "source": [
    "prime(-1)"
   ]
  },
  {
   "cell_type": "code",
   "execution_count": 7,
   "id": "d208ac85-e33d-45ab-b468-54c2814d6be9",
   "metadata": {},
   "outputs": [
    {
     "name": "stdout",
     "output_type": "stream",
     "text": [
      "24\n"
     ]
    }
   ],
   "source": [
    "def factorial(n):\n",
    "    if n == 0:  \n",
    "        return 1\n",
    "    else:\n",
    "        return n * factorial(n - 1) \n",
    "      \n",
    "print(factorial(4))"
   ]
  },
  {
   "cell_type": "code",
   "execution_count": null,
   "id": "912eba9f-ab07-48b8-8e19-3dff4b673fb2",
   "metadata": {},
   "outputs": [],
   "source": []
  }
 ],
 "metadata": {
  "kernelspec": {
   "display_name": "Python 3 (ipykernel)",
   "language": "python",
   "name": "python3"
  },
  "language_info": {
   "codemirror_mode": {
    "name": "ipython",
    "version": 3
   },
   "file_extension": ".py",
   "mimetype": "text/x-python",
   "name": "python",
   "nbconvert_exporter": "python",
   "pygments_lexer": "ipython3",
   "version": "3.13.1"
  }
 },
 "nbformat": 4,
 "nbformat_minor": 5
}
