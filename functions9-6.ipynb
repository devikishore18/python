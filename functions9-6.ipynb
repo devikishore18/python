{
 "cells": [
  {
   "cell_type": "code",
   "execution_count": null,
   "id": "e1e83973-b5ce-4801-8e57-a6d85956b518",
   "metadata": {},
   "outputs": [],
   "source": [
    "#FUNCTION\n",
    "#block of code that performs a specific pass and it can be reused multiple times\n",
    "#"
   ]
  },
  {
   "cell_type": "code",
   "execution_count": 1,
   "id": "ec4e6f1d-6647-47e7-bb71-4611134a0726",
   "metadata": {},
   "outputs": [],
   "source": [
    "def function_name(parameters):\n",
    "    #code block\n",
    "    return result"
   ]
  },
  {
   "cell_type": "code",
   "execution_count": null,
   "id": "d9335f8e-411b-4311-a525-b04c18729973",
   "metadata": {},
   "outputs": [],
   "source": [
    "#def==> keyword to define a function\n",
    "#function_name==> user given func.name\n",
    "#paramters==>i/p values  (optional)\n",
    "#code block\n",
    "#return ==> value user want to send back(optional)\n"
   ]
  },
  {
   "cell_type": "code",
   "execution_count": 2,
   "id": "68cae9a8-129b-486e-b29a-6410d619952d",
   "metadata": {},
   "outputs": [],
   "source": [
    "def greet():\n",
    "    print(\"Hello Everyone\")\n",
    "    "
   ]
  },
  {
   "cell_type": "code",
   "execution_count": 3,
   "id": "f48d816a-ab3b-4c9c-9d7d-bd7944f5ee28",
   "metadata": {},
   "outputs": [
    {
     "name": "stdout",
     "output_type": "stream",
     "text": [
      "Hello Everyone\n"
     ]
    }
   ],
   "source": [
    "greet()"
   ]
  },
  {
   "cell_type": "code",
   "execution_count": 9,
   "id": "4451ab7c-9a85-4013-89f9-139eb9d22f60",
   "metadata": {},
   "outputs": [],
   "source": [
    "def Hello(name):  #with parameter\n",
    "    print(f\"hello {name}! welcome to class\")\n",
    "    "
   ]
  },
  {
   "cell_type": "code",
   "execution_count": 10,
   "id": "39f4910f-250c-4a48-8fa0-6300220cf87b",
   "metadata": {},
   "outputs": [
    {
     "name": "stdout",
     "output_type": "stream",
     "text": [
      "hello Devi! welcome to class\n"
     ]
    }
   ],
   "source": [
    "Hello(\"Devi\")"
   ]
  },
  {
   "cell_type": "code",
   "execution_count": 11,
   "id": "7e39b731-663b-45cb-bf9b-09dc86bef189",
   "metadata": {},
   "outputs": [
    {
     "name": "stdout",
     "output_type": "stream",
     "text": [
      "hello Aadhira! welcome to class\n"
     ]
    }
   ],
   "source": [
    "Hello(\"Aadhira\")"
   ]
  },
  {
   "cell_type": "code",
   "execution_count": 12,
   "id": "9d27439c-9119-40fb-9de6-250abc87f20d",
   "metadata": {},
   "outputs": [],
   "source": [
    "def add(a,b):\n",
    "    return a+b"
   ]
  },
  {
   "cell_type": "code",
   "execution_count": 13,
   "id": "82c35184-5413-40a3-9349-5ca62696a344",
   "metadata": {},
   "outputs": [
    {
     "data": {
      "text/plain": [
       "7"
      ]
     },
     "execution_count": 13,
     "metadata": {},
     "output_type": "execute_result"
    }
   ],
   "source": [
    "add(3,4)"
   ]
  },
  {
   "cell_type": "code",
   "execution_count": 14,
   "id": "e35de012-31ca-47c2-84e7-3bd759910748",
   "metadata": {},
   "outputs": [
    {
     "data": {
      "text/plain": [
       "178"
      ]
     },
     "execution_count": 14,
     "metadata": {},
     "output_type": "execute_result"
    }
   ],
   "source": [
    "add(100,78)"
   ]
  },
  {
   "cell_type": "code",
   "execution_count": 15,
   "id": "1e7c6d16-0447-4f88-b13e-0960a2da0f59",
   "metadata": {},
   "outputs": [],
   "source": [
    "def multiply(a,b):\n",
    "    return a*b\n"
   ]
  },
  {
   "cell_type": "code",
   "execution_count": 16,
   "id": "c9a67c31-6863-4df2-b977-1bf1fe0228cb",
   "metadata": {},
   "outputs": [
    {
     "data": {
      "text/plain": [
       "6"
      ]
     },
     "execution_count": 16,
     "metadata": {},
     "output_type": "execute_result"
    }
   ],
   "source": [
    "multiply(2,3)"
   ]
  },
  {
   "cell_type": "code",
   "execution_count": 17,
   "id": "fb77c096-5f59-415e-ae2b-b2f4ce090ba4",
   "metadata": {},
   "outputs": [
    {
     "data": {
      "text/plain": [
       "2184"
      ]
     },
     "execution_count": 17,
     "metadata": {},
     "output_type": "execute_result"
    }
   ],
   "source": [
    "multiply(39,56)"
   ]
  },
  {
   "cell_type": "code",
   "execution_count": 18,
   "id": "13507567-66cb-4129-bbfd-faee7c7149f3",
   "metadata": {},
   "outputs": [],
   "source": [
    "#odd or even\n",
    "def oe(a):\n",
    "    if a%2==0:\n",
    "        print(\"it is even\")\n",
    "    else:\n",
    "        print(\"it is odd\")\n",
    "        "
   ]
  },
  {
   "cell_type": "code",
   "execution_count": 19,
   "id": "49d414b3-1375-4ab2-8180-74eb92c16337",
   "metadata": {},
   "outputs": [
    {
     "name": "stdout",
     "output_type": "stream",
     "text": [
      "it is even\n"
     ]
    }
   ],
   "source": [
    "oe(4)"
   ]
  },
  {
   "cell_type": "code",
   "execution_count": 20,
   "id": "a62e6db1-d1ec-4129-858f-e3de23cb90fb",
   "metadata": {},
   "outputs": [
    {
     "name": "stdout",
     "output_type": "stream",
     "text": [
      "it is odd\n"
     ]
    }
   ],
   "source": [
    "oe(3)"
   ]
  },
  {
   "cell_type": "code",
   "execution_count": 31,
   "id": "f34b2285-2655-4652-aa8e-65a91fa85dc8",
   "metadata": {},
   "outputs": [],
   "source": [
    "\n",
    "def num(number):    \n",
    "    if number%2 == 0:\n",
    "          print(\"even number\")\n",
    "    else:\n",
    "          print(\"odd number\")\n",
    "    return num"
   ]
  },
  {
   "cell_type": "code",
   "execution_count": 33,
   "id": "2fc40647-e384-4a69-9d25-ecd532585c19",
   "metadata": {},
   "outputs": [
    {
     "name": "stdout",
     "output_type": "stream",
     "text": [
      "even number\n"
     ]
    },
    {
     "data": {
      "text/plain": [
       "<function __main__.num(number)>"
      ]
     },
     "execution_count": 33,
     "metadata": {},
     "output_type": "execute_result"
    }
   ],
   "source": [
    "num(4)"
   ]
  },
  {
   "cell_type": "code",
   "execution_count": 35,
   "id": "e13c9a75-2d9b-48db-ae5b-c5692c08f91a",
   "metadata": {},
   "outputs": [],
   "source": [
    "def num():    \n",
    "    number=int(input(\"enter a number\"))\n",
    "    if number%2 == 0:\n",
    "          print(\"even number\")\n",
    "    else:\n",
    "          print(\"odd number\")\n",
    "    "
   ]
  },
  {
   "cell_type": "code",
   "execution_count": 36,
   "id": "1f2b74db-310a-4550-8717-f2a5adc4eee8",
   "metadata": {},
   "outputs": [
    {
     "name": "stdin",
     "output_type": "stream",
     "text": [
      "enter a number 4\n"
     ]
    },
    {
     "name": "stdout",
     "output_type": "stream",
     "text": [
      "even number\n"
     ]
    }
   ],
   "source": [
    "num()"
   ]
  },
  {
   "cell_type": "code",
   "execution_count": 37,
   "id": "34458937-81fe-4e43-b27e-21271bc083a6",
   "metadata": {},
   "outputs": [
    {
     "name": "stdin",
     "output_type": "stream",
     "text": [
      "enter a number 3\n"
     ]
    },
    {
     "name": "stdout",
     "output_type": "stream",
     "text": [
      "odd number\n"
     ]
    }
   ],
   "source": [
    "num()\n"
   ]
  },
  {
   "cell_type": "code",
   "execution_count": 58,
   "id": "beb95ed2-0f21-4aa1-910f-e3623a9b6b77",
   "metadata": {},
   "outputs": [],
   "source": [
    "#take a list of numbers that returns sum of all elements\n",
    "def sum(a,b,c):\n",
    "    return a+b+c  \n",
    "        \n",
    "    \n"
   ]
  },
  {
   "cell_type": "code",
   "execution_count": 59,
   "id": "126126de-3f0c-486e-8186-63abb097414e",
   "metadata": {},
   "outputs": [
    {
     "data": {
      "text/plain": [
       "6"
      ]
     },
     "execution_count": 59,
     "metadata": {},
     "output_type": "execute_result"
    }
   ],
   "source": [
    "sum(1,2,3)"
   ]
  },
  {
   "cell_type": "code",
   "execution_count": 1,
   "id": "0c00ef6b-5558-4c7e-909d-02bda669e59a",
   "metadata": {},
   "outputs": [],
   "source": [
    "def sum_list(numbers):\n",
    " return sum(numbers)"
   ]
  },
  {
   "cell_type": "code",
   "execution_count": 2,
   "id": "f1f75a87-fe97-4793-ae01-ac592feb785f",
   "metadata": {},
   "outputs": [
    {
     "name": "stdout",
     "output_type": "stream",
     "text": [
      "Sum of the list: 15\n"
     ]
    }
   ],
   "source": [
    "my_list = [1, 2, 3, 4, 5]\n",
    "print(\"Sum of the list:\", sum_list(my_list))"
   ]
  },
  {
   "cell_type": "code",
   "execution_count": 3,
   "id": "907da62b-ad55-4150-ac73-05724b610680",
   "metadata": {},
   "outputs": [],
   "source": [
    "x=10           #global scope/variable\n",
    "def func():\n",
    "    y=5        #local variable\n",
    "    print(x+y)"
   ]
  },
  {
   "cell_type": "code",
   "execution_count": 4,
   "id": "b11d1e9c-ff69-4a66-a004-0e9c44cd0a39",
   "metadata": {},
   "outputs": [
    {
     "name": "stdout",
     "output_type": "stream",
     "text": [
      "15\n"
     ]
    }
   ],
   "source": [
    "func()"
   ]
  },
  {
   "cell_type": "code",
   "execution_count": 5,
   "id": "f9a06ab8-4b43-4968-89ae-fdd39d7dd19f",
   "metadata": {},
   "outputs": [
    {
     "name": "stdout",
     "output_type": "stream",
     "text": [
      "10\n"
     ]
    }
   ],
   "source": [
    "print(x)"
   ]
  },
  {
   "cell_type": "code",
   "execution_count": 6,
   "id": "1105dbec-379e-4575-b2c3-a720ab51c55c",
   "metadata": {},
   "outputs": [
    {
     "ename": "NameError",
     "evalue": "name 'y' is not defined",
     "output_type": "error",
     "traceback": [
      "\u001b[1;31m---------------------------------------------------------------------------\u001b[0m",
      "\u001b[1;31mNameError\u001b[0m                                 Traceback (most recent call last)",
      "Cell \u001b[1;32mIn[6], line 1\u001b[0m\n\u001b[1;32m----> 1\u001b[0m \u001b[38;5;28mprint\u001b[39m(\u001b[43my\u001b[49m)\n",
      "\u001b[1;31mNameError\u001b[0m: name 'y' is not defined"
     ]
    }
   ],
   "source": [
    "print(y)   # it is defined inside the function(local scope)"
   ]
  },
  {
   "cell_type": "code",
   "execution_count": null,
   "id": "d85cc94e-6f63-4045-91e2-2f6662097cdc",
   "metadata": {},
   "outputs": [],
   "source": [
    "#lambda function(one line code)\n",
    "#anonymous function(nameless)"
   ]
  },
  {
   "cell_type": "code",
   "execution_count": 7,
   "id": "f9eae264-2259-4851-b7e0-465841021651",
   "metadata": {},
   "outputs": [],
   "source": [
    "square= lambda x: x**2"
   ]
  },
  {
   "cell_type": "code",
   "execution_count": 8,
   "id": "a45bb160-9439-4a19-83fb-1a760346dac5",
   "metadata": {},
   "outputs": [
    {
     "data": {
      "text/plain": [
       "16"
      ]
     },
     "execution_count": 8,
     "metadata": {},
     "output_type": "execute_result"
    }
   ],
   "source": [
    "square(4)"
   ]
  },
  {
   "cell_type": "code",
   "execution_count": 9,
   "id": "a2ff9137-d543-4f3b-bf73-cb17c0d12b31",
   "metadata": {},
   "outputs": [
    {
     "data": {
      "text/plain": [
       "8"
      ]
     },
     "execution_count": 9,
     "metadata": {},
     "output_type": "execute_result"
    }
   ],
   "source": [
    "cube= lambda a: a**3\n",
    "cube(2)"
   ]
  },
  {
   "cell_type": "code",
   "execution_count": 28,
   "id": "42ed7377-efb6-4803-9be5-cd57894f1c2e",
   "metadata": {},
   "outputs": [],
   "source": [
    "# take a list of numbers and return a new list with only even numbers\n",
    "\n",
    "def even(numbers):\n",
    "    even_numbers=[]\n",
    "    for i in numbers:\n",
    "         if i%2 == 0:\n",
    "             even_numbers.append(i)\n",
    "    return even_numbers\n",
    "        "
   ]
  },
  {
   "cell_type": "code",
   "execution_count": 29,
   "id": "e369ac75-14b2-4639-8030-ad711fe754c9",
   "metadata": {},
   "outputs": [
    {
     "ename": "TypeError",
     "evalue": "even() missing 1 required positional argument: 'numbers'",
     "output_type": "error",
     "traceback": [
      "\u001b[1;31m---------------------------------------------------------------------------\u001b[0m",
      "\u001b[1;31mTypeError\u001b[0m                                 Traceback (most recent call last)",
      "Cell \u001b[1;32mIn[29], line 1\u001b[0m\n\u001b[1;32m----> 1\u001b[0m \u001b[43meven\u001b[49m\u001b[43m(\u001b[49m\u001b[43m)\u001b[49m\n",
      "\u001b[1;31mTypeError\u001b[0m: even() missing 1 required positional argument: 'numbers'"
     ]
    }
   ],
   "source": [
    "even()"
   ]
  },
  {
   "cell_type": "code",
   "execution_count": 30,
   "id": "4f49e628-8fc3-4943-8f96-be7722fe75c6",
   "metadata": {},
   "outputs": [],
   "source": [
    "l=[1,2,3,4,5]\n"
   ]
  },
  {
   "cell_type": "code",
   "execution_count": 31,
   "id": "3b612963-55b7-4b6f-8e6d-053c961e0f1c",
   "metadata": {},
   "outputs": [],
   "source": [
    "result= even(l)"
   ]
  },
  {
   "cell_type": "code",
   "execution_count": 32,
   "id": "ee10a150-e9df-4bbe-8a07-2f9620202981",
   "metadata": {},
   "outputs": [
    {
     "data": {
      "text/plain": [
       "[2, 4]"
      ]
     },
     "execution_count": 32,
     "metadata": {},
     "output_type": "execute_result"
    }
   ],
   "source": [
    "result"
   ]
  },
  {
   "cell_type": "code",
   "execution_count": 33,
   "id": "e35d692c-2d0b-4a19-a0a4-cbebd054ddac",
   "metadata": {},
   "outputs": [
    {
     "data": {
      "text/plain": [
       "[2, 4]"
      ]
     },
     "execution_count": 33,
     "metadata": {},
     "output_type": "execute_result"
    }
   ],
   "source": [
    "even(l)"
   ]
  },
  {
   "cell_type": "code",
   "execution_count": null,
   "id": "9122ccec-58af-467d-b3ea-262aab4873a8",
   "metadata": {},
   "outputs": [],
   "source": []
  }
 ],
 "metadata": {
  "kernelspec": {
   "display_name": "Python 3 (ipykernel)",
   "language": "python",
   "name": "python3"
  },
  "language_info": {
   "codemirror_mode": {
    "name": "ipython",
    "version": 3
   },
   "file_extension": ".py",
   "mimetype": "text/x-python",
   "name": "python",
   "nbconvert_exporter": "python",
   "pygments_lexer": "ipython3",
   "version": "3.13.1"
  }
 },
 "nbformat": 4,
 "nbformat_minor": 5
}
