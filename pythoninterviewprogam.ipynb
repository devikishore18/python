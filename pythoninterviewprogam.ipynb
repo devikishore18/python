{
 "cells": [
  {
   "cell_type": "markdown",
   "id": "5c64749c-284b-4864-9376-d25b6feb145d",
   "metadata": {},
   "source": [
    "1.Write a Python program to reverse the words in a given sentence.\n",
    "Input: \"Python is fun\"\n",
    "Output: \"fun is Python\""
   ]
  },
  {
   "cell_type": "code",
   "execution_count": 23,
   "id": "f8949061-e0e9-4120-90f2-0729ce9e2caf",
   "metadata": {},
   "outputs": [
    {
     "data": {
      "text/plain": [
       "'fun is Python'"
      ]
     },
     "execution_count": 23,
     "metadata": {},
     "output_type": "execute_result"
    }
   ],
   "source": [
    "sentence=\"Python is fun\"\n",
    "s= ' '.join(sentence.split(' ')[::-1])\n",
    "s"
   ]
  },
  {
   "cell_type": "code",
   "execution_count": 37,
   "id": "b0669968-14b2-4727-af5f-95c56f1a73de",
   "metadata": {},
   "outputs": [
    {
     "name": "stdin",
     "output_type": "stream",
     "text": [
      "enter a sentence hi how are you\n"
     ]
    },
    {
     "data": {
      "text/plain": [
       "'you are how hi'"
      ]
     },
     "execution_count": 37,
     "metadata": {},
     "output_type": "execute_result"
    }
   ],
   "source": [
    "Sentence=input(\"enter a sentence\")\n",
    "S=' '.join(Sentence.split(' ')[::-1])\n",
    "S"
   ]
  },
  {
   "cell_type": "markdown",
   "id": "243ed831-d2bb-4d1c-92b3-81d0602aa773",
   "metadata": {},
   "source": [
    "2.Write a program to calculate the sum of digits in a given number.\n",
    "Example:\n",
    " Input: 123\n",
    " Output: 6"
   ]
  },
  {
   "cell_type": "code",
   "execution_count": 162,
   "id": "dd51aebd-212e-4ccc-9949-ecfc8f0b069f",
   "metadata": {},
   "outputs": [
    {
     "data": {
      "text/plain": [
       "6"
      ]
     },
     "execution_count": 162,
     "metadata": {},
     "output_type": "execute_result"
    }
   ],
   "source": [
    "a=1,2,3\n",
    "b=sum(a)\n",
    "b"
   ]
  },
  {
   "cell_type": "markdown",
   "id": "2d28bcfa-ac2b-45f2-8d73-5143d3b7038c",
   "metadata": {},
   "source": [
    "3. Write a Python function to count the number of vowels in a string.\n",
    "Example:\n",
    " Input: \"hello world\"\n",
    " Output: 3"
   ]
  },
  {
   "cell_type": "code",
   "execution_count": 36,
   "id": "8efa534f-c8fe-44d6-9da4-1da034243fc6",
   "metadata": {},
   "outputs": [
    {
     "name": "stdout",
     "output_type": "stream",
     "text": [
      "3\n"
     ]
    }
   ],
   "source": [
    "string=(\"hello world\")\n",
    "count=0\n",
    "vowels='aeiou'\n",
    "for i in string:\n",
    "    if i in vowels:\n",
    "        count+=1  \n",
    "print(count)    \n"
   ]
  },
  {
   "cell_type": "markdown",
   "id": "8e8f9cce-a695-4326-b6e4-d1576d1d30e3",
   "metadata": {},
   "source": [
    "4. Write a program to check whether a string is a palindrome.\n",
    "Example:\n",
    " Input: \"madam\"\n",
    " Output: True"
   ]
  },
  {
   "cell_type": "code",
   "execution_count": 40,
   "id": "2a6f9ec2-dacc-45b9-b7c9-295f949f40d8",
   "metadata": {},
   "outputs": [
    {
     "name": "stdin",
     "output_type": "stream",
     "text": [
      "enter a word: mam\n"
     ]
    },
    {
     "name": "stdout",
     "output_type": "stream",
     "text": [
      "it is a palindrome\n"
     ]
    }
   ],
   "source": [
    "WORD=input(\"enter a word:\")\n",
    "if WORD[::-1]== WORD:\n",
    "     print(\"it is a palindrome\")\n",
    "else:\n",
    "        print (\"it is not a palindrome\")"
   ]
  },
  {
   "cell_type": "code",
   "execution_count": 41,
   "id": "207affa7-ccfd-4074-92fc-143e29a7bf01",
   "metadata": {},
   "outputs": [
    {
     "name": "stdin",
     "output_type": "stream",
     "text": [
      "enter a word: mam\n"
     ]
    },
    {
     "name": "stdout",
     "output_type": "stream",
     "text": [
      "True\n"
     ]
    }
   ],
   "source": [
    "W=input(\"enter a word:\")\n",
    "if W[::-1]== W:\n",
    "    print(bool(W))"
   ]
  },
  {
   "cell_type": "markdown",
   "id": "9ff3fa9d-8bbe-45e1-981e-3c0940e60678",
   "metadata": {},
   "source": [
    "5. Write a function to find the largest number in a list without using max() function.\n",
    "Example:\n",
    " Input: [5, 12, 7, 9]\n",
    " Output: 12"
   ]
  },
  {
   "cell_type": "code",
   "execution_count": 44,
   "id": "a755aee5-fbe8-4ed2-9185-c580f2e5d24f",
   "metadata": {},
   "outputs": [
    {
     "data": {
      "text/plain": [
       "12"
      ]
     },
     "execution_count": 44,
     "metadata": {},
     "output_type": "execute_result"
    }
   ],
   "source": [
    "n= [5, 12, 7, 9]\n",
    "n.sort()\n",
    "n[-1]"
   ]
  },
  {
   "cell_type": "markdown",
   "id": "3ffd2954-e222-420e-84e9-bc60daadd851",
   "metadata": {},
   "source": [
    "6. Write a Python program to remove duplicate values from a list.\n",
    "Example:\n",
    " Input: [1, 2, 2, 3, 1]\n",
    " Output: [1, 2, 3]"
   ]
  },
  {
   "cell_type": "code",
   "execution_count": 65,
   "id": "9444179a-89f3-410c-adcd-4b4eb923e502",
   "metadata": {},
   "outputs": [
    {
     "data": {
      "text/plain": [
       "[1, 2, 3]"
      ]
     },
     "execution_count": 65,
     "metadata": {},
     "output_type": "execute_result"
    }
   ],
   "source": [
    "l= [1, 2, 2, 3, 1]\n",
    "l1=set(l)\n",
    "list(l1)"
   ]
  },
  {
   "cell_type": "markdown",
   "id": "9c801ff8-4b0d-43d7-a44f-890dd588e129",
   "metadata": {},
   "source": [
    "7.Write a program to find the factorial of a given number.\n",
    "Example:\n",
    " Input: 5\n",
    " Output: 120"
   ]
  },
  {
   "cell_type": "code",
   "execution_count": 66,
   "id": "f626e03b-8dff-4272-b326-646eb343b265",
   "metadata": {},
   "outputs": [
    {
     "data": {
      "text/plain": [
       "120"
      ]
     },
     "execution_count": 66,
     "metadata": {},
     "output_type": "execute_result"
    }
   ],
   "source": [
    "number= 5\n",
    "n=5*4*3*2*1\n",
    "n\n"
   ]
  },
  {
   "cell_type": "code",
   "execution_count": 69,
   "id": "6d53fb79-d423-43e8-b62e-34e9f7f1f77a",
   "metadata": {},
   "outputs": [
    {
     "name": "stdin",
     "output_type": "stream",
     "text": [
      "enter a number 5\n"
     ]
    },
    {
     "data": {
      "text/plain": [
       "120"
      ]
     },
     "execution_count": 69,
     "metadata": {},
     "output_type": "execute_result"
    }
   ],
   "source": [
    "import math\n",
    "N=int(input(\"enter a number\"))\n",
    "f=math.factorial(N)\n",
    "f"
   ]
  },
  {
   "cell_type": "code",
   "execution_count": 71,
   "id": "0039484d-d353-40d9-acfa-2f8fec14f002",
   "metadata": {},
   "outputs": [
    {
     "name": "stdin",
     "output_type": "stream",
     "text": [
      "enter a number 6\n"
     ]
    },
    {
     "name": "stdout",
     "output_type": "stream",
     "text": [
      "720\n"
     ]
    }
   ],
   "source": [
    "num=int(input(\"enter a number\"))\n",
    "fact=1\n",
    "for i in range(1,num+1):\n",
    "    fact*=i\n",
    "print(fact)\n",
    "    \n"
   ]
  },
  {
   "cell_type": "markdown",
   "id": "135cf81a-dbda-4176-9b4f-7648d1fe8eec",
   "metadata": {},
   "source": [
    "8.Write a Python program to return all even numbers in a list.\n",
    "Example:\n",
    " Input: [1, 4, 5, 6]\n",
    " Output: [4, 6]"
   ]
  },
  {
   "cell_type": "code",
   "execution_count": 77,
   "id": "d47839a2-f3ce-4d95-a83b-793beea67767",
   "metadata": {},
   "outputs": [
    {
     "name": "stdout",
     "output_type": "stream",
     "text": [
      "4\n",
      "6\n"
     ]
    }
   ],
   "source": [
    "b= [1, 4, 5, 6]\n",
    "for i in b:\n",
    "    if i%2==0:\n",
    "       print(i)\n"
   ]
  },
  {
   "cell_type": "markdown",
   "id": "d7b5c73c-5125-4071-a8ef-0029780e8436",
   "metadata": {},
   "source": [
    "Write a function to count how many times each character appears in a string.\n",
    "Example:\n",
    " Input: \"banana\"\n",
    " Output: {'b': 1, 'a': 3, 'n': 2}\n"
   ]
  },
  {
   "cell_type": "code",
   "execution_count": 84,
   "id": "855c0185-ca09-45bf-b39f-f6c3033c0dcc",
   "metadata": {},
   "outputs": [
    {
     "name": "stdout",
     "output_type": "stream",
     "text": [
      "{'b': 1, 'a': 3, 'n': 2}\n"
     ]
    }
   ],
   "source": [
    "s1=\"banana\"\n",
    "count={}\n",
    "for char in s1:\n",
    "    if char in count:\n",
    "        count[char]+=1\n",
    "    else:\n",
    "        count[char]=1\n",
    "\n",
    "print(count)\n",
    "\n",
    "    "
   ]
  },
  {
   "cell_type": "markdown",
   "id": "b2c5b6ce-aa84-4b05-b897-df415cae6152",
   "metadata": {},
   "source": [
    "10.Write a Python program to count the number of words in a sentence.\n",
    "Example:\n",
    " Input: \"Python is easy to learn\"\n",
    " Output: 5"
   ]
  },
  {
   "cell_type": "code",
   "execution_count": 91,
   "id": "edecff1f-52d7-4fd1-b9c4-09a7f3991ffd",
   "metadata": {},
   "outputs": [
    {
     "data": {
      "text/plain": [
       "5"
      ]
     },
     "execution_count": 91,
     "metadata": {},
     "output_type": "execute_result"
    }
   ],
   "source": [
    "sen=\"Python is easy to learn\"\n",
    "s2=sen.split()\n",
    "len(s2)\n"
   ]
  },
  {
   "cell_type": "markdown",
   "id": "a2d2c102-77c5-445b-93a6-3925e424c487",
   "metadata": {},
   "source": [
    "11.Write a program to check if two strings are anagrams.\n",
    "Example:\n",
    " Input: \"listen\", \"silent\"\n",
    " Output: True"
   ]
  },
  {
   "cell_type": "code",
   "execution_count": 109,
   "id": "b0645fc8-0387-4150-9cb5-df9aea10c203",
   "metadata": {},
   "outputs": [
    {
     "name": "stdin",
     "output_type": "stream",
     "text": [
      "enter a word silent\n",
      "enter a word listen\n"
     ]
    },
    {
     "data": {
      "text/plain": [
       "True"
      ]
     },
     "execution_count": 109,
     "metadata": {},
     "output_type": "execute_result"
    }
   ],
   "source": [
    "a=list(input('enter a word'))\n",
    "b=list(input('enter a word'))\n",
    "a.sort()==b.sort()  \n",
    "\n"
   ]
  },
  {
   "cell_type": "markdown",
   "id": "c1a78d87-f284-4880-9785-dd969894e46f",
   "metadata": {},
   "source": [
    "12.Write a Python function to convert Celsius temperature to Fahrenheit.\n",
    "Example:\n",
    " Input: 0\n",
    " Output: 32.0"
   ]
  },
  {
   "cell_type": "code",
   "execution_count": 111,
   "id": "65cf5bf2-4295-4cff-98e8-4bcf96e2ee13",
   "metadata": {},
   "outputs": [
    {
     "name": "stdin",
     "output_type": "stream",
     "text": [
      "enter a celcius 0\n"
     ]
    },
    {
     "data": {
      "text/plain": [
       "32.0"
      ]
     },
     "execution_count": 111,
     "metadata": {},
     "output_type": "execute_result"
    }
   ],
   "source": [
    "C=float(input('enter a celcius'))\n",
    "F = (C * 9/5) + 32\n",
    "F"
   ]
  },
  {
   "cell_type": "markdown",
   "id": "27e7275f-93d7-443f-aa0c-6d2f73b17d81",
   "metadata": {},
   "source": [
    "13.Write a program to count how many uppercase letters are in a string.\n",
    "Example:\n",
    " Input: \"Hello World\"\n",
    " Output: 2"
   ]
  },
  {
   "cell_type": "code",
   "execution_count": 117,
   "id": "c7db3241-1482-44c3-880d-c61408573709",
   "metadata": {},
   "outputs": [
    {
     "name": "stdin",
     "output_type": "stream",
     "text": [
      "enter a sentence HeLLO worLD\n"
     ]
    },
    {
     "name": "stdout",
     "output_type": "stream",
     "text": [
      "6\n"
     ]
    }
   ],
   "source": [
    "s= input (\"enter a sentence\")\n",
    "count=0\n",
    "for i in s:\n",
    "    if i.isupper():\n",
    "        count+=1\n",
    "print(count)\n",
    "        \n"
   ]
  },
  {
   "cell_type": "markdown",
   "id": "def9aeea-a8b8-4714-b819-b48bfb0742f7",
   "metadata": {},
   "source": [
    "14.Write a Python function to find the second largest number in a list.\n",
    "Example:\n",
    " Input: [10, 20, 15, 5]\n",
    " Output: 15"
   ]
  },
  {
   "cell_type": "code",
   "execution_count": 120,
   "id": "10a9f2f2-44bc-40d2-ae50-3461e2ea4821",
   "metadata": {},
   "outputs": [
    {
     "data": {
      "text/plain": [
       "15"
      ]
     },
     "execution_count": 120,
     "metadata": {},
     "output_type": "execute_result"
    }
   ],
   "source": [
    "n= [10, 20, 15, 5]\n",
    "n.sort()\n",
    "n[-2]"
   ]
  },
  {
   "cell_type": "markdown",
   "id": "942ce81a-e243-469c-9263-92fd7b542b5f",
   "metadata": {},
   "source": [
    "15.Write a function to merge two lists into one.\n",
    "Example:\n",
    " Input: [1, 2], [3, 4]\n",
    " Output: [1, 2, 3, 4]"
   ]
  },
  {
   "cell_type": "code",
   "execution_count": 122,
   "id": "6f50bd29-8635-4932-9cc9-8920a81a58e8",
   "metadata": {},
   "outputs": [
    {
     "data": {
      "text/plain": [
       "[1, 2, 3, 4]"
      ]
     },
     "execution_count": 122,
     "metadata": {},
     "output_type": "execute_result"
    }
   ],
   "source": [
    "l1,l2=[1, 2], [3, 4]\n",
    "l1.extend(l2)\n",
    "l1"
   ]
  },
  {
   "cell_type": "markdown",
   "id": "678d81b5-750b-4779-9cc6-964fe9b2d951",
   "metadata": {},
   "source": [
    "16.Write a program to find common elements in two lists.\n",
    "Example:\n",
    " Input: [1, 2, 3], [2, 3, 4]\n",
    " Output: [2, 3]"
   ]
  },
  {
   "cell_type": "code",
   "execution_count": 127,
   "id": "ae1a42eb-ae37-413b-92a4-16c293fd0678",
   "metadata": {},
   "outputs": [
    {
     "data": {
      "text/plain": [
       "[2, 3]"
      ]
     },
     "execution_count": 127,
     "metadata": {},
     "output_type": "execute_result"
    }
   ],
   "source": [
    "l1, l2=[1, 2, 3], [2, 3, 4]\n",
    "l1=set(l1)\n",
    "l2=set(l2)\n",
    "l3=list(l1.intersection(l2))\n",
    "l3"
   ]
  },
  {
   "cell_type": "markdown",
   "id": "daff066b-b554-4ddd-af0a-db7a368728a5",
   "metadata": {},
   "source": [
    "17.Write a function to return the square of each number in a list.\n",
    "Example:\n",
    " Input: [1, 2, 3]\n",
    " Output: [1, 4, 9]"
   ]
  },
  {
   "cell_type": "code",
   "execution_count": 130,
   "id": "9701be9f-b67b-4371-8859-1526a98187e8",
   "metadata": {},
   "outputs": [
    {
     "data": {
      "text/plain": [
       "[1, 4, 9]"
      ]
     },
     "execution_count": 130,
     "metadata": {},
     "output_type": "execute_result"
    }
   ],
   "source": [
    "l= [1, 2, 3]\n",
    "l1=[i**2 for i in l]\n",
    "l1"
   ]
  },
  {
   "cell_type": "markdown",
   "id": "a7e48804-e7ca-46f0-8191-1463718e97bc",
   "metadata": {},
   "source": [
    "18.Write a Python function that returns the count of even and odd numbers in a list.\n",
    "Example:\n",
    " Input: [1, 2, 3, 4]\n",
    " Output: (2, 2)"
   ]
  },
  {
   "cell_type": "code",
   "execution_count": 137,
   "id": "5623d97c-5e99-43a6-af6c-b3d4b12df108",
   "metadata": {},
   "outputs": [
    {
     "name": "stdout",
     "output_type": "stream",
     "text": [
      "2 2\n"
     ]
    }
   ],
   "source": [
    "n = [1, 2, 3, 4]\n",
    "odd=[]\n",
    "even=[]\n",
    "for i in n:\n",
    "      if i%2==0:\n",
    "          even.append(i)\n",
    "      else:\n",
    "          odd.append(i)\n",
    "print(len(odd),len(even))\n",
    "\n"
   ]
  },
  {
   "cell_type": "markdown",
   "id": "0b15d7f2-fdc9-4baa-8d1c-77579c9e6592",
   "metadata": {},
   "source": [
    "19.Write a program to swap the first and last elements in a list.\n",
    "Example:\n",
    " Input: [1, 2, 3, 4]\n",
    " Output: [4, 2, 3, 1]"
   ]
  },
  {
   "cell_type": "code",
   "execution_count": 138,
   "id": "ea91ced5-2153-4815-b55b-b3ad89980441",
   "metadata": {},
   "outputs": [
    {
     "data": {
      "text/plain": [
       "[4, 2, 3, 1]"
      ]
     },
     "execution_count": 138,
     "metadata": {},
     "output_type": "execute_result"
    }
   ],
   "source": [
    "l= [1, 2, 3, 4]\n",
    "l2=[l[-1],l[1],l[2],l[0]]\n",
    "l2"
   ]
  },
  {
   "cell_type": "markdown",
   "id": "9d7b2585-f913-429e-86a5-9df1447a48ed",
   "metadata": {},
   "source": [
    "20.Write a Python program to find the sum of elements in a list.\n",
    "Example:\n",
    " Input: [1, 2, 3]\n",
    " Output: 6"
   ]
  },
  {
   "cell_type": "code",
   "execution_count": 219,
   "id": "3d33018e-2f7e-4ded-b66a-aa6cc2bc65bc",
   "metadata": {},
   "outputs": [
    {
     "name": "stdout",
     "output_type": "stream",
     "text": [
      "10\n"
     ]
    }
   ],
   "source": [
    "n=[1,2,3,4]\n",
    "for i in n:\n",
    "    i+=1\n",
    "print(sum(n))\n"
   ]
  },
  {
   "cell_type": "markdown",
   "id": "2c284484-0e1e-4c9a-91ea-d8e3ca5df167",
   "metadata": {},
   "source": [
    "21.Write a function to return the longest word in a sentence.\n",
    "Example:\n",
    " Input: \"Python is amazing\"\n",
    " Output: \"amazing\""
   ]
  },
  {
   "cell_type": "code",
   "execution_count": 188,
   "id": "3ff18f73-2e47-4e2a-bd42-aad9e4595645",
   "metadata": {},
   "outputs": [
    {
     "name": "stdin",
     "output_type": "stream",
     "text": [
      "enter a sentence Python is amazing\n"
     ]
    },
    {
     "data": {
      "text/plain": [
       "['Python', 'is', 'amazing']"
      ]
     },
     "execution_count": 188,
     "metadata": {},
     "output_type": "execute_result"
    }
   ],
   "source": [
    "s=input('enter a sentence')\n",
    "words=s.split()\n",
    "words"
   ]
  },
  {
   "cell_type": "code",
   "execution_count": 189,
   "id": "67ced97e-8e76-407f-a316-175336184eef",
   "metadata": {},
   "outputs": [
    {
     "data": {
      "text/plain": [
       "list"
      ]
     },
     "execution_count": 189,
     "metadata": {},
     "output_type": "execute_result"
    }
   ],
   "source": [
    "type(words)"
   ]
  },
  {
   "cell_type": "code",
   "execution_count": 190,
   "id": "91f70792-2f07-4f2f-83b2-f6853c881e0c",
   "metadata": {},
   "outputs": [
    {
     "name": "stdout",
     "output_type": "stream",
     "text": [
      "Python\n",
      "is\n",
      "amazing\n"
     ]
    }
   ],
   "source": [
    "for word in words:\n",
    "    print(word)"
   ]
  },
  {
   "cell_type": "code",
   "execution_count": 191,
   "id": "002cc3d4-b424-4445-a796-311104008114",
   "metadata": {},
   "outputs": [
    {
     "name": "stdout",
     "output_type": "stream",
     "text": [
      "6\n",
      "2\n",
      "7\n"
     ]
    }
   ],
   "source": [
    "for word in words:\n",
    "    print(len(word))"
   ]
  },
  {
   "cell_type": "code",
   "execution_count": 193,
   "id": "ea0e54da-e34e-4323-b301-80428ee91c3f",
   "metadata": {},
   "outputs": [
    {
     "name": "stdout",
     "output_type": "stream",
     "text": [
      "amazing\n"
     ]
    }
   ],
   "source": [
    "long=''\n",
    "for word in words:\n",
    "    if len(word)>len(long):\n",
    "        long=word\n",
    "print(long)"
   ]
  },
  {
   "cell_type": "code",
   "execution_count": 194,
   "id": "0af34834-298f-4e7f-942a-b2fbe19baaed",
   "metadata": {},
   "outputs": [
    {
     "name": "stdin",
     "output_type": "stream",
     "text": [
      "enter a sentence hello everyone! welcome to programming world\n"
     ]
    },
    {
     "name": "stdout",
     "output_type": "stream",
     "text": [
      "programming\n"
     ]
    }
   ],
   "source": [
    "s=input('enter a sentence')\n",
    "words=s.split()\n",
    "long=''\n",
    "for word in words:\n",
    "    if len(word)>len(long):\n",
    "        long=word\n",
    "print(long)\n",
    "    "
   ]
  },
  {
   "cell_type": "markdown",
   "id": "8eea9e67-452a-4af6-b2b7-f313c4c7dfe9",
   "metadata": {},
   "source": [
    "22.Write a program that prints the multiplication table of a number up to 10.\n",
    "Example:\n",
    " Input: 5\n",
    " Output:\n",
    "5 x 1 = 5\n",
    "5 x 2 = 10\n",
    "...\n",
    "5 x 10 = 50"
   ]
  },
  {
   "cell_type": "code",
   "execution_count": 220,
   "id": "f99e5e54-f429-48b1-a97e-2a60e07da95c",
   "metadata": {},
   "outputs": [
    {
     "name": "stdin",
     "output_type": "stream",
     "text": [
      "enter a number 2\n"
     ]
    },
    {
     "name": "stdout",
     "output_type": "stream",
     "text": [
      "0\n",
      "2\n",
      "4\n",
      "6\n",
      "8\n",
      "10\n",
      "12\n",
      "14\n",
      "16\n",
      "18\n",
      "20\n"
     ]
    }
   ],
   "source": [
    "v=int(input(\"enter a number\"))\n",
    "for i in range(11):\n",
    "    f=v*i\n",
    "    print(f)\n"
   ]
  },
  {
   "cell_type": "markdown",
   "id": "40bec991-9bd1-4b28-82a9-23c4ac75eec9",
   "metadata": {},
   "source": [
    "23.Write a function to count the number of times a specific character appears in a string.\n",
    "Example:\n",
    " Input: \"hello world\", 'l'\n",
    " Output: 3"
   ]
  },
  {
   "cell_type": "code",
   "execution_count": 211,
   "id": "98f531ba-133b-4de6-9508-66b4bb4f8de8",
   "metadata": {},
   "outputs": [
    {
     "name": "stdin",
     "output_type": "stream",
     "text": [
      "enter a sentence hello world\n",
      "enter a character u want to count: l\n"
     ]
    },
    {
     "name": "stdout",
     "output_type": "stream",
     "text": [
      "3\n"
     ]
    }
   ],
   "source": [
    "sentence=input(\"enter a sentence\")\n",
    "r=input(\"enter a character u want to count:\")\n",
    "count=0\n",
    "for i in sentence:\n",
    "    if i == r:\n",
    "        count+=1\n",
    "print(count)"
   ]
  },
  {
   "cell_type": "markdown",
   "id": "36cb9cd6-ffd8-4467-8886-c25dc31bd411",
   "metadata": {},
   "source": [
    "24.Write a program to check if one string is a substring of another.\n",
    "Example:\n",
    " Input: \"hello\", \"ell\"\n",
    " Output: True"
   ]
  },
  {
   "cell_type": "code",
   "execution_count": 218,
   "id": "e615fd52-57cc-418e-968f-2c3fd66565d1",
   "metadata": {},
   "outputs": [
    {
     "name": "stdin",
     "output_type": "stream",
     "text": [
      "enter a string hello\n",
      "enter a string to check abc\n"
     ]
    },
    {
     "data": {
      "text/plain": [
       "False"
      ]
     },
     "execution_count": 218,
     "metadata": {},
     "output_type": "execute_result"
    }
   ],
   "source": [
    "g=input('enter a string')\n",
    "s=input('enter a string to check')\n",
    "g1=g.lower()\n",
    "s1=s.lower()\n",
    "s1 in g1\n",
    "    \n",
    "    "
   ]
  },
  {
   "cell_type": "markdown",
   "id": "c9c3be09-4a1a-4883-9fc5-d272a9384d38",
   "metadata": {},
   "source": [
    "25.Write a Python program to count the number of negative numbers in a list.\n",
    "Example:\n",
    " Input: [-1, 2, -3, 4]\n",
    " Output: 2"
   ]
  },
  {
   "cell_type": "code",
   "execution_count": 225,
   "id": "caf0e92f-8338-438c-9d20-637501960ed9",
   "metadata": {},
   "outputs": [
    {
     "name": "stdout",
     "output_type": "stream",
     "text": [
      "2\n"
     ]
    }
   ],
   "source": [
    "l=int(input(\"enter number)\n",
    "neg=[]\n",
    "for i in l:\n",
    "    if i<0:\n",
    "        neg.append(i)\n",
    "print(len(neg))\n",
    "    "
   ]
  },
  {
   "cell_type": "code",
   "execution_count": null,
   "id": "8dd0ec22-eab7-406a-8205-9b7aa67c9a84",
   "metadata": {},
   "outputs": [],
   "source": []
  }
 ],
 "metadata": {
  "kernelspec": {
   "display_name": "Python 3 (ipykernel)",
   "language": "python",
   "name": "python3"
  },
  "language_info": {
   "codemirror_mode": {
    "name": "ipython",
    "version": 3
   },
   "file_extension": ".py",
   "mimetype": "text/x-python",
   "name": "python",
   "nbconvert_exporter": "python",
   "pygments_lexer": "ipython3",
   "version": "3.13.1"
  }
 },
 "nbformat": 4,
 "nbformat_minor": 5
}
