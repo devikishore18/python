{
 "cells": [
  {
   "cell_type": "code",
   "execution_count": 1,
   "id": "826f223f-f3c1-4021-96a0-059a3fa1698b",
   "metadata": {},
   "outputs": [
    {
     "name": "stdout",
     "output_type": "stream",
     "text": [
      "hello world\n"
     ]
    }
   ],
   "source": [
    "print('hello world')"
   ]
  },
  {
   "cell_type": "code",
   "execution_count": 2,
   "id": "c31fcf25-9d39-49f2-8e1d-5e4cd84839e9",
   "metadata": {},
   "outputs": [],
   "source": [
    "# 5 different data structures\n",
    "#list\n",
    "#tuples\n",
    "#string\n",
    "#set\n",
    "#dictionaries\n"
   ]
  },
  {
   "cell_type": "code",
   "execution_count": 3,
   "id": "e7ad3cf0-7587-423a-9a6a-f16dcf92252b",
   "metadata": {},
   "outputs": [],
   "source": [
    "#TUPLES  (VALUES)\n",
    "#values enclosed in () (separated by ,)"
   ]
  },
  {
   "cell_type": "code",
   "execution_count": 4,
   "id": "235cf4f2-c8e9-453e-8f2e-d17fcf5df998",
   "metadata": {},
   "outputs": [
    {
     "data": {
      "text/plain": [
       "(1, 2, 3, 4)"
      ]
     },
     "execution_count": 4,
     "metadata": {},
     "output_type": "execute_result"
    }
   ],
   "source": [
    "t= (1,2,3,4)\n",
    "t"
   ]
  },
  {
   "cell_type": "code",
   "execution_count": 5,
   "id": "06645b9c-8a09-46e6-97be-c28ac1064331",
   "metadata": {},
   "outputs": [],
   "source": [
    "#all datatypes is accepted. eg:str,float,int,booletc"
   ]
  },
  {
   "cell_type": "code",
   "execution_count": 16,
   "id": "d79400c4-f0bb-4e6c-86c4-ade64ed8b825",
   "metadata": {},
   "outputs": [
    {
     "data": {
      "text/plain": [
       "(1, 2, 'hello', 3.14, True)"
      ]
     },
     "execution_count": 16,
     "metadata": {},
     "output_type": "execute_result"
    }
   ],
   "source": [
    "t1= (1,2,'hello',3.14,True)\n",
    "t1"
   ]
  },
  {
   "cell_type": "code",
   "execution_count": 9,
   "id": "0467af4b-db2c-46bb-97de-b0d1908ea7ac",
   "metadata": {},
   "outputs": [
    {
     "data": {
      "text/plain": [
       "(1, 2, 3)"
      ]
     },
     "execution_count": 9,
     "metadata": {},
     "output_type": "execute_result"
    }
   ],
   "source": [
    "t2=1,2,3\n",
    "t2"
   ]
  },
  {
   "cell_type": "code",
   "execution_count": 3,
   "id": "632a16c9-c591-48a5-86b3-f136affdc8b5",
   "metadata": {
    "jp-MarkdownHeadingCollapsed": true
   },
   "outputs": [
    {
     "data": {
      "text/plain": [
       "(2,)"
      ]
     },
     "execution_count": 3,
     "metadata": {},
     "output_type": "execute_result"
    }
   ],
   "source": [
    "t3=(2,)\n",
    "t3"
   ]
  },
  {
   "cell_type": "code",
   "execution_count": 4,
   "id": "bb0aeb65-7a2f-46bd-9764-ba3e5f510eae",
   "metadata": {},
   "outputs": [
    {
     "data": {
      "text/plain": [
       "tuple"
      ]
     },
     "execution_count": 4,
     "metadata": {},
     "output_type": "execute_result"
    }
   ],
   "source": [
    "type(t3)"
   ]
  },
  {
   "cell_type": "code",
   "execution_count": 13,
   "id": "d2108a24-b05b-43fa-8c37-d590c78b7171",
   "metadata": {},
   "outputs": [
    {
     "data": {
      "text/plain": [
       "tuple"
      ]
     },
     "execution_count": 13,
     "metadata": {},
     "output_type": "execute_result"
    }
   ],
   "source": [
    "type(t2)"
   ]
  },
  {
   "cell_type": "code",
   "execution_count": 17,
   "id": "b70573ec-2540-4270-8b8e-7ff630e4925a",
   "metadata": {},
   "outputs": [
    {
     "data": {
      "text/plain": [
       "(1, 2, 'hello', 3.14, True)"
      ]
     },
     "execution_count": 17,
     "metadata": {},
     "output_type": "execute_result"
    }
   ],
   "source": [
    "t1"
   ]
  },
  {
   "cell_type": "code",
   "execution_count": 27,
   "id": "828f1ad1-c1ce-4023-b95d-8fe805fa372f",
   "metadata": {},
   "outputs": [],
   "source": [
    "a,b,c,d,e=t1\n"
   ]
  },
  {
   "cell_type": "code",
   "execution_count": 19,
   "id": "6b8fa973-b7cb-4049-baae-1bd18933d728",
   "metadata": {},
   "outputs": [
    {
     "data": {
      "text/plain": [
       "1"
      ]
     },
     "execution_count": 19,
     "metadata": {},
     "output_type": "execute_result"
    }
   ],
   "source": [
    "a"
   ]
  },
  {
   "cell_type": "code",
   "execution_count": 20,
   "id": "c8448c01-826f-4070-b54a-af6a2abb1de1",
   "metadata": {},
   "outputs": [
    {
     "data": {
      "text/plain": [
       "2"
      ]
     },
     "execution_count": 20,
     "metadata": {},
     "output_type": "execute_result"
    }
   ],
   "source": [
    "b"
   ]
  },
  {
   "cell_type": "code",
   "execution_count": 21,
   "id": "5fcf49f3-9dd1-463b-91c2-c71f31a25113",
   "metadata": {},
   "outputs": [
    {
     "data": {
      "text/plain": [
       "'hello'"
      ]
     },
     "execution_count": 21,
     "metadata": {},
     "output_type": "execute_result"
    }
   ],
   "source": [
    "c"
   ]
  },
  {
   "cell_type": "code",
   "execution_count": 22,
   "id": "8a2c6caf-b52a-41c9-8a5e-9e54517f52e4",
   "metadata": {},
   "outputs": [
    {
     "data": {
      "text/plain": [
       "3.14"
      ]
     },
     "execution_count": 22,
     "metadata": {},
     "output_type": "execute_result"
    }
   ],
   "source": [
    "d"
   ]
  },
  {
   "cell_type": "code",
   "execution_count": 23,
   "id": "b84cb5b8-7f14-4276-b53d-d379f13c2797",
   "metadata": {},
   "outputs": [
    {
     "data": {
      "text/plain": [
       "True"
      ]
     },
     "execution_count": 23,
     "metadata": {},
     "output_type": "execute_result"
    }
   ],
   "source": [
    "e"
   ]
  },
  {
   "cell_type": "code",
   "execution_count": 28,
   "id": "36c1cabc-ef14-45dd-a574-49e44d704547",
   "metadata": {},
   "outputs": [],
   "source": [
    "#  immutable datastructure is TUPLE"
   ]
  },
  {
   "cell_type": "code",
   "execution_count": 29,
   "id": "b491ad6d-3478-4d4a-aef7-fdd725568912",
   "metadata": {},
   "outputs": [
    {
     "ename": "TypeError",
     "evalue": "'tuple' object doesn't support item deletion",
     "output_type": "error",
     "traceback": [
      "\u001b[1;31m---------------------------------------------------------------------------\u001b[0m",
      "\u001b[1;31mTypeError\u001b[0m                                 Traceback (most recent call last)",
      "Cell \u001b[1;32mIn[29], line 1\u001b[0m\n\u001b[1;32m----> 1\u001b[0m \u001b[38;5;28;01mdel\u001b[39;00m \u001b[43mt1\u001b[49m\u001b[43m[\u001b[49m\u001b[38;5;241;43m1\u001b[39;49m\u001b[43m]\u001b[49m\n",
      "\u001b[1;31mTypeError\u001b[0m: 'tuple' object doesn't support item deletion"
     ]
    }
   ],
   "source": [
    "del t1[1]"
   ]
  },
  {
   "cell_type": "code",
   "execution_count": 30,
   "id": "4f8bcdce-b69d-4014-aa54-8fdb869d4352",
   "metadata": {},
   "outputs": [
    {
     "data": {
      "text/plain": [
       "2"
      ]
     },
     "execution_count": 30,
     "metadata": {},
     "output_type": "execute_result"
    }
   ],
   "source": [
    "t1[1]"
   ]
  },
  {
   "cell_type": "code",
   "execution_count": 31,
   "id": "b0e81308-0eeb-4745-b1d4-610c91890c3e",
   "metadata": {},
   "outputs": [
    {
     "data": {
      "text/plain": [
       "(1, 2, 'hello', 3.14, True)"
      ]
     },
     "execution_count": 31,
     "metadata": {},
     "output_type": "execute_result"
    }
   ],
   "source": [
    "t1"
   ]
  },
  {
   "cell_type": "code",
   "execution_count": 32,
   "id": "4a7b1a0b-cf8e-41ca-acde-684d33560250",
   "metadata": {},
   "outputs": [
    {
     "data": {
      "text/plain": [
       "1"
      ]
     },
     "execution_count": 32,
     "metadata": {},
     "output_type": "execute_result"
    }
   ],
   "source": [
    "t1[0]"
   ]
  },
  {
   "cell_type": "code",
   "execution_count": 42,
   "id": "506c7d12-06f0-4316-9b1e-3c0a5c0ee2fc",
   "metadata": {},
   "outputs": [
    {
     "data": {
      "text/plain": [
       "(1, 2, 'hello', 3.14)"
      ]
     },
     "execution_count": 42,
     "metadata": {},
     "output_type": "execute_result"
    }
   ],
   "source": [
    "t1[:-1]"
   ]
  },
  {
   "cell_type": "code",
   "execution_count": 34,
   "id": "d8f08eb6-5492-4e49-adac-d7240bb25c3d",
   "metadata": {},
   "outputs": [
    {
     "data": {
      "text/plain": [
       "True"
      ]
     },
     "execution_count": 34,
     "metadata": {},
     "output_type": "execute_result"
    }
   ],
   "source": [
    "t1[-1]"
   ]
  },
  {
   "cell_type": "code",
   "execution_count": 35,
   "id": "e3fb9a23-ff7f-4c08-a2aa-49cef43d0489",
   "metadata": {},
   "outputs": [
    {
     "data": {
      "text/plain": [
       "(True, 3.14, 'hello', 2, 1)"
      ]
     },
     "execution_count": 35,
     "metadata": {},
     "output_type": "execute_result"
    }
   ],
   "source": [
    "#reverse order\n",
    "t1[::-1]"
   ]
  },
  {
   "cell_type": "code",
   "execution_count": 43,
   "id": "58e736da-7f69-4fe1-bcef-21b931ec48e7",
   "metadata": {},
   "outputs": [
    {
     "data": {
      "text/plain": [
       "('hello', 3.14, True)"
      ]
     },
     "execution_count": 43,
     "metadata": {},
     "output_type": "execute_result"
    }
   ],
   "source": [
    "t1[2:5]"
   ]
  },
  {
   "cell_type": "code",
   "execution_count": 45,
   "id": "db398d73-251d-4292-acb1-27c717ff81bc",
   "metadata": {},
   "outputs": [
    {
     "data": {
      "text/plain": [
       "('hello', True)"
      ]
     },
     "execution_count": 45,
     "metadata": {},
     "output_type": "execute_result"
    }
   ],
   "source": [
    "t1[2:5:2]"
   ]
  },
  {
   "cell_type": "code",
   "execution_count": 54,
   "id": "b3ad6df3-ff7b-457f-a444-a05c39505cd8",
   "metadata": {},
   "outputs": [
    {
     "data": {
      "text/plain": [
       "2"
      ]
     },
     "execution_count": 54,
     "metadata": {},
     "output_type": "execute_result"
    }
   ],
   "source": [
    "#count() method\n",
    "t1.count(1)"
   ]
  },
  {
   "cell_type": "code",
   "execution_count": 55,
   "id": "768943c6-d999-40b5-8fe4-1722c3b10729",
   "metadata": {},
   "outputs": [
    {
     "data": {
      "text/plain": [
       "5"
      ]
     },
     "execution_count": 55,
     "metadata": {},
     "output_type": "execute_result"
    }
   ],
   "source": [
    "len(t1)"
   ]
  },
  {
   "cell_type": "code",
   "execution_count": 56,
   "id": "f672e467-12c8-4f69-a4df-3df56675d8cd",
   "metadata": {},
   "outputs": [
    {
     "data": {
      "text/plain": [
       "(1, 2, 3, 4)"
      ]
     },
     "execution_count": 56,
     "metadata": {},
     "output_type": "execute_result"
    }
   ],
   "source": [
    "t"
   ]
  },
  {
   "cell_type": "code",
   "execution_count": 57,
   "id": "3c44e08f-f1c6-4a92-a8d8-a73d4df4bee2",
   "metadata": {},
   "outputs": [
    {
     "data": {
      "text/plain": [
       "1"
      ]
     },
     "execution_count": 57,
     "metadata": {},
     "output_type": "execute_result"
    }
   ],
   "source": [
    "min(t)"
   ]
  },
  {
   "cell_type": "code",
   "execution_count": 58,
   "id": "f9836cfa-442a-4be1-b961-a5d7a5230ab8",
   "metadata": {},
   "outputs": [
    {
     "data": {
      "text/plain": [
       "4"
      ]
     },
     "execution_count": 58,
     "metadata": {},
     "output_type": "execute_result"
    }
   ],
   "source": [
    "max(t)"
   ]
  },
  {
   "cell_type": "code",
   "execution_count": 59,
   "id": "a12f57c1-f3d0-4aa8-a701-7330533946e0",
   "metadata": {},
   "outputs": [
    {
     "data": {
      "text/plain": [
       "10"
      ]
     },
     "execution_count": 59,
     "metadata": {},
     "output_type": "execute_result"
    }
   ],
   "source": [
    "sum(t)"
   ]
  },
  {
   "cell_type": "code",
   "execution_count": 60,
   "id": "a1205e9f-920d-4938-8d2e-7d99877b6f57",
   "metadata": {},
   "outputs": [],
   "source": [
    "del t"
   ]
  },
  {
   "cell_type": "code",
   "execution_count": 61,
   "id": "b2195463-72e6-4803-a1eb-0027ddcc3a27",
   "metadata": {},
   "outputs": [
    {
     "ename": "NameError",
     "evalue": "name 't' is not defined",
     "output_type": "error",
     "traceback": [
      "\u001b[1;31m---------------------------------------------------------------------------\u001b[0m",
      "\u001b[1;31mNameError\u001b[0m                                 Traceback (most recent call last)",
      "Cell \u001b[1;32mIn[61], line 1\u001b[0m\n\u001b[1;32m----> 1\u001b[0m \u001b[43mt\u001b[49m\n",
      "\u001b[1;31mNameError\u001b[0m: name 't' is not defined"
     ]
    }
   ],
   "source": [
    "t"
   ]
  },
  {
   "cell_type": "code",
   "execution_count": 62,
   "id": "3a26511d-0cc6-45f5-96ca-27a9a81dcf25",
   "metadata": {},
   "outputs": [],
   "source": [
    "#Lists\n",
    "#[]\n",
    "#separated by ,\n",
    "#mutable- change elements is possible"
   ]
  },
  {
   "cell_type": "code",
   "execution_count": 63,
   "id": "cc778700-f294-49ec-bd49-d7ce52d236be",
   "metadata": {},
   "outputs": [
    {
     "data": {
      "text/plain": [
       "[1, 2, 3, 4]"
      ]
     },
     "execution_count": 63,
     "metadata": {},
     "output_type": "execute_result"
    }
   ],
   "source": [
    "l=[1,2,3,4]\n",
    "l"
   ]
  },
  {
   "cell_type": "code",
   "execution_count": 73,
   "id": "c139f832-7dda-41d9-ac10-7e8a2f3de1f0",
   "metadata": {},
   "outputs": [
    {
     "data": {
      "text/plain": [
       "[1, 'hello', 'a', 1.5, False]"
      ]
     },
     "execution_count": 73,
     "metadata": {},
     "output_type": "execute_result"
    }
   ],
   "source": [
    "l1=[1,'hello','a',1.5,False]\n",
    "l1"
   ]
  },
  {
   "cell_type": "code",
   "execution_count": 66,
   "id": "12f9941a-e9e3-4efa-915c-f6199b59f565",
   "metadata": {},
   "outputs": [
    {
     "data": {
      "text/plain": [
       "list"
      ]
     },
     "execution_count": 66,
     "metadata": {},
     "output_type": "execute_result"
    }
   ],
   "source": [
    "type(l1)"
   ]
  },
  {
   "cell_type": "code",
   "execution_count": 67,
   "id": "d9bcdae5-ef13-415f-bf0d-9fa27eb26ff9",
   "metadata": {},
   "outputs": [
    {
     "data": {
      "text/plain": [
       "list"
      ]
     },
     "execution_count": 67,
     "metadata": {},
     "output_type": "execute_result"
    }
   ],
   "source": [
    "type(l)"
   ]
  },
  {
   "cell_type": "code",
   "execution_count": 69,
   "id": "9957d3a0-68fa-4677-b689-366e099a1fcf",
   "metadata": {},
   "outputs": [],
   "source": [
    "l2=1,'hello','a',1.5,False"
   ]
  },
  {
   "cell_type": "code",
   "execution_count": 70,
   "id": "8cdd55a9-3521-4091-a50e-822bc76aca6b",
   "metadata": {},
   "outputs": [
    {
     "data": {
      "text/plain": [
       "tuple"
      ]
     },
     "execution_count": 70,
     "metadata": {},
     "output_type": "execute_result"
    }
   ],
   "source": [
    "type(l2)"
   ]
  },
  {
   "cell_type": "code",
   "execution_count": 74,
   "id": "a002620e-eacd-4b04-9483-93d7700535e4",
   "metadata": {},
   "outputs": [
    {
     "data": {
      "text/plain": [
       "[1, 'hello', 'a', 1.5, False]"
      ]
     },
     "execution_count": 74,
     "metadata": {},
     "output_type": "execute_result"
    }
   ],
   "source": [
    "l1"
   ]
  },
  {
   "cell_type": "code",
   "execution_count": 76,
   "id": "b7c073f7-e64e-4b27-85f8-4f00eff1a891",
   "metadata": {},
   "outputs": [],
   "source": [
    "l1.append(10)"
   ]
  },
  {
   "cell_type": "code",
   "execution_count": 77,
   "id": "d16a60c3-94a9-4414-8eb3-cc41f6bbe6bb",
   "metadata": {},
   "outputs": [
    {
     "data": {
      "text/plain": [
       "[1, 'hello', 'a', 1.5, False, 10, 10]"
      ]
     },
     "execution_count": 77,
     "metadata": {},
     "output_type": "execute_result"
    }
   ],
   "source": [
    "l1"
   ]
  },
  {
   "cell_type": "code",
   "execution_count": 78,
   "id": "455ff402-ee1f-4131-baa7-50db11e19fa6",
   "metadata": {},
   "outputs": [],
   "source": [
    "l1.insert(1,2)"
   ]
  },
  {
   "cell_type": "code",
   "execution_count": 79,
   "id": "911d1a84-fe3f-46c3-abab-cd03e2680eca",
   "metadata": {},
   "outputs": [
    {
     "data": {
      "text/plain": [
       "[1, 2, 'hello', 'a', 1.5, False, 10, 10]"
      ]
     },
     "execution_count": 79,
     "metadata": {},
     "output_type": "execute_result"
    }
   ],
   "source": [
    "l1"
   ]
  },
  {
   "cell_type": "code",
   "execution_count": 80,
   "id": "221ab403-e197-4240-8860-b7ccc3057fbe",
   "metadata": {},
   "outputs": [
    {
     "data": {
      "text/plain": [
       "[1, 2, 'hello', 'a', 1.5, True, False, 10, 10]"
      ]
     },
     "execution_count": 80,
     "metadata": {},
     "output_type": "execute_result"
    }
   ],
   "source": [
    "l1.insert(5,True)\n",
    "l1"
   ]
  },
  {
   "cell_type": "code",
   "execution_count": 81,
   "id": "a14af917-7cac-47fa-9d04-eec8795a09d4",
   "metadata": {},
   "outputs": [],
   "source": [
    "l1.remove(2)"
   ]
  },
  {
   "cell_type": "code",
   "execution_count": 82,
   "id": "19632f0f-aba5-4561-8915-3b8ce56fd9ff",
   "metadata": {},
   "outputs": [
    {
     "data": {
      "text/plain": [
       "[1, 'hello', 'a', 1.5, True, False, 10, 10]"
      ]
     },
     "execution_count": 82,
     "metadata": {},
     "output_type": "execute_result"
    }
   ],
   "source": [
    "l1"
   ]
  },
  {
   "cell_type": "code",
   "execution_count": 83,
   "id": "507a8bcb-f0ae-4d45-a225-21c88f4dd28e",
   "metadata": {},
   "outputs": [
    {
     "data": {
      "text/plain": [
       "[1, 'hello', 'a', 1.5, True, False, 10]"
      ]
     },
     "execution_count": 83,
     "metadata": {},
     "output_type": "execute_result"
    }
   ],
   "source": [
    "l1.remove(10)\n",
    "l1"
   ]
  },
  {
   "cell_type": "code",
   "execution_count": 84,
   "id": "03071316-c68d-4423-b9da-6398c936188e",
   "metadata": {},
   "outputs": [
    {
     "data": {
      "text/plain": [
       "[1, 5, 10, 23, 2, 6]"
      ]
     },
     "execution_count": 84,
     "metadata": {},
     "output_type": "execute_result"
    }
   ],
   "source": [
    "l3=[1,5,10,23,2,6]\n",
    "l3"
   ]
  },
  {
   "cell_type": "code",
   "execution_count": 85,
   "id": "469b12fa-4b30-432a-81d0-e60a5753fd47",
   "metadata": {},
   "outputs": [],
   "source": [
    "l3.sort()"
   ]
  },
  {
   "cell_type": "code",
   "execution_count": 86,
   "id": "f18f2d4f-45da-4d65-a6fa-89a0bbc06e82",
   "metadata": {},
   "outputs": [
    {
     "data": {
      "text/plain": [
       "[1, 2, 5, 6, 10, 23]"
      ]
     },
     "execution_count": 86,
     "metadata": {},
     "output_type": "execute_result"
    }
   ],
   "source": [
    "l3"
   ]
  },
  {
   "cell_type": "code",
   "execution_count": 87,
   "id": "303ab7de-0e93-4346-9b86-5a9b83e7acf7",
   "metadata": {},
   "outputs": [],
   "source": [
    "l3.reverse()"
   ]
  },
  {
   "cell_type": "code",
   "execution_count": 88,
   "id": "92389d1c-fdad-4402-840b-b20ea8e427b4",
   "metadata": {},
   "outputs": [
    {
     "data": {
      "text/plain": [
       "[23, 10, 6, 5, 2, 1]"
      ]
     },
     "execution_count": 88,
     "metadata": {},
     "output_type": "execute_result"
    }
   ],
   "source": [
    "l3"
   ]
  },
  {
   "cell_type": "code",
   "execution_count": 89,
   "id": "1d5c67a1-f62f-400d-8c2f-37b84ccf4943",
   "metadata": {},
   "outputs": [
    {
     "data": {
      "text/plain": [
       "[1, 2, 3, 6, 9, 10, 43]"
      ]
     },
     "execution_count": 89,
     "metadata": {},
     "output_type": "execute_result"
    }
   ],
   "source": [
    "l4=[1,2,3,6,9,10,43]\n",
    "l4"
   ]
  },
  {
   "cell_type": "code",
   "execution_count": 90,
   "id": "ea3e827c-aa55-4e54-bdc5-4081c54ed254",
   "metadata": {},
   "outputs": [],
   "source": [
    "l5=l3+l4 #combining two lists"
   ]
  },
  {
   "cell_type": "code",
   "execution_count": 91,
   "id": "4bdfaac3-aa12-4ad1-8870-22591b39d240",
   "metadata": {},
   "outputs": [
    {
     "data": {
      "text/plain": [
       "[23, 10, 6, 5, 2, 1, 1, 2, 3, 6, 9, 10, 43]"
      ]
     },
     "execution_count": 91,
     "metadata": {},
     "output_type": "execute_result"
    }
   ],
   "source": [
    "l5"
   ]
  },
  {
   "cell_type": "code",
   "execution_count": 92,
   "id": "9b823c4c-0767-4a12-b67c-8b7215d71987",
   "metadata": {},
   "outputs": [
    {
     "data": {
      "text/plain": [
       "[1, 2, 3, 6, 9, 10, 43, 1, 2, 3, 6, 9, 10, 43, 1, 2, 3, 6, 9, 10, 43]"
      ]
     },
     "execution_count": 92,
     "metadata": {},
     "output_type": "execute_result"
    }
   ],
   "source": [
    "l4*3 #repeating lists by given no. of times(3)"
   ]
  },
  {
   "cell_type": "code",
   "execution_count": 93,
   "id": "b6879e93-bd04-4e68-9d27-cfe52feab52d",
   "metadata": {},
   "outputs": [
    {
     "data": {
      "text/plain": [
       "[23, 10, 6, 5, 2, 1]"
      ]
     },
     "execution_count": 93,
     "metadata": {},
     "output_type": "execute_result"
    }
   ],
   "source": [
    "l3 "
   ]
  },
  {
   "cell_type": "code",
   "execution_count": 94,
   "id": "6f529d85-a7f3-43af-a87e-996d6a07b3ec",
   "metadata": {},
   "outputs": [
    {
     "data": {
      "text/plain": [
       "True"
      ]
     },
     "execution_count": 94,
     "metadata": {},
     "output_type": "execute_result"
    }
   ],
   "source": [
    "2 in l3 #checking the value in lists(membership function)"
   ]
  },
  {
   "cell_type": "code",
   "execution_count": 95,
   "id": "5557bffd-b03c-4bba-8699-1fffaf328075",
   "metadata": {},
   "outputs": [
    {
     "data": {
      "text/plain": [
       "False"
      ]
     },
     "execution_count": 95,
     "metadata": {},
     "output_type": "execute_result"
    }
   ],
   "source": [
    "3 in l3"
   ]
  },
  {
   "cell_type": "code",
   "execution_count": 96,
   "id": "73df6cd0-9a10-4315-ab3f-639c089cee8d",
   "metadata": {},
   "outputs": [
    {
     "data": {
      "text/plain": [
       "True"
      ]
     },
     "execution_count": 96,
     "metadata": {},
     "output_type": "execute_result"
    }
   ],
   "source": [
    "3 not in l3"
   ]
  },
  {
   "cell_type": "code",
   "execution_count": 97,
   "id": "fbf4268f-9d1c-474a-a2a7-627230da8071",
   "metadata": {},
   "outputs": [
    {
     "data": {
      "text/plain": [
       "False"
      ]
     },
     "execution_count": 97,
     "metadata": {},
     "output_type": "execute_result"
    }
   ],
   "source": [
    "2 not in l3"
   ]
  },
  {
   "cell_type": "code",
   "execution_count": 98,
   "id": "7efaaba4-6a69-438e-94a2-a1baef4a625e",
   "metadata": {},
   "outputs": [
    {
     "data": {
      "text/plain": [
       "6"
      ]
     },
     "execution_count": 98,
     "metadata": {},
     "output_type": "execute_result"
    }
   ],
   "source": [
    "len(l3)"
   ]
  },
  {
   "cell_type": "code",
   "execution_count": 99,
   "id": "0f3c5252-1833-4689-b3b2-df4f0b02efed",
   "metadata": {},
   "outputs": [
    {
     "data": {
      "text/plain": [
       "1"
      ]
     },
     "execution_count": 99,
     "metadata": {},
     "output_type": "execute_result"
    }
   ],
   "source": [
    "min(l3)"
   ]
  },
  {
   "cell_type": "code",
   "execution_count": 100,
   "id": "c2a3a9ce-661f-4e67-a6e5-2508d975845b",
   "metadata": {},
   "outputs": [
    {
     "data": {
      "text/plain": [
       "23"
      ]
     },
     "execution_count": 100,
     "metadata": {},
     "output_type": "execute_result"
    }
   ],
   "source": [
    "max(l3)"
   ]
  },
  {
   "cell_type": "code",
   "execution_count": 101,
   "id": "27361117-796c-4e43-9cc8-674a63044315",
   "metadata": {},
   "outputs": [
    {
     "data": {
      "text/plain": [
       "47"
      ]
     },
     "execution_count": 101,
     "metadata": {},
     "output_type": "execute_result"
    }
   ],
   "source": [
    "sum(l3)"
   ]
  },
  {
   "cell_type": "code",
   "execution_count": 102,
   "id": "b8791884-a70a-46dd-9250-989024218c74",
   "metadata": {},
   "outputs": [
    {
     "data": {
      "text/plain": [
       "[10, 6, 5]"
      ]
     },
     "execution_count": 102,
     "metadata": {},
     "output_type": "execute_result"
    }
   ],
   "source": [
    "l3[1:4]"
   ]
  },
  {
   "cell_type": "code",
   "execution_count": 103,
   "id": "d202b283-7d08-4b25-b0a3-975fc6c6e8e8",
   "metadata": {},
   "outputs": [
    {
     "data": {
      "text/plain": [
       "[23, 10, 6, 5, 2, 1]"
      ]
     },
     "execution_count": 103,
     "metadata": {},
     "output_type": "execute_result"
    }
   ],
   "source": [
    "l3"
   ]
  },
  {
   "cell_type": "code",
   "execution_count": 104,
   "id": "bbc1c368-f5cc-44ae-87cf-5d8c67589bbb",
   "metadata": {},
   "outputs": [
    {
     "data": {
      "text/plain": [
       "[1, 2, 5, 6, 10, 23]"
      ]
     },
     "execution_count": 104,
     "metadata": {},
     "output_type": "execute_result"
    }
   ],
   "source": [
    "l3[::-1] #reversing lists"
   ]
  },
  {
   "cell_type": "code",
   "execution_count": null,
   "id": "6374d7be-2d33-4fab-9be2-9bb81fa45b2e",
   "metadata": {},
   "outputs": [],
   "source": [
    "#string\n",
    "#sequence of characters enclosed in \"\" or ''\n",
    "#immutable\n",
    "#replace() --- possible to mute"
   ]
  },
  {
   "cell_type": "code",
   "execution_count": 1,
   "id": "3768399c-f495-4dd6-a544-5113b190ee8e",
   "metadata": {},
   "outputs": [],
   "source": [
    "s='hello'    \n",
    "s1=\"world\"     #creating string"
   ]
  },
  {
   "cell_type": "code",
   "execution_count": 2,
   "id": "f8adfe96-afa8-42bc-a036-0ec113ef6557",
   "metadata": {},
   "outputs": [
    {
     "data": {
      "text/plain": [
       "str"
      ]
     },
     "execution_count": 2,
     "metadata": {},
     "output_type": "execute_result"
    }
   ],
   "source": [
    "type(s1)"
   ]
  },
  {
   "cell_type": "code",
   "execution_count": 3,
   "id": "55d3b552-3165-4a78-b656-abacd27257a7",
   "metadata": {},
   "outputs": [
    {
     "data": {
      "text/plain": [
       "str"
      ]
     },
     "execution_count": 3,
     "metadata": {},
     "output_type": "execute_result"
    }
   ],
   "source": [
    "type(s)"
   ]
  },
  {
   "cell_type": "code",
   "execution_count": 4,
   "id": "9cc20476-19eb-4f97-a0d9-acd0169e4759",
   "metadata": {},
   "outputs": [],
   "source": [
    "s2= '''hello all! \n",
    "good evening everyone\n",
    "my name is devi'''   #mul\n"
   ]
  },
  {
   "cell_type": "code",
   "execution_count": 5,
   "id": "cc8c3ea9-129d-4513-b7c4-b63d4bb20dbe",
   "metadata": {},
   "outputs": [
    {
     "data": {
      "text/plain": [
       "'hello all! \\ngood evening everyone\\nmy name is devi'"
      ]
     },
     "execution_count": 5,
     "metadata": {},
     "output_type": "execute_result"
    }
   ],
   "source": [
    "s2"
   ]
  },
  {
   "cell_type": "code",
   "execution_count": 6,
   "id": "16cc734d-19f1-4ff2-9740-76d12fd23877",
   "metadata": {},
   "outputs": [],
   "source": [
    "s2= '''hello all! good evening everyone my name is devi'''"
   ]
  },
  {
   "cell_type": "code",
   "execution_count": 7,
   "id": "4739c212-aa6b-47fd-b5a6-cb6151ae6032",
   "metadata": {},
   "outputs": [
    {
     "data": {
      "text/plain": [
       "'hello all! good evening everyone my name is devi'"
      ]
     },
     "execution_count": 7,
     "metadata": {},
     "output_type": "execute_result"
    }
   ],
   "source": [
    "s2"
   ]
  },
  {
   "cell_type": "code",
   "execution_count": 8,
   "id": "0b99c4a8-b237-4352-ac31-47856262566b",
   "metadata": {},
   "outputs": [
    {
     "data": {
      "text/plain": [
       "str"
      ]
     },
     "execution_count": 8,
     "metadata": {},
     "output_type": "execute_result"
    }
   ],
   "source": [
    "type(s2)"
   ]
  },
  {
   "cell_type": "code",
   "execution_count": 9,
   "id": "101bebb1-0d58-4342-a71c-0e336a8a3368",
   "metadata": {},
   "outputs": [
    {
     "data": {
      "text/plain": [
       "'world'"
      ]
     },
     "execution_count": 9,
     "metadata": {},
     "output_type": "execute_result"
    }
   ],
   "source": [
    "s1"
   ]
  },
  {
   "cell_type": "code",
   "execution_count": 10,
   "id": "d2ba1b2e-249b-4089-9900-6f2425b37c23",
   "metadata": {},
   "outputs": [
    {
     "data": {
      "text/plain": [
       "'r'"
      ]
     },
     "execution_count": 10,
     "metadata": {},
     "output_type": "execute_result"
    }
   ],
   "source": [
    "s1[2]"
   ]
  },
  {
   "cell_type": "code",
   "execution_count": 11,
   "id": "b1ae4449-b335-42f0-80a7-1bb225980575",
   "metadata": {},
   "outputs": [
    {
     "data": {
      "text/plain": [
       "'rld'"
      ]
     },
     "execution_count": 11,
     "metadata": {},
     "output_type": "execute_result"
    }
   ],
   "source": [
    "s1[2:5]"
   ]
  },
  {
   "cell_type": "code",
   "execution_count": 12,
   "id": "122e6b6d-7304-4971-9a24-e43aa94662e1",
   "metadata": {},
   "outputs": [
    {
     "data": {
      "text/plain": [
       "'d'"
      ]
     },
     "execution_count": 12,
     "metadata": {},
     "output_type": "execute_result"
    }
   ],
   "source": [
    "s1[-1]"
   ]
  },
  {
   "cell_type": "code",
   "execution_count": 13,
   "id": "cd378286-3963-4ca6-b382-5c2b672f1abb",
   "metadata": {},
   "outputs": [
    {
     "data": {
      "text/plain": [
       "'dlrow'"
      ]
     },
     "execution_count": 13,
     "metadata": {},
     "output_type": "execute_result"
    }
   ],
   "source": [
    "s1[::-1]"
   ]
  },
  {
   "cell_type": "code",
   "execution_count": 14,
   "id": "9a4a41a4-87ee-4f87-a97f-d02c881f8f80",
   "metadata": {},
   "outputs": [
    {
     "data": {
      "text/plain": [
       "'WORLD'"
      ]
     },
     "execution_count": 14,
     "metadata": {},
     "output_type": "execute_result"
    }
   ],
   "source": [
    "s1.upper()"
   ]
  },
  {
   "cell_type": "code",
   "execution_count": 15,
   "id": "7a15281c-2ec2-4519-acd3-6f0e71db429c",
   "metadata": {},
   "outputs": [
    {
     "data": {
      "text/plain": [
       "'world'"
      ]
     },
     "execution_count": 15,
     "metadata": {},
     "output_type": "execute_result"
    }
   ],
   "source": [
    "s1.lower()"
   ]
  },
  {
   "cell_type": "code",
   "execution_count": 16,
   "id": "7d9d1926-10ec-4255-8ad7-36dde00b7e8f",
   "metadata": {},
   "outputs": [
    {
     "data": {
      "text/plain": [
       "'good evening everyone'"
      ]
     },
     "execution_count": 16,
     "metadata": {},
     "output_type": "execute_result"
    }
   ],
   "source": [
    "s3= 'good evening everyone'\n",
    "s3"
   ]
  },
  {
   "cell_type": "code",
   "execution_count": 17,
   "id": "4ab80c68-591c-4301-a66d-0102ee9ef957",
   "metadata": {},
   "outputs": [
    {
     "data": {
      "text/plain": [
       "str"
      ]
     },
     "execution_count": 17,
     "metadata": {},
     "output_type": "execute_result"
    }
   ],
   "source": [
    "type(s3)"
   ]
  },
  {
   "cell_type": "code",
   "execution_count": 18,
   "id": "e1acc637-640f-4a1d-a236-64a4e197c1a3",
   "metadata": {},
   "outputs": [
    {
     "data": {
      "text/plain": [
       "'good afternoon everyone'"
      ]
     },
     "execution_count": 18,
     "metadata": {},
     "output_type": "execute_result"
    }
   ],
   "source": [
    "s3.replace('evening','afternoon') #mutable with replace()..... only word can be replaced"
   ]
  },
  {
   "cell_type": "code",
   "execution_count": 19,
   "id": "df1b5b89-3806-4899-ac74-a7e7935b1759",
   "metadata": {},
   "outputs": [
    {
     "data": {
      "text/plain": [
       "True"
      ]
     },
     "execution_count": 19,
     "metadata": {},
     "output_type": "execute_result"
    }
   ],
   "source": [
    "'good' in s3"
   ]
  },
  {
   "cell_type": "code",
   "execution_count": 20,
   "id": "797568fc-3765-439b-b411-baaa17c1a38e",
   "metadata": {},
   "outputs": [
    {
     "data": {
      "text/plain": [
       "False"
      ]
     },
     "execution_count": 20,
     "metadata": {},
     "output_type": "execute_result"
    }
   ],
   "source": [
    "'Good' in s3"
   ]
  },
  {
   "cell_type": "code",
   "execution_count": 21,
   "id": "7cebbc84-be25-4800-933b-a86fc4cda468",
   "metadata": {},
   "outputs": [
    {
     "data": {
      "text/plain": [
       "'hello all! good evening everyone my name is devi'"
      ]
     },
     "execution_count": 21,
     "metadata": {},
     "output_type": "execute_result"
    }
   ],
   "source": [
    "s2"
   ]
  },
  {
   "cell_type": "code",
   "execution_count": 22,
   "id": "6364c01e-4f53-42dc-a958-c3928265c96d",
   "metadata": {},
   "outputs": [
    {
     "data": {
      "text/plain": [
       "'world'"
      ]
     },
     "execution_count": 22,
     "metadata": {},
     "output_type": "execute_result"
    }
   ],
   "source": [
    "s1"
   ]
  },
  {
   "cell_type": "code",
   "execution_count": 23,
   "id": "0e472274-4230-4714-b8e1-de0186fdaa86",
   "metadata": {},
   "outputs": [
    {
     "data": {
      "text/plain": [
       "'hello'"
      ]
     },
     "execution_count": 23,
     "metadata": {},
     "output_type": "execute_result"
    }
   ],
   "source": [
    "s"
   ]
  },
  {
   "cell_type": "code",
   "execution_count": 24,
   "id": "600cee9d-afaa-4a07-b9a5-3eb2a4f8d38b",
   "metadata": {},
   "outputs": [
    {
     "data": {
      "text/plain": [
       "'helloworld'"
      ]
     },
     "execution_count": 24,
     "metadata": {},
     "output_type": "execute_result"
    }
   ],
   "source": [
    "s5=s+s1\n",
    "s5"
   ]
  },
  {
   "cell_type": "code",
   "execution_count": 25,
   "id": "3900e95c-b1cb-4d1b-bfe4-d2af33f254b4",
   "metadata": {},
   "outputs": [],
   "source": [
    "s5= s+' '+s1"
   ]
  },
  {
   "cell_type": "code",
   "execution_count": 26,
   "id": "dcb80102-1335-4882-ac5e-563b2f886a69",
   "metadata": {},
   "outputs": [
    {
     "data": {
      "text/plain": [
       "'hello world'"
      ]
     },
     "execution_count": 26,
     "metadata": {},
     "output_type": "execute_result"
    }
   ],
   "source": [
    "s5"
   ]
  },
  {
   "cell_type": "code",
   "execution_count": 27,
   "id": "3c0822ea-7374-427c-954a-46e3f1247c7d",
   "metadata": {},
   "outputs": [
    {
     "data": {
      "text/plain": [
       "11"
      ]
     },
     "execution_count": 27,
     "metadata": {},
     "output_type": "execute_result"
    }
   ],
   "source": [
    "len(s5)"
   ]
  },
  {
   "cell_type": "code",
   "execution_count": 28,
   "id": "4e9f0660-0b80-4336-9122-9478fc1ca5c9",
   "metadata": {},
   "outputs": [
    {
     "data": {
      "text/plain": [
       "'Hello world'"
      ]
     },
     "execution_count": 28,
     "metadata": {},
     "output_type": "execute_result"
    }
   ],
   "source": [
    "s5.capitalize()"
   ]
  },
  {
   "cell_type": "code",
   "execution_count": 29,
   "id": "898106bc-cf43-4fb9-9770-483131330f6f",
   "metadata": {},
   "outputs": [
    {
     "ename": "TypeError",
     "evalue": "'str' object doesn't support item deletion",
     "output_type": "error",
     "traceback": [
      "\u001b[1;31m---------------------------------------------------------------------------\u001b[0m",
      "\u001b[1;31mTypeError\u001b[0m                                 Traceback (most recent call last)",
      "Cell \u001b[1;32mIn[29], line 1\u001b[0m\n\u001b[1;32m----> 1\u001b[0m \u001b[38;5;28;01mdel\u001b[39;00m \u001b[43ms5\u001b[49m\u001b[43m[\u001b[49m\u001b[38;5;241;43m0\u001b[39;49m\u001b[43m]\u001b[49m\n",
      "\u001b[1;31mTypeError\u001b[0m: 'str' object doesn't support item deletion"
     ]
    }
   ],
   "source": [
    "del s5[0] "
   ]
  },
  {
   "cell_type": "code",
   "execution_count": 30,
   "id": "5433fb37-891d-476c-9749-72c33a0ad3f2",
   "metadata": {},
   "outputs": [],
   "source": [
    "del s5"
   ]
  },
  {
   "cell_type": "code",
   "execution_count": 31,
   "id": "f86efc83-0ae6-4bb5-be39-deb34ec431f0",
   "metadata": {},
   "outputs": [
    {
     "ename": "NameError",
     "evalue": "name 's5' is not defined",
     "output_type": "error",
     "traceback": [
      "\u001b[1;31m---------------------------------------------------------------------------\u001b[0m",
      "\u001b[1;31mNameError\u001b[0m                                 Traceback (most recent call last)",
      "Cell \u001b[1;32mIn[31], line 1\u001b[0m\n\u001b[1;32m----> 1\u001b[0m \u001b[43ms5\u001b[49m\n",
      "\u001b[1;31mNameError\u001b[0m: name 's5' is not defined"
     ]
    }
   ],
   "source": [
    "s5"
   ]
  },
  {
   "cell_type": "code",
   "execution_count": 32,
   "id": "cc9d98c1-f9c5-4189-bc46-c8fb0bcbe928",
   "metadata": {},
   "outputs": [],
   "source": [
    "#dictionaries\n",
    "#unordered, mutable collection of key value pairs\n",
    "#{}"
   ]
  },
  {
   "cell_type": "code",
   "execution_count": 33,
   "id": "286b8a0f-29e6-403f-a3ad-0f74571474ce",
   "metadata": {},
   "outputs": [],
   "source": [
    "person={'name':'devi','age':27,'city':'chennai','ph.no':'1234567890'}"
   ]
  },
  {
   "cell_type": "code",
   "execution_count": 34,
   "id": "fb2bb112-6de5-4db4-adae-8c977874f9a1",
   "metadata": {},
   "outputs": [
    {
     "data": {
      "text/plain": [
       "{'name': 'devi', 'age': 27, 'city': 'chennai', 'ph.no': '1234567890'}"
      ]
     },
     "execution_count": 34,
     "metadata": {},
     "output_type": "execute_result"
    }
   ],
   "source": [
    "person"
   ]
  },
  {
   "cell_type": "code",
   "execution_count": 35,
   "id": "abedaff8-8aa7-4ed5-9337-b8d2b7c4d39d",
   "metadata": {},
   "outputs": [
    {
     "data": {
      "text/plain": [
       "'devi'"
      ]
     },
     "execution_count": 35,
     "metadata": {},
     "output_type": "execute_result"
    }
   ],
   "source": [
    "person['name']"
   ]
  },
  {
   "cell_type": "code",
   "execution_count": 36,
   "id": "66408324-9097-4834-b376-35b29420cc76",
   "metadata": {},
   "outputs": [
    {
     "data": {
      "text/plain": [
       "'chennai'"
      ]
     },
     "execution_count": 36,
     "metadata": {},
     "output_type": "execute_result"
    }
   ],
   "source": [
    "person['city'] #accessing"
   ]
  },
  {
   "cell_type": "code",
   "execution_count": 37,
   "id": "cda1bd68-ee32-4f9a-8aa1-74c128b0b6a7",
   "metadata": {},
   "outputs": [],
   "source": [
    "person['salary']= 123400      #updating"
   ]
  },
  {
   "cell_type": "code",
   "execution_count": 38,
   "id": "e2c16848-43d4-486a-9e6c-dbd3b66bf9ec",
   "metadata": {},
   "outputs": [
    {
     "data": {
      "text/plain": [
       "{'name': 'devi',\n",
       " 'age': 27,\n",
       " 'city': 'chennai',\n",
       " 'ph.no': '1234567890',\n",
       " 'salary': 123400}"
      ]
     },
     "execution_count": 38,
     "metadata": {},
     "output_type": "execute_result"
    }
   ],
   "source": [
    "person"
   ]
  },
  {
   "cell_type": "code",
   "execution_count": 39,
   "id": "9b9efadc-e322-434e-8de7-13423c42d216",
   "metadata": {},
   "outputs": [],
   "source": [
    "person['email']='abc@gmail.com'"
   ]
  },
  {
   "cell_type": "code",
   "execution_count": 40,
   "id": "5c0eb5ce-d7bc-4883-a57d-71ce18a221b5",
   "metadata": {},
   "outputs": [
    {
     "data": {
      "text/plain": [
       "{'name': 'devi',\n",
       " 'age': 27,\n",
       " 'city': 'chennai',\n",
       " 'ph.no': '1234567890',\n",
       " 'salary': 123400,\n",
       " 'email': 'abc@gmail.com'}"
      ]
     },
     "execution_count": 40,
     "metadata": {},
     "output_type": "execute_result"
    }
   ],
   "source": [
    "person"
   ]
  },
  {
   "cell_type": "code",
   "execution_count": 41,
   "id": "b2ecb85b-2945-4750-ae4a-a551044a9857",
   "metadata": {},
   "outputs": [],
   "source": [
    "person['age']=30"
   ]
  },
  {
   "cell_type": "code",
   "execution_count": 42,
   "id": "9c12b74f-18ae-43ce-84eb-74e7120968a2",
   "metadata": {},
   "outputs": [
    {
     "data": {
      "text/plain": [
       "{'name': 'devi',\n",
       " 'age': 30,\n",
       " 'city': 'chennai',\n",
       " 'ph.no': '1234567890',\n",
       " 'salary': 123400,\n",
       " 'email': 'abc@gmail.com'}"
      ]
     },
     "execution_count": 42,
     "metadata": {},
     "output_type": "execute_result"
    }
   ],
   "source": [
    "person"
   ]
  },
  {
   "cell_type": "code",
   "execution_count": 47,
   "id": "5c016372-5cb0-4e91-8b90-95857ddd9c57",
   "metadata": {},
   "outputs": [
    {
     "ename": "NameError",
     "evalue": "name 'keys' is not defined",
     "output_type": "error",
     "traceback": [
      "\u001b[1;31m---------------------------------------------------------------------------\u001b[0m",
      "\u001b[1;31mNameError\u001b[0m                                 Traceback (most recent call last)",
      "Cell \u001b[1;32mIn[47], line 1\u001b[0m\n\u001b[1;32m----> 1\u001b[0m person\u001b[38;5;241m.\u001b[39mget(\u001b[43mkeys\u001b[49m)\n",
      "\u001b[1;31mNameError\u001b[0m: name 'keys' is not defined"
     ]
    }
   ],
   "source": [
    "person.get(keys)"
   ]
  },
  {
   "cell_type": "code",
   "execution_count": 46,
   "id": "bb9f2226-a86a-463c-ba24-ce148ae674dc",
   "metadata": {},
   "outputs": [
    {
     "data": {
      "text/plain": [
       "dict_keys(['name', 'age', 'city', 'ph.no', 'salary', 'email'])"
      ]
     },
     "execution_count": 46,
     "metadata": {},
     "output_type": "execute_result"
    }
   ],
   "source": [
    "person.keys()"
   ]
  },
  {
   "cell_type": "code",
   "execution_count": 48,
   "id": "507bb86a-d6cb-4671-86ef-aaa07156f165",
   "metadata": {},
   "outputs": [
    {
     "data": {
      "text/plain": [
       "dict_values(['devi', 30, 'chennai', '1234567890', 123400, 'abc@gmail.com'])"
      ]
     },
     "execution_count": 48,
     "metadata": {},
     "output_type": "execute_result"
    }
   ],
   "source": [
    "person.values()"
   ]
  },
  {
   "cell_type": "code",
   "execution_count": 49,
   "id": "dde5af8a-01f1-4e95-99a5-3e3fac0822b0",
   "metadata": {},
   "outputs": [
    {
     "data": {
      "text/plain": [
       "dict_items([('name', 'devi'), ('age', 30), ('city', 'chennai'), ('ph.no', '1234567890'), ('salary', 123400), ('email', 'abc@gmail.com')])"
      ]
     },
     "execution_count": 49,
     "metadata": {},
     "output_type": "execute_result"
    }
   ],
   "source": [
    "person.items()"
   ]
  },
  {
   "cell_type": "code",
   "execution_count": 50,
   "id": "a2cbdcb5-7bee-47b6-9d45-193a3539c2df",
   "metadata": {},
   "outputs": [],
   "source": [
    "del person['ph.no']"
   ]
  },
  {
   "cell_type": "code",
   "execution_count": 51,
   "id": "597de2f4-b024-4862-80b9-96591b9f8beb",
   "metadata": {},
   "outputs": [
    {
     "data": {
      "text/plain": [
       "{'name': 'devi',\n",
       " 'age': 30,\n",
       " 'city': 'chennai',\n",
       " 'salary': 123400,\n",
       " 'email': 'abc@gmail.com'}"
      ]
     },
     "execution_count": 51,
     "metadata": {},
     "output_type": "execute_result"
    }
   ],
   "source": [
    "person"
   ]
  },
  {
   "cell_type": "code",
   "execution_count": 52,
   "id": "3aafc790-a886-4f05-8877-d464d22f7fce",
   "metadata": {},
   "outputs": [
    {
     "ename": "TypeError",
     "evalue": "pop expected at least 1 argument, got 0",
     "output_type": "error",
     "traceback": [
      "\u001b[1;31m---------------------------------------------------------------------------\u001b[0m",
      "\u001b[1;31mTypeError\u001b[0m                                 Traceback (most recent call last)",
      "Cell \u001b[1;32mIn[52], line 1\u001b[0m\n\u001b[1;32m----> 1\u001b[0m \u001b[43mperson\u001b[49m\u001b[38;5;241;43m.\u001b[39;49m\u001b[43mpop\u001b[49m\u001b[43m(\u001b[49m\u001b[43m)\u001b[49m\n",
      "\u001b[1;31mTypeError\u001b[0m: pop expected at least 1 argument, got 0"
     ]
    }
   ],
   "source": [
    "person.pop()"
   ]
  },
  {
   "cell_type": "code",
   "execution_count": 53,
   "id": "2eee13c8-30a3-4a37-bbe0-f48098747c1b",
   "metadata": {},
   "outputs": [
    {
     "data": {
      "text/plain": [
       "30"
      ]
     },
     "execution_count": 53,
     "metadata": {},
     "output_type": "execute_result"
    }
   ],
   "source": [
    "person.pop('age')"
   ]
  },
  {
   "cell_type": "code",
   "execution_count": 54,
   "id": "97322aaa-0fe4-4461-a480-0e9e9be007b5",
   "metadata": {},
   "outputs": [
    {
     "data": {
      "text/plain": [
       "{'name': 'devi', 'city': 'chennai', 'salary': 123400, 'email': 'abc@gmail.com'}"
      ]
     },
     "execution_count": 54,
     "metadata": {},
     "output_type": "execute_result"
    }
   ],
   "source": [
    "person"
   ]
  },
  {
   "cell_type": "code",
   "execution_count": 55,
   "id": "688dae23-3508-44e5-b339-0538c198d447",
   "metadata": {},
   "outputs": [
    {
     "data": {
      "text/plain": [
       "{}"
      ]
     },
     "execution_count": 55,
     "metadata": {},
     "output_type": "execute_result"
    }
   ],
   "source": [
    "person.clear()\n",
    "person     #emptying dict"
   ]
  },
  {
   "cell_type": "code",
   "execution_count": 56,
   "id": "711bb36e-1107-44bb-8c9c-6f2541a96d28",
   "metadata": {},
   "outputs": [],
   "source": [
    "del person\n"
   ]
  },
  {
   "cell_type": "code",
   "execution_count": 57,
   "id": "f8cd002a-7f7b-4341-9348-132c91bd0072",
   "metadata": {},
   "outputs": [
    {
     "ename": "NameError",
     "evalue": "name 'person' is not defined",
     "output_type": "error",
     "traceback": [
      "\u001b[1;31m---------------------------------------------------------------------------\u001b[0m",
      "\u001b[1;31mNameError\u001b[0m                                 Traceback (most recent call last)",
      "Cell \u001b[1;32mIn[57], line 1\u001b[0m\n\u001b[1;32m----> 1\u001b[0m \u001b[43mperson\u001b[49m\n",
      "\u001b[1;31mNameError\u001b[0m: name 'person' is not defined"
     ]
    }
   ],
   "source": [
    "person"
   ]
  },
  {
   "cell_type": "code",
   "execution_count": 58,
   "id": "93b19b2f-5740-45a6-93d5-871b63688bc3",
   "metadata": {},
   "outputs": [],
   "source": [
    "#set\n",
    "#builtin DS stores unique and unordered items"
   ]
  },
  {
   "cell_type": "code",
   "execution_count": 59,
   "id": "71c54308-c35f-4fc8-a7fb-ccd831430fd2",
   "metadata": {},
   "outputs": [
    {
     "data": {
      "text/plain": [
       "{1, 2, 3, 4, 5}"
      ]
     },
     "execution_count": 59,
     "metadata": {},
     "output_type": "execute_result"
    }
   ],
   "source": [
    "p={1,2,3,4,5}\n",
    "p"
   ]
  },
  {
   "cell_type": "code",
   "execution_count": 60,
   "id": "ca1138dc-ad08-4ef4-8d62-838d9f91e7b6",
   "metadata": {},
   "outputs": [
    {
     "data": {
      "text/plain": [
       "set"
      ]
     },
     "execution_count": 60,
     "metadata": {},
     "output_type": "execute_result"
    }
   ],
   "source": [
    "type(p)"
   ]
  },
  {
   "cell_type": "code",
   "execution_count": 61,
   "id": "ce6df280-62f8-46ac-baa3-73ec24167fd8",
   "metadata": {},
   "outputs": [
    {
     "data": {
      "text/plain": [
       "{}"
      ]
     },
     "execution_count": 61,
     "metadata": {},
     "output_type": "execute_result"
    }
   ],
   "source": [
    "p1={}\n",
    "p1"
   ]
  },
  {
   "cell_type": "code",
   "execution_count": 62,
   "id": "a78310ff-57dc-4a4e-a169-155ca6fe2f41",
   "metadata": {},
   "outputs": [
    {
     "data": {
      "text/plain": [
       "dict"
      ]
     },
     "execution_count": 62,
     "metadata": {},
     "output_type": "execute_result"
    }
   ],
   "source": [
    "type(p1)"
   ]
  },
  {
   "cell_type": "code",
   "execution_count": 64,
   "id": "62dc1f7f-5bd7-409a-8f87-4c8cb7c26529",
   "metadata": {},
   "outputs": [
    {
     "data": {
      "text/plain": [
       "set()"
      ]
     },
     "execution_count": 64,
     "metadata": {},
     "output_type": "execute_result"
    }
   ],
   "source": [
    "p2=set()\n",
    "p2"
   ]
  },
  {
   "cell_type": "code",
   "execution_count": 65,
   "id": "2d71fcb9-7d76-4cf4-a302-ca76bffc6087",
   "metadata": {},
   "outputs": [
    {
     "data": {
      "text/plain": [
       "{1, 2, 3, 4, 5}"
      ]
     },
     "execution_count": 65,
     "metadata": {},
     "output_type": "execute_result"
    }
   ],
   "source": [
    "p"
   ]
  },
  {
   "cell_type": "code",
   "execution_count": 66,
   "id": "089eab13-2499-4558-ad68-062cbd0898d0",
   "metadata": {},
   "outputs": [
    {
     "data": {
      "text/plain": [
       "{1, 2, 3, 4, 5, 6}"
      ]
     },
     "execution_count": 66,
     "metadata": {},
     "output_type": "execute_result"
    }
   ],
   "source": [
    "p.add(6)\n",
    "p"
   ]
  },
  {
   "cell_type": "code",
   "execution_count": 67,
   "id": "888ef2e4-84f7-4ee0-a018-6b918542206a",
   "metadata": {},
   "outputs": [
    {
     "data": {
      "text/plain": [
       "{1, 2, 3, 4, 5, 6, 7}"
      ]
     },
     "execution_count": 67,
     "metadata": {},
     "output_type": "execute_result"
    }
   ],
   "source": [
    "p.update([5,7])  #doesn't allow duplicates\n",
    "p"
   ]
  },
  {
   "cell_type": "code",
   "execution_count": 69,
   "id": "7f769cbc-4232-428a-9551-7e0027cac1f5",
   "metadata": {},
   "outputs": [
    {
     "data": {
      "text/plain": [
       "{1, 2, 3, 4, 5, 6, 7, 9, 10}"
      ]
     },
     "execution_count": 69,
     "metadata": {},
     "output_type": "execute_result"
    }
   ],
   "source": [
    "p.update([9,10])\n",
    "p"
   ]
  },
  {
   "cell_type": "code",
   "execution_count": 70,
   "id": "7b69dbfa-2a20-42de-80c3-8f33aafbfdb4",
   "metadata": {},
   "outputs": [
    {
     "data": {
      "text/plain": [
       "{1, 2, 3, 4, 5, 6, 7, 9, 10}"
      ]
     },
     "execution_count": 70,
     "metadata": {},
     "output_type": "execute_result"
    }
   ],
   "source": [
    "p.update([9,10])\n",
    "p"
   ]
  },
  {
   "cell_type": "code",
   "execution_count": 71,
   "id": "d12aacad-6a73-4c5d-bcc4-c54990eaaafd",
   "metadata": {},
   "outputs": [
    {
     "data": {
      "text/plain": [
       "{1, 2, 3, 4, 5, 6, 7, 9, 10, 11}"
      ]
     },
     "execution_count": 71,
     "metadata": {},
     "output_type": "execute_result"
    }
   ],
   "source": [
    "p.update([5,11])\n",
    "p"
   ]
  },
  {
   "cell_type": "code",
   "execution_count": 72,
   "id": "6d71109b-2ea5-442b-9e3b-a9eea205432d",
   "metadata": {},
   "outputs": [
    {
     "data": {
      "text/plain": [
       "{1, 2, 3, 4, 6, 7, 9, 10, 11}"
      ]
     },
     "execution_count": 72,
     "metadata": {},
     "output_type": "execute_result"
    }
   ],
   "source": [
    "p.remove(5)\n",
    "p"
   ]
  },
  {
   "cell_type": "code",
   "execution_count": 73,
   "id": "b073cf45-0d8d-4647-bc0d-d6ecb38b9822",
   "metadata": {},
   "outputs": [
    {
     "data": {
      "text/plain": [
       "set()"
      ]
     },
     "execution_count": 73,
     "metadata": {},
     "output_type": "execute_result"
    }
   ],
   "source": [
    "p.clear()\n",
    "p"
   ]
  },
  {
   "cell_type": "code",
   "execution_count": 74,
   "id": "044657e6-d5f8-4cf7-b023-8778314181a8",
   "metadata": {},
   "outputs": [
    {
     "data": {
      "text/plain": [
       "{1, 2, 3, 4}"
      ]
     },
     "execution_count": 74,
     "metadata": {},
     "output_type": "execute_result"
    }
   ],
   "source": [
    "c={1,2,3,4}\n",
    "d={5,3,7,4}\n",
    "c"
   ]
  },
  {
   "cell_type": "code",
   "execution_count": 75,
   "id": "6b29a7c5-5306-4661-bd33-675da985bf38",
   "metadata": {},
   "outputs": [
    {
     "data": {
      "text/plain": [
       "{3, 4, 5, 7}"
      ]
     },
     "execution_count": 75,
     "metadata": {},
     "output_type": "execute_result"
    }
   ],
   "source": [
    "d"
   ]
  },
  {
   "cell_type": "code",
   "execution_count": 76,
   "id": "d492572e-3a4e-419e-93ce-473b783a6333",
   "metadata": {},
   "outputs": [],
   "source": [
    "e=c.union(d)"
   ]
  },
  {
   "cell_type": "code",
   "execution_count": 77,
   "id": "5d030b75-4f9e-4a09-9bca-de1f0477d6b4",
   "metadata": {},
   "outputs": [
    {
     "data": {
      "text/plain": [
       "{1, 2, 3, 4, 5, 7}"
      ]
     },
     "execution_count": 77,
     "metadata": {},
     "output_type": "execute_result"
    }
   ],
   "source": [
    "e"
   ]
  },
  {
   "cell_type": "code",
   "execution_count": 78,
   "id": "aa9b3d1f-dfdd-4679-91ce-d0e627520fe2",
   "metadata": {},
   "outputs": [
    {
     "data": {
      "text/plain": [
       "{1, 2, 3, 4, 5, 7}"
      ]
     },
     "execution_count": 78,
     "metadata": {},
     "output_type": "execute_result"
    }
   ],
   "source": [
    "f=c|d\n",
    "f"
   ]
  },
  {
   "cell_type": "code",
   "execution_count": 79,
   "id": "8a861792-9c5a-41aa-87c6-e872c800ab5e",
   "metadata": {},
   "outputs": [
    {
     "data": {
      "text/plain": [
       "{3, 4}"
      ]
     },
     "execution_count": 79,
     "metadata": {},
     "output_type": "execute_result"
    }
   ],
   "source": [
    "g=c.intersection(d)\n",
    "g"
   ]
  },
  {
   "cell_type": "code",
   "execution_count": 80,
   "id": "2f2fcf50-3c16-4b00-a9f2-407943af7660",
   "metadata": {},
   "outputs": [
    {
     "data": {
      "text/plain": [
       "{3, 4}"
      ]
     },
     "execution_count": 80,
     "metadata": {},
     "output_type": "execute_result"
    }
   ],
   "source": [
    "h=c&d\n",
    "h"
   ]
  },
  {
   "cell_type": "code",
   "execution_count": 81,
   "id": "1ccc2d84-71b6-4c8a-b676-d74d6e8e00e4",
   "metadata": {},
   "outputs": [
    {
     "data": {
      "text/plain": [
       "{1, 2}"
      ]
     },
     "execution_count": 81,
     "metadata": {},
     "output_type": "execute_result"
    }
   ],
   "source": [
    "i=c-d\n",
    "i"
   ]
  },
  {
   "cell_type": "code",
   "execution_count": 83,
   "id": "6ef33055-44e3-4a9d-8c51-6f2c2cf3bcbc",
   "metadata": {},
   "outputs": [
    {
     "data": {
      "text/plain": [
       "{5, 7}"
      ]
     },
     "execution_count": 83,
     "metadata": {},
     "output_type": "execute_result"
    }
   ],
   "source": [
    "j=d-c\n",
    "j"
   ]
  },
  {
   "cell_type": "code",
   "execution_count": 84,
   "id": "b8eabcd8-b8e0-4ff4-abc5-56cd5897c4f4",
   "metadata": {},
   "outputs": [
    {
     "data": {
      "text/plain": [
       "{1, 2, 3, 4}"
      ]
     },
     "execution_count": 84,
     "metadata": {},
     "output_type": "execute_result"
    }
   ],
   "source": [
    "c"
   ]
  },
  {
   "cell_type": "code",
   "execution_count": 85,
   "id": "6c95956c-aa76-44cd-b52a-dd7cc864fdbc",
   "metadata": {},
   "outputs": [
    {
     "data": {
      "text/plain": [
       "{3, 4, 5, 7}"
      ]
     },
     "execution_count": 85,
     "metadata": {},
     "output_type": "execute_result"
    }
   ],
   "source": [
    "d"
   ]
  },
  {
   "cell_type": "code",
   "execution_count": 86,
   "id": "6b0a86a5-37be-466a-a289-bb7f6a611b3f",
   "metadata": {},
   "outputs": [],
   "source": [
    "k=c.difference(d)"
   ]
  },
  {
   "cell_type": "code",
   "execution_count": 87,
   "id": "9b580717-c771-4839-824f-488e06be20d9",
   "metadata": {},
   "outputs": [
    {
     "data": {
      "text/plain": [
       "{1, 2}"
      ]
     },
     "execution_count": 87,
     "metadata": {},
     "output_type": "execute_result"
    }
   ],
   "source": [
    "k"
   ]
  },
  {
   "cell_type": "code",
   "execution_count": null,
   "id": "9a6ce5e0-a2e1-47dc-9c0a-52ca8410ca26",
   "metadata": {},
   "outputs": [],
   "source": []
  }
 ],
 "metadata": {
  "kernelspec": {
   "display_name": "Python 3 (ipykernel)",
   "language": "python",
   "name": "python3"
  },
  "language_info": {
   "codemirror_mode": {
    "name": "ipython",
    "version": 3
   },
   "file_extension": ".py",
   "mimetype": "text/x-python",
   "name": "python",
   "nbconvert_exporter": "python",
   "pygments_lexer": "ipython3",
   "version": "3.13.1"
  }
 },
 "nbformat": 4,
 "nbformat_minor": 5
}
