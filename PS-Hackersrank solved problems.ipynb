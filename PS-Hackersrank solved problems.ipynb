{
 "cells": [
  {
   "cell_type": "code",
   "execution_count": null,
   "id": "05481f55-0e3e-42a5-ab6e-af039b816acf",
   "metadata": {},
   "outputs": [],
   "source": [
    "#counting substring\n",
    "def count_substring(string, sub_string):\n",
    "    count=0\n",
    "    n=len(string)\n",
    "    m=len(sub_string)\n",
    "    for i in range(n - m + 1):\n",
    "        if string[i:i+m] == sub_string:\n",
    "            count += 1\n",
    "\n",
    "    return count\n",
    "\n",
    "if __name__ == '__main__':\n",
    "    string='hello'\n",
    "    sub_string='llo'\n",
    "count_substring(string, sub_string)"
   ]
  },
  {
   "cell_type": "code",
   "execution_count": null,
   "id": "2543aaf2-3a60-4d64-ba5e-be2d6a81a0bd",
   "metadata": {},
   "outputs": [],
   "source": [
    "# different functions in string\n",
    "if __name__ == '__main__':\n",
    "    s = input().strip()\n",
    "    \n",
    "    print(any(c.isalnum() for c in s))\n",
    "    print(any(c.isalpha() for c in s))\n",
    "    print(any(c.isdigit() for c in s))\n",
    "    print(any(c.islower() for c in s))\n",
    "    print(any(c.isupper() for c in s))\n"
   ]
  },
  {
   "cell_type": "code",
   "execution_count": null,
   "id": "cf794d98-20b3-4e44-a7ba-5bd8d9a91602",
   "metadata": {},
   "outputs": [],
   "source": [
    "#USING WRAP FUNCTIONS\n",
    "import textwrap\n",
    "\n",
    "def wrap(string, max_width):\n",
    "    return textwrap.fill(string, max_width)\n",
    "\n",
    "if __name__ == '__main__':\n",
    "     s = input().strip()\n",
    "     w = int(input().strip())\n",
    "     result = wrap(s, w)\n",
    "     print(result)\n",
    "wrap(string, max_width)"
   ]
  },
  {
   "cell_type": "code",
   "execution_count": null,
   "id": "fcaf1735-c93d-4519-a238-0c46eef96d30",
   "metadata": {},
   "outputs": [],
   "source": [
    "\n",
    "if __name__ == '__main__':\n",
    "    n = int(input())\n",
    "    arr = map(int, input().split())\n",
    "    a=list(arr)\n",
    "    a.sort()\n",
    "    b=set(a)\n",
    "    arr=list(b)\n",
    "    \n",
    "    print(arr[-2])\n",
    "    "
   ]
  },
  {
   "cell_type": "code",
   "execution_count": null,
   "id": "a3fd4763-c2bb-497a-92c0-b0d5c8994282",
   "metadata": {},
   "outputs": [],
   "source": [
    "#PRINT NAME OF ANY STUDENTS HAVING 2ND LOWEST GRADE IN MULTIPLE ST\n",
    "if __name__ == '__main__':\n",
    "    students=[]\n",
    "    for _ in range(int(input())):\n",
    "        name = input()\n",
    "        score = float(input())\n",
    "        \n",
    "        students.append([name, score])\n",
    "    second_lowest = sorted(set(score for name, score in students))[1]\n",
    "    result = sorted(name for name, score in students if score == second_lowest)\n",
    "    print(\"\\n\".join(result))\n"
   ]
  },
  {
   "cell_type": "code",
   "execution_count": null,
   "id": "827adbba-4d7f-4321-8cf7-7a62acea5ffe",
   "metadata": {},
   "outputs": [],
   "source": [
    "#STUDENT MARK AVERAGE\n",
    "if __name__ == '__main__':\n",
    "    n = int(input())\n",
    "    student_marks = {}\n",
    "    for _ in range(n):\n",
    "        name, *line = input().split()\n",
    "        scores = list(map(float, line))\n",
    "        student_marks[name] = scores\n",
    "    query_name = input()\n",
    "    marks = student_marks[query_name]\n",
    "    a=sum(marks)/len(marks)\n",
    "    print(f\"{a:.2f}\")"
   ]
  },
  {
   "cell_type": "code",
   "execution_count": null,
   "id": "90b169d9-d518-40f7-94a8-5fdc11a2599c",
   "metadata": {},
   "outputs": [],
   "source": [
    "#LIST COMPREHENSION\n",
    "if __name__ == '__main__':\n",
    "    x = int(input())\n",
    "    y = int(input())\n",
    "    z = int(input())\n",
    "    n = int(input())\n",
    "    print([[i,j,k] for i in range(x+1)\n",
    "    for j in range(y+1)\n",
    "    for k in range(z+1) \n",
    "    if i+j+k!=n]\n",
    "    )"
   ]
  },
  {
   "cell_type": "code",
   "execution_count": null,
   "id": "ccb3743e-f816-44de-a9ef-d36422e4b74e",
   "metadata": {},
   "outputs": [],
   "source": [
    "#VARIOUS OPERATIONS IN LISTS\n",
    "if __name__ == '__main__':\n",
    "    N = int(input())\n",
    "    lst = []\n",
    "    for _ in range(N):\n",
    "        cmd = input().split()\n",
    "        op = cmd[0]\n",
    "        args = list(map(int, cmd[1:]))\n",
    "\n",
    "        if op == \"insert\":\n",
    "            lst.insert(args[0], args[1])\n",
    "        elif op == \"print\":\n",
    "            print(lst)\n",
    "        elif op == \"remove\":\n",
    "            lst.remove(args[0])\n",
    "        elif op == \"append\":\n",
    "            lst.append(args[0])\n",
    "        elif op == \"sort\":\n",
    "            lst.sort()\n",
    "        elif op == \"pop\":\n",
    "            lst.pop()\n",
    "        elif op == \"reverse\":\n",
    "            lst.reverse()"
   ]
  },
  {
   "cell_type": "code",
   "execution_count": null,
   "id": "a125b606-fa5c-4818-b949-e5f312102c2b",
   "metadata": {},
   "outputs": [],
   "source": [
    "#STRING CAPITALIZE\n",
    "def solve(s):\n",
    "    return ' '.join(word.capitalize() for word in s.split(' '))\n"
   ]
  },
  {
   "cell_type": "code",
   "execution_count": null,
   "id": "fda80f5a-2143-4b26-9ef2-e365e21ed314",
   "metadata": {},
   "outputs": [],
   "source": [
    "solve('hello world')"
   ]
  },
  {
   "cell_type": "code",
   "execution_count": null,
   "id": "10690433-50cb-4360-a4db-6b6ad934025c",
   "metadata": {},
   "outputs": [],
   "source": []
  }
 ],
 "metadata": {
  "kernelspec": {
   "display_name": "Python 3 (ipykernel)",
   "language": "python",
   "name": "python3"
  },
  "language_info": {
   "codemirror_mode": {
    "name": "ipython",
    "version": 3
   },
   "file_extension": ".py",
   "mimetype": "text/x-python",
   "name": "python",
   "nbconvert_exporter": "python",
   "pygments_lexer": "ipython3",
   "version": "3.13.1"
  }
 },
 "nbformat": 4,
 "nbformat_minor": 5
}
