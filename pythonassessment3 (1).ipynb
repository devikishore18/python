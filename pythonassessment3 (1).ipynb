{
 "cells": [
  {
   "cell_type": "markdown",
   "id": "35f60f2d-5acc-4e24-b62e-dafb9941946d",
   "metadata": {},
   "source": [
    "1. Write a program to reverse a string. Using function and loops \n",
    "2. Write a program to check if a string is a palindrome.    madam\n",
    "3. Create a program to generate Fibonacci series up to n terms. 0, 1, 1, 2, 3, 5, 8, 13, 21, 34, ...\n",
    "4. Write a program to find all prime numbers up to n.\n",
    "5. Write a program to remove duplicates from a list. Without set data structure\n",
    "6. Create a program to find the second largest number in a list\n",
    "7. Write a program to generate a simple calculator\n",
    "8. Write a program to read and write to files with error handling.\n",
    "9. Create a 3D NumPy array of shape (2, 3, 4). Convert it into a 2D array and then flatten it into a 1D array.\n",
    "10. Create two 2D NumPy arrays (3×2 and 2×3) and perform matrix multiplication using np.dot().\n"
   ]
  },
  {
   "cell_type": "code",
   "execution_count": 58,
   "id": "94ab2ea7-621e-4c73-8741-f77712cb4b0b",
   "metadata": {},
   "outputs": [],
   "source": [
    "# Write a program to reverse a string. Using function and loops \n",
    "def rev_str(str1):\n",
    "    r = ''\n",
    "    for i in str1:\n",
    "        r = i + r\n",
    "    return r"
   ]
  },
  {
   "cell_type": "code",
   "execution_count": 59,
   "id": "33848f54-8050-43eb-b11b-00d740e2ae8f",
   "metadata": {},
   "outputs": [
    {
     "data": {
      "text/plain": [
       "'erutcip'"
      ]
     },
     "execution_count": 59,
     "metadata": {},
     "output_type": "execute_result"
    }
   ],
   "source": [
    "rev_str('picture')"
   ]
  },
  {
   "cell_type": "code",
   "execution_count": 61,
   "id": "2457674e-2852-4885-bf4c-0296b9df6687",
   "metadata": {},
   "outputs": [],
   "source": [
    " #Write a program to check if a string is a palindrome.    madam\n",
    "def palindrome(str1):\n",
    "    if str1==str1[::-1]:\n",
    "        print(f\"{str1} is a palindrome\")\n",
    "    else:\n",
    "        print(f\"{str1} is not a palindrome\")"
   ]
  },
  {
   "cell_type": "code",
   "execution_count": 62,
   "id": "6ad61940-943b-4916-9ffc-1b5ec786c595",
   "metadata": {},
   "outputs": [
    {
     "name": "stdout",
     "output_type": "stream",
     "text": [
      "hello is not a palindrome\n"
     ]
    }
   ],
   "source": [
    "palindrome('hello')"
   ]
  },
  {
   "cell_type": "code",
   "execution_count": 63,
   "id": "6f479099-3679-48db-a410-ccd9eb958acb",
   "metadata": {},
   "outputs": [
    {
     "name": "stdout",
     "output_type": "stream",
     "text": [
      "madam is a palindrome\n"
     ]
    }
   ],
   "source": [
    "palindrome(\"madam\")"
   ]
  },
  {
   "cell_type": "code",
   "execution_count": 64,
   "id": "32bebbf6-1abd-4c4b-9c1f-889dc3692816",
   "metadata": {},
   "outputs": [],
   "source": [
    "# Create a program to generate Fibonacci series up to n terms. 0, 1, 1, 2, 3, 5, 8, 13, 21, 34, ...\n",
    "def fibonacci(n):\n",
    "    if n<=1:\n",
    "        return n\n",
    "    else:\n",
    "        return fibonacci(n-1)+fibonacci(n-2)\n"
   ]
  },
  {
   "cell_type": "code",
   "execution_count": 65,
   "id": "0c145d5e-5d42-4a58-a5cf-3dea1c7a12f3",
   "metadata": {},
   "outputs": [
    {
     "name": "stdin",
     "output_type": "stream",
     "text": [
      "enter a positive value upto which u need fibonacci series 10\n"
     ]
    },
    {
     "name": "stdout",
     "output_type": "stream",
     "text": [
      "0,1,1,2,3,5,8,13,21,34,"
     ]
    }
   ],
   "source": [
    "value=int(input('enter a positive value upto which u need fibonacci series'))\n",
    "for i in range(value):\n",
    "          print(fibonacci(i),end=',')\n",
    "    "
   ]
  },
  {
   "cell_type": "code",
   "execution_count": 53,
   "id": "646adce5-5412-4476-823d-ded51cbe2f22",
   "metadata": {},
   "outputs": [
    {
     "name": "stdout",
     "output_type": "stream",
     "text": [
      "0,1,1,2,3,5,8,13,21,34,"
     ]
    }
   ],
   "source": [
    "for i in range(10):\n",
    "    print (fibonacci(i),end=',')\n"
   ]
  },
  {
   "cell_type": "code",
   "execution_count": 5,
   "id": "94b96dea-f90c-41d6-9771-3479432866b4",
   "metadata": {},
   "outputs": [],
   "source": [
    "# Write a program to find all prime numbers up to n.\n",
    "def prime(n):\n",
    "    x=2\n",
    "    count=0\n",
    "    while count<n:\n",
    "        for i in range(2,int(x**0.5)+1):\n",
    "            if x%i==0:\n",
    "                break\n",
    "            else:\n",
    "                print(x)\n",
    "                count+=1\n",
    "        x+=1"
   ]
  },
  {
   "cell_type": "code",
   "execution_count": 6,
   "id": "ab28ac92-4371-45d9-837d-c77e5b878735",
   "metadata": {},
   "outputs": [
    {
     "name": "stdout",
     "output_type": "stream",
     "text": [
      "5\n",
      "7\n",
      "9\n",
      "11\n",
      "11\n"
     ]
    }
   ],
   "source": [
    "prime(4)"
   ]
  },
  {
   "cell_type": "code",
   "execution_count": 10,
   "id": "6d25c044-1a95-40e7-91bd-1dcb3035622a",
   "metadata": {},
   "outputs": [],
   "source": [
    "def prime(n):\n",
    "    if n<=1:\n",
    "        return False\n",
    "    else:\n",
    "        for i in range(2,int(n**0.5)+1):\n",
    "            if n%i==0:\n",
    "                return False\n",
    "    return True\n",
    "    "
   ]
  },
  {
   "cell_type": "code",
   "execution_count": 11,
   "id": "ca739669-2a31-4fef-b7a0-a52d78465e40",
   "metadata": {},
   "outputs": [
    {
     "data": {
      "text/plain": [
       "False"
      ]
     },
     "execution_count": 11,
     "metadata": {},
     "output_type": "execute_result"
    }
   ],
   "source": [
    "prime(10)"
   ]
  },
  {
   "cell_type": "code",
   "execution_count": 26,
   "id": "ca31261a-5eea-40f9-ad0c-64545102dac5",
   "metadata": {},
   "outputs": [],
   "source": [
    "def prime_series(a,b):\n",
    "    prime_list=[]\n",
    "    for n in range(a,b+1):\n",
    "        if prime(n):                #calling a function prime()\n",
    "            prime_list.append(n)\n",
    "    return prime_list \n",
    "    \n",
    "    \n"
   ]
  },
  {
   "cell_type": "code",
   "execution_count": 27,
   "id": "130b6045-206d-4bf6-bbf7-f94d13197322",
   "metadata": {},
   "outputs": [
    {
     "data": {
      "text/plain": [
       "[2, 3, 5, 7, 11, 13, 17, 19, 23, 29]"
      ]
     },
     "execution_count": 27,
     "metadata": {},
     "output_type": "execute_result"
    }
   ],
   "source": [
    "prime_series(0,30)"
   ]
  },
  {
   "cell_type": "code",
   "execution_count": 43,
   "id": "821b88d8-c18a-4773-8e2e-39299cf0cdac",
   "metadata": {},
   "outputs": [],
   "source": [
    "# Write a program to remove duplicates from a list. Without set data structure\n",
    "def remove_duplicates(numbers):\n",
    "    l=[]\n",
    "    for i in numbers:\n",
    "        if i not in l:\n",
    "            l.append(i)\n",
    "    return l\n",
    "    \n",
    "    "
   ]
  },
  {
   "cell_type": "code",
   "execution_count": 44,
   "id": "fd71682f-9c78-457c-a4a9-3f4954856111",
   "metadata": {},
   "outputs": [
    {
     "data": {
      "text/plain": [
       "[1, 2, 4, 5]"
      ]
     },
     "execution_count": 44,
     "metadata": {},
     "output_type": "execute_result"
    }
   ],
   "source": [
    "l=[1,2,4,5,1,2,4,5]\n",
    "remove_duplicates(l)"
   ]
  },
  {
   "cell_type": "code",
   "execution_count": 67,
   "id": "24ae42b1-b6e1-4a0b-8ec6-a1370bd951e6",
   "metadata": {},
   "outputs": [],
   "source": [
    " #Create a program to find the second largest number in a list\n",
    "def sln(numbers):\n",
    "    l1 = l2 = float('-inf')\n",
    "    for i in numbers:\n",
    "        if i>l1:\n",
    "            l2=l1\n",
    "            l1=i\n",
    "        else:\n",
    "            i>l2 and i!=l1\n",
    "            l2=i\n",
    "    print(l2)\n"
   ]
  },
  {
   "cell_type": "code",
   "execution_count": 69,
   "id": "1cbebc3d-aa26-4083-8b78-7ae79d361a43",
   "metadata": {},
   "outputs": [
    {
     "name": "stdout",
     "output_type": "stream",
     "text": [
      "99\n"
     ]
    }
   ],
   "source": [
    "l=[1,2,3,4,100,100,99]\n",
    "sln(l)"
   ]
  },
  {
   "cell_type": "code",
   "execution_count": 66,
   "id": "071d8231-5f9d-4eb0-9ec0-8f241cc9e898",
   "metadata": {},
   "outputs": [
    {
     "name": "stdout",
     "output_type": "stream",
     "text": [
      "enter a number to select operation \n",
      " 1 for addition \n",
      " 2 for subtraction \n",
      " 3 for multiplication \n",
      " 4 for division\n"
     ]
    },
    {
     "name": "stdin",
     "output_type": "stream",
     "text": [
      "Select operation (1-4):  1\n",
      "enter 1st number 2\n",
      "enter 2nd number 4\n"
     ]
    },
    {
     "name": "stdout",
     "output_type": "stream",
     "text": [
      "2 + 4 = 6\n"
     ]
    }
   ],
   "source": [
    "#Write a program to generate a simple calculator\n",
    "def add(a,b):\n",
    "    return a+b\n",
    "def sub(a,b):\n",
    "    return a-b\n",
    "def mul(a,b):\n",
    "    return a*b\n",
    "def div(a,b):\n",
    "    return a/b\n",
    "print('enter a number to select operation \\n'\n",
    "      ' 1 for addition \\n'\n",
    "      ' 2 for subtraction \\n '\n",
    "      '3 for multiplication \\n '\n",
    "      '4 for division')   \n",
    "select = int(input(\"Select operation (1-4): \"))\n",
    "a=int(input('enter 1st number'))\n",
    "b=int(input('enter 2nd number'))\n",
    "if select==1:\n",
    "    print(f'{a} + {b} = {add(a,b)}')\n",
    "if select==2:\n",
    "    print(f'{a} - {b} = {sub(a,b)}')\n",
    "if select==3:\n",
    "    print(f'{a} + {b} = {mul(a,b)}')\n",
    "if select==4:\n",
    "    print(f'{a} + {b} = {div(a,b)}')\n",
    "\n",
    "\n"
   ]
  },
  {
   "cell_type": "code",
   "execution_count": 2,
   "id": "250c0449-cc58-4b03-8b67-6019ca31557f",
   "metadata": {},
   "outputs": [
    {
     "name": "stdout",
     "output_type": "stream",
     "text": [
      "hello Devi\n",
      "done\n",
      "program executed\n"
     ]
    }
   ],
   "source": [
    "#Write a program to read and write to files with error handling.\n",
    "try:\n",
    "    with open ('test.txt','w') as file:   #with operator no need to close\n",
    "         file.write(\"hello Devi\")\n",
    "    with open('test.txt','r') as file:\n",
    "        content = file.read()\n",
    "        print(content)\n",
    "except:\n",
    "    print('error')\n",
    "else:\n",
    "    print(\"done\")\n",
    "finally:\n",
    "    print('program executed')"
   ]
  },
  {
   "cell_type": "code",
   "execution_count": 80,
   "id": "9ecfdb91-1ba6-47ff-bdfa-1add559b7a47",
   "metadata": {},
   "outputs": [
    {
     "data": {
      "text/plain": [
       "(2, 3, 4)"
      ]
     },
     "execution_count": 80,
     "metadata": {},
     "output_type": "execute_result"
    }
   ],
   "source": [
    "#Create a 3D NumPy array of shape (2, 3, 4). Convert it into a 2D array and then flatten it into a 1D array.\n",
    "import numpy as np\n",
    "a3d=np.array([\n",
    "    [[4,3,5,6],[5,6,7,2],[3,4,7,9]],\n",
    "    [[1,8,9,5],[8,9,5,4],[1,5,8,9]]\n",
    "             ])\n",
    "a3d.shape"
   ]
  },
  {
   "cell_type": "code",
   "execution_count": 82,
   "id": "a0c50ba1-e23e-4a23-91a7-07cc47cff888",
   "metadata": {},
   "outputs": [
    {
     "data": {
      "text/plain": [
       "array([[4, 3, 5, 6],\n",
       "       [5, 6, 7, 2],\n",
       "       [3, 4, 7, 9],\n",
       "       [1, 8, 9, 5],\n",
       "       [8, 9, 5, 4],\n",
       "       [1, 5, 8, 9]])"
      ]
     },
     "execution_count": 82,
     "metadata": {},
     "output_type": "execute_result"
    }
   ],
   "source": [
    "#rray_2d = array_3d.reshape(-1, array_3d.shape[-1])\n",
    "a2d=a3d.reshape(-1,a3d.shape[-1])\n",
    "a2d\n",
    "\n"
   ]
  },
  {
   "cell_type": "code",
   "execution_count": 83,
   "id": "fcedd32e-0fb4-4e1e-b44a-1934b8526884",
   "metadata": {},
   "outputs": [
    {
     "data": {
      "text/plain": [
       "(6, 4)"
      ]
     },
     "execution_count": 83,
     "metadata": {},
     "output_type": "execute_result"
    }
   ],
   "source": [
    "a2d.shape"
   ]
  },
  {
   "cell_type": "code",
   "execution_count": 85,
   "id": "800446ba-7fe9-4a0e-9d6f-bf814e099fc3",
   "metadata": {},
   "outputs": [
    {
     "data": {
      "text/plain": [
       "2"
      ]
     },
     "execution_count": 85,
     "metadata": {},
     "output_type": "execute_result"
    }
   ],
   "source": [
    "a2d.ndim"
   ]
  },
  {
   "cell_type": "code",
   "execution_count": 88,
   "id": "76942e79-0863-4130-aafc-8f5a5d8bd379",
   "metadata": {},
   "outputs": [
    {
     "data": {
      "text/plain": [
       "array([4, 3, 5, 6, 5, 6, 7, 2, 3, 4, 7, 9, 1, 8, 9, 5, 8, 9, 5, 4, 1, 5,\n",
       "       8, 9])"
      ]
     },
     "execution_count": 88,
     "metadata": {},
     "output_type": "execute_result"
    }
   ],
   "source": [
    "a1d=a2d.flatten()\n",
    "a1d"
   ]
  },
  {
   "cell_type": "code",
   "execution_count": 89,
   "id": "ff37d944-d4bf-40cc-b755-e43433655879",
   "metadata": {},
   "outputs": [
    {
     "data": {
      "text/plain": [
       "1"
      ]
     },
     "execution_count": 89,
     "metadata": {},
     "output_type": "execute_result"
    }
   ],
   "source": [
    "a1d.ndim"
   ]
  },
  {
   "cell_type": "code",
   "execution_count": 90,
   "id": "6d084021-0bd6-487a-a8af-4446c1f053f4",
   "metadata": {},
   "outputs": [
    {
     "data": {
      "text/plain": [
       "(24,)"
      ]
     },
     "execution_count": 90,
     "metadata": {},
     "output_type": "execute_result"
    }
   ],
   "source": [
    "a1d.shape"
   ]
  },
  {
   "cell_type": "code",
   "execution_count": 92,
   "id": "b594148c-a0ca-4b5d-9716-527d66a7a7f0",
   "metadata": {},
   "outputs": [
    {
     "data": {
      "text/plain": [
       "(3, 2)"
      ]
     },
     "execution_count": 92,
     "metadata": {},
     "output_type": "execute_result"
    }
   ],
   "source": [
    "#Create two 2D NumPy arrays (3×2 and 2×3) and perform matrix multiplication using np.dot().\n",
    "a1=np.array([[1,2],\n",
    "             [3,4],\n",
    "             [5,6]])\n",
    "a2=np.array([[1,2,3],\n",
    "             [4,5,6]])\n",
    "a1.shape\n",
    "            "
   ]
  },
  {
   "cell_type": "code",
   "execution_count": 93,
   "id": "a14e9306-9c0b-4cf6-90be-0c85bfb49b74",
   "metadata": {},
   "outputs": [
    {
     "data": {
      "text/plain": [
       "(2, 3)"
      ]
     },
     "execution_count": 93,
     "metadata": {},
     "output_type": "execute_result"
    }
   ],
   "source": [
    "a2.shape"
   ]
  },
  {
   "cell_type": "code",
   "execution_count": 95,
   "id": "5a686237-7863-411b-b428-c34fc5094929",
   "metadata": {},
   "outputs": [
    {
     "data": {
      "text/plain": [
       "array([[ 9, 12, 15],\n",
       "       [19, 26, 33],\n",
       "       [29, 40, 51]])"
      ]
     },
     "execution_count": 95,
     "metadata": {},
     "output_type": "execute_result"
    }
   ],
   "source": [
    "a3=np.dot(a1,a2)\n",
    "a3"
   ]
  },
  {
   "cell_type": "code",
   "execution_count": null,
   "id": "fbd3a5ee-ba79-441e-8eae-ea17041cee8b",
   "metadata": {},
   "outputs": [],
   "source": []
  }
 ],
 "metadata": {
  "kernelspec": {
   "display_name": "Python 3 (ipykernel)",
   "language": "python",
   "name": "python3"
  },
  "language_info": {
   "codemirror_mode": {
    "name": "ipython",
    "version": 3
   },
   "file_extension": ".py",
   "mimetype": "text/x-python",
   "name": "python",
   "nbconvert_exporter": "python",
   "pygments_lexer": "ipython3",
   "version": "3.13.1"
  }
 },
 "nbformat": 4,
 "nbformat_minor": 5
}
