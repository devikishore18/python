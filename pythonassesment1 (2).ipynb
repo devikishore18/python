{
 "cells": [
  {
   "cell_type": "code",
   "execution_count": 130,
   "id": "0595769b-b7af-49d5-85d2-bbd3923caa1a",
   "metadata": {},
   "outputs": [
    {
     "data": {
      "text/plain": [
       "[5, 3.0, True, 'hello', (5+7j)]"
      ]
     },
     "execution_count": 130,
     "metadata": {},
     "output_type": "execute_result"
    }
   ],
   "source": [
    "#create a list which contain all datatypes\n",
    "l=[5,3.0,True,'hello',5+7j]\n",
    "l"
   ]
  },
  {
   "cell_type": "code",
   "execution_count": 131,
   "id": "b38b0592-e66f-45b0-b424-4656b3d1af77",
   "metadata": {},
   "outputs": [
    {
     "data": {
      "text/plain": [
       "(2, 4, 6, 8, 10)"
      ]
     },
     "execution_count": 131,
     "metadata": {},
     "output_type": "execute_result"
    }
   ],
   "source": [
    "# tuple contains only even numbers\n",
    "t=(2,4,6,8,10)\n",
    "t"
   ]
  },
  {
   "cell_type": "code",
   "execution_count": 16,
   "id": "a9e73bd7-a50c-4b37-bba2-cdbfbecbf3a1",
   "metadata": {},
   "outputs": [
    {
     "data": {
      "text/plain": [
       "{'name': 'devi',\n",
       " 'age': 27,\n",
       " 'location': 'chennai',\n",
       " 'phone': '1234567890',\n",
       " 'mail': 'devi@gmail.com'}"
      ]
     },
     "execution_count": 16,
     "metadata": {},
     "output_type": "execute_result"
    }
   ],
   "source": [
    "#dictionary of a person with 5 key value pairs\n",
    "d={'name':'devi','age':27,'location':'chennai','phone':'1234567890','mail':'devi@gmail.com'}\n",
    "d"
   ]
  },
  {
   "cell_type": "code",
   "execution_count": 5,
   "id": "efa29e48-1895-49cf-b20b-a4b697469333",
   "metadata": {},
   "outputs": [
    {
     "data": {
      "text/plain": [
       "{1, 2, 3, 6, 9}"
      ]
     },
     "execution_count": 5,
     "metadata": {},
     "output_type": "execute_result"
    }
   ],
   "source": [
    "#set containing repeated value \n",
    "s={1,2,3,6,1,2,3,6,6,1,9}\n",
    "s"
   ]
  },
  {
   "cell_type": "code",
   "execution_count": 17,
   "id": "99c9e729-a51d-412b-a711-be8f9139ed6a",
   "metadata": {},
   "outputs": [
    {
     "name": "stdin",
     "output_type": "stream",
     "text": [
      "enter a number(1-7) 5\n"
     ]
    },
    {
     "name": "stdout",
     "output_type": "stream",
     "text": [
      "friday\n"
     ]
    }
   ],
   "source": [
    "#1 monday\n",
    "#2 tues\n",
    "#7 sun elif\n",
    "x=int(input(\"enter a number(1-7)\"))\n",
    "if x==1:\n",
    "    print('monday')\n",
    "elif x==2:\n",
    "    print('tuesday')\n",
    "elif x==3:\n",
    "    print('wednesday')\n",
    "elif x==4:\n",
    "    print('thursday')\n",
    "elif x==5:\n",
    "    print('friday')\n",
    "elif x==6:\n",
    "    print('saturday')\n",
    "elif x==7:\n",
    "    print('sunday')\n",
    "else:\n",
    "    print('enter number from 1-7')\n",
    "    "
   ]
  },
  {
   "cell_type": "code",
   "execution_count": 14,
   "id": "45ad1313-3a3a-4642-bef0-4ab6622ae345",
   "metadata": {},
   "outputs": [
    {
     "name": "stdin",
     "output_type": "stream",
     "text": [
      "enter a string: good\n"
     ]
    },
    {
     "name": "stdout",
     "output_type": "stream",
     "text": [
      "g\n",
      "o\n",
      "o\n",
      "d\n"
     ]
    }
   ],
   "source": [
    "#print each char of a string using for loop\n",
    "a=input('enter a string:')\n",
    "for i in a:\n",
    "    print(i)\n"
   ]
  },
  {
   "cell_type": "code",
   "execution_count": null,
   "id": "f0611370-4a27-4ac9-aaca-596f5563e33c",
   "metadata": {},
   "outputs": [],
   "source": [
    "#take a comma-separated string of integers, remove duplicates, sort them in descending order, and return the median."
   ]
  },
  {
   "cell_type": "code",
   "execution_count": 19,
   "id": "928ccba3-33a4-4d69-a8b7-0980ad71e0a5",
   "metadata": {},
   "outputs": [],
   "source": [
    "a='1,2,3,4,1,2,4'\n",
    "b=a.split(',')"
   ]
  },
  {
   "cell_type": "code",
   "execution_count": 20,
   "id": "b662d0fa-4307-49bf-a030-fd6181bcc850",
   "metadata": {},
   "outputs": [
    {
     "data": {
      "text/plain": [
       "['1', '2', '3', '4', '1', '2', '4']"
      ]
     },
     "execution_count": 20,
     "metadata": {},
     "output_type": "execute_result"
    }
   ],
   "source": [
    "b"
   ]
  },
  {
   "cell_type": "code",
   "execution_count": 21,
   "id": "f0015237-e262-4774-83de-e11a8d7d54a8",
   "metadata": {},
   "outputs": [
    {
     "data": {
      "text/plain": [
       "{'1', '2', '3', '4'}"
      ]
     },
     "execution_count": 21,
     "metadata": {},
     "output_type": "execute_result"
    }
   ],
   "source": [
    "b=set(b)\n",
    "b"
   ]
  },
  {
   "cell_type": "code",
   "execution_count": 22,
   "id": "bbad49b0-cd4b-4c6b-b12d-bb77c62d6827",
   "metadata": {},
   "outputs": [
    {
     "data": {
      "text/plain": [
       "['4', '3', '2', '1']"
      ]
     },
     "execution_count": 22,
     "metadata": {},
     "output_type": "execute_result"
    }
   ],
   "source": [
    "b=list(b)\n",
    "b"
   ]
  },
  {
   "cell_type": "code",
   "execution_count": 23,
   "id": "66cc6096-36d9-458d-b358-9c0d5422851f",
   "metadata": {},
   "outputs": [
    {
     "data": {
      "text/plain": [
       "list"
      ]
     },
     "execution_count": 23,
     "metadata": {},
     "output_type": "execute_result"
    }
   ],
   "source": [
    "type(b)"
   ]
  },
  {
   "cell_type": "code",
   "execution_count": 24,
   "id": "b2ec5132-10e9-4eeb-92dd-96e8b1dfb6e7",
   "metadata": {},
   "outputs": [],
   "source": [
    "b.sort()"
   ]
  },
  {
   "cell_type": "code",
   "execution_count": 25,
   "id": "b8bc1ea4-7b6f-4b33-9ff8-119cf7e197f5",
   "metadata": {},
   "outputs": [
    {
     "data": {
      "text/plain": [
       "['1', '2', '3', '4']"
      ]
     },
     "execution_count": 25,
     "metadata": {},
     "output_type": "execute_result"
    }
   ],
   "source": [
    "b"
   ]
  },
  {
   "cell_type": "code",
   "execution_count": 26,
   "id": "8a647a3a-faf1-4103-8626-0e94b93e4d31",
   "metadata": {},
   "outputs": [],
   "source": [
    "b.reverse()"
   ]
  },
  {
   "cell_type": "code",
   "execution_count": 12,
   "id": "76e62be8-ae16-42e0-ab00-035afc0de644",
   "metadata": {},
   "outputs": [
    {
     "data": {
      "text/plain": [
       "['4', '3', '2', '1']"
      ]
     },
     "execution_count": 12,
     "metadata": {},
     "output_type": "execute_result"
    }
   ],
   "source": [
    "b"
   ]
  },
  {
   "cell_type": "code",
   "execution_count": 27,
   "id": "6bd66142-2b2f-4052-b810-57ea252dcc61",
   "metadata": {},
   "outputs": [
    {
     "data": {
      "text/plain": [
       "2"
      ]
     },
     "execution_count": 27,
     "metadata": {},
     "output_type": "execute_result"
    }
   ],
   "source": [
    "c=len(b)//2\n",
    "c"
   ]
  },
  {
   "cell_type": "code",
   "execution_count": 28,
   "id": "25f50acd-a50c-428e-91ad-b5feeaca788f",
   "metadata": {},
   "outputs": [
    {
     "name": "stdout",
     "output_type": "stream",
     "text": [
      "2.5\n"
     ]
    }
   ],
   "source": [
    "if c%2==0:\n",
    "    mid1=int(b[c-1])\n",
    "    mid2=int(b[c])\n",
    "    d=float((mid1+mid2)/2)\n",
    "    print(d)\n",
    "else:\n",
    "    print(c)\n",
    "    "
   ]
  },
  {
   "cell_type": "code",
   "execution_count": 55,
   "id": "008d8714-82ea-4a54-9832-7cfd261f811b",
   "metadata": {},
   "outputs": [
    {
     "name": "stdout",
     "output_type": "stream",
     "text": [
      "3\n"
     ]
    }
   ],
   "source": [
    "a='1,2,3,4,1,2,4,5'\n",
    "b=a.split(',')\n",
    "b=set(b)\n",
    "b=list(b)\n",
    "b.sort()\n",
    "b.reverse()\n",
    "c=len(b)//2\n",
    "if c%2==0:\n",
    "    mid1=int(b[c-1])\n",
    "    mid2=int(b[c])\n",
    "    d=int((mid1+mid2)/2)\n",
    "    print(d)\n",
    "else:\n",
    "    print(c)\n",
    "\n"
   ]
  },
  {
   "cell_type": "code",
   "execution_count": 29,
   "id": "fc46c57d-1f59-483c-b5f4-82a96ebb2fdc",
   "metadata": {},
   "outputs": [
    {
     "name": "stdin",
     "output_type": "stream",
     "text": [
      "Enter comma-separated integers:  1,2,3,4,5,5,6,4,3,2\n"
     ]
    },
    {
     "name": "stdout",
     "output_type": "stream",
     "text": [
      "Sorted list (descending): [6, 5, 4, 3, 2, 1]\n",
      "Median: 3.5\n"
     ]
    }
   ],
   "source": [
    "#Step 1: Take input\n",
    "input_str = input(\"Enter comma-separated integers: \")\n",
    "\n",
    "#Step 2: Split the string and convert to integers\n",
    "numbers = input_str.split(\",\")\n",
    "numbers = [int(num) for num in numbers]\n",
    "\n",
    "#Step 3: Remove duplicates using set, then convert back to list\n",
    "numbers = list(set(numbers))\n",
    "\n",
    "#Step 4: Sort the list in descending order\n",
    "numbers.sort(reverse=True)\n",
    "\n",
    "#Step 5: Find the median\n",
    "length = len(numbers)\n",
    "if length % 2 == 1:\n",
    " median = numbers[length // 2]\n",
    "else:\n",
    " median = (numbers[length // 2 - 1] + numbers[length // 2]) / 2\n",
    "\n",
    "#Step 6: Print the result\n",
    "print(\"Sorted list (descending):\", numbers)\n",
    "print(\"Median:\", median)"
   ]
  },
  {
   "cell_type": "code",
   "execution_count": 32,
   "id": "f24c3bf5-bc49-49d6-a84d-9747584279f0",
   "metadata": {},
   "outputs": [
    {
     "name": "stdout",
     "output_type": "stream",
     "text": [
      "[1, 4, 9, 16, 25]\n"
     ]
    }
   ],
   "source": [
    "#Square each number in a list\n",
    "numbers = [1, 2, 3, 4, 5]\n",
    "squares = list(map(lambda x: x**2, numbers))\n",
    "print(squares)"
   ]
  },
  {
   "cell_type": "code",
   "execution_count": 85,
   "id": "ce04f503-9cff-4527-ad4e-ec37f7278e22",
   "metadata": {},
   "outputs": [
    {
     "name": "stdin",
     "output_type": "stream",
     "text": [
      "enter comma separted integers 6,9,0,8,5,2,2,1,6,8,0,4,7\n"
     ]
    },
    {
     "name": "stdout",
     "output_type": "stream",
     "text": [
      "5\n"
     ]
    }
   ],
   "source": [
    "a=input(\"enter comma separted integers\")\n",
    "b=a.split(',')\n",
    "b=set(b)\n",
    "b=list(b)\n",
    "b.sort()\n",
    "b.reverse()\n",
    "c=len(b)//2\n",
    "if c%2==0:\n",
    "    mid1=int(b[c-1])\n",
    "    mid2=int(b[c])\n",
    "    d=int((mid1+mid2)/2)\n",
    "    print(d)\n",
    "else:\n",
    "    print(c)"
   ]
  },
  {
   "cell_type": "markdown",
   "id": "7d2874a5-0c08-4565-9318-363ed7c324ff",
   "metadata": {},
   "source": [
    "3.Take 3 integers and print the largest among them only if it is even and not divisible by 4. Otherwise, print\n",
    "\"Not Eligible\"."
   ]
  },
  {
   "cell_type": "code",
   "execution_count": 34,
   "id": "84335a24-510f-4a4d-a560-9e7e167fb814",
   "metadata": {},
   "outputs": [
    {
     "name": "stdin",
     "output_type": "stream",
     "text": [
      "num1 10\n",
      "num2 15\n",
      "num3 8\n"
     ]
    },
    {
     "name": "stdout",
     "output_type": "stream",
     "text": [
      "not eligible\n"
     ]
    }
   ],
   "source": [
    "a=int(input('num1'))\n",
    "b=int(input('num2'))\n",
    "c=int(input('num3'))\n",
    "if a>b and a>c and a%2==0 and a%4!=0:\n",
    "    print(a)\n",
    "elif b>a and b>c and b%2==0 and b%4!=0:\n",
    "    print(b)\n",
    "elif c>a and c>b and c%2==0 and c%4!=0:\n",
    "    print(c)\n",
    "else:\n",
    "    print('not eligible')"
   ]
  },
  {
   "cell_type": "code",
   "execution_count": 52,
   "id": "bde418c7-31da-46ff-befe-3e7634d2a64c",
   "metadata": {},
   "outputs": [
    {
     "name": "stdin",
     "output_type": "stream",
     "text": [
      "num1 8\n",
      "num2 16\n",
      "num3 10\n"
     ]
    }
   ],
   "source": [
    "a=int(input('num1'))\n",
    "b=int(input('num2'))\n",
    "c=int(input('num3'))\n",
    "l=[a,b,c]\n"
   ]
  },
  {
   "cell_type": "code",
   "execution_count": 53,
   "id": "20cd0891-2623-498b-8150-41d9c8665ac6",
   "metadata": {},
   "outputs": [
    {
     "name": "stdout",
     "output_type": "stream",
     "text": [
      "not eligible\n",
      "not eligible\n",
      "10\n"
     ]
    }
   ],
   "source": [
    "for i in l:\n",
    "    if i%2==0 and i%4!=0:\n",
    "        print(i)\n",
    "        break\n",
    "    else:\n",
    "        print('not eligible')"
   ]
  },
  {
   "cell_type": "code",
   "execution_count": 46,
   "id": "30e9d9ce-7c64-4fa5-834f-a72d9fff90ab",
   "metadata": {},
   "outputs": [
    {
     "name": "stdin",
     "output_type": "stream",
     "text": [
      "Enter first number:  10\n",
      "Enter second number:  16\n",
      "Enter third number:  8\n"
     ]
    },
    {
     "name": "stdout",
     "output_type": "stream",
     "text": [
      "Not Eligible\n"
     ]
    }
   ],
   "source": [
    "#Step 1: Take 3 integer inputs\n",
    "a = int(input(\"Enter first number: \"))\n",
    "b = int(input(\"Enter second number: \"))\n",
    "c = int(input(\"Enter third number: \"))\n",
    "\n",
    "#Step 2: Find the largest\n",
    "largest = max(a, b, c)\n",
    "\n",
    "#Step 3: Check the condition\n",
    "if largest % 2 == 0 and largest % 4 != 0:\n",
    " print(\"Largest eligible number:\", largest)\n",
    "else:\n",
    " print(\"Not Eligible\")"
   ]
  },
  {
   "cell_type": "code",
   "execution_count": 56,
   "id": "8b8ac8fc-c900-4d3f-ab87-ecd76775c205",
   "metadata": {},
   "outputs": [
    {
     "name": "stdin",
     "output_type": "stream",
     "text": [
      "Enter 3 numbers (comma or space separated):  1,2,10\n"
     ]
    },
    {
     "name": "stdout",
     "output_type": "stream",
     "text": [
      "Largest eligible number: 10\n"
     ]
    }
   ],
   "source": [
    "#Take input as space-separated or comma-separated values\n",
    "input_str = input(\"Enter 3 numbers (comma or space separated): \")\n",
    "\n",
    "#Split and convert to integers\n",
    "if ',' in input_str:\n",
    " nums = [int(x) for x in input_str.split(',')]\n",
    "else:\n",
    " nums = [int(x) for x in input_str.split()]\n",
    "\n",
    "#Use for loop to find the largest\n",
    "largest = nums[0]\n",
    "for num in nums[1:]:\n",
    "    if num > largest:\n",
    "        largest = num\n",
    "\n",
    "#Check condition\n",
    "if largest % 2 == 0 and largest % 4 != 0:\n",
    " print(\"Largest eligible number:\", largest)\n",
    "else:\n",
    " print(\"Not Eligible\")"
   ]
  },
  {
   "cell_type": "code",
   "execution_count": 64,
   "id": "cb131d5c-9b41-4bfd-b158-71f0a4578d0b",
   "metadata": {},
   "outputs": [
    {
     "name": "stdin",
     "output_type": "stream",
     "text": [
      "Enter 3 numbers (comma or space separated):  18,12,10\n"
     ]
    },
    {
     "name": "stdout",
     "output_type": "stream",
     "text": [
      "Not Eligible\n"
     ]
    }
   ],
   "source": [
    "#Take input\n",
    "input_str = input(\"Enter 3 numbers (comma or space separated): \")\n",
    "\n",
    "#Convert to list of integers\n",
    "if ',' in input_str:\n",
    "     nums = [int(x) for x in input_str.split(',')]\n",
    "else:\n",
    "     nums = [int(x) for x in input_str.split()]\n",
    "\n",
    "#Filter only even numbers not divisible by 4\n",
    "eligible = []\n",
    "for num in nums:\n",
    "     if num % 2 == 0 and num % 4 != 0:\n",
    "         eligible.append(num)\n",
    "\n",
    "#Check and print result\n",
    "if eligible:\n",
    "     largest = eligible[0]\n",
    "     for num in eligible[1:]:\n",
    "          if num > largest:\n",
    "            largest = num\n",
    "            print(\"Largest eligible number:\", largest)\n",
    "          else:\n",
    "            print(\"Not Eligible\")"
   ]
  },
  {
   "cell_type": "markdown",
   "id": "6f84498a-8475-43d9-9360-7758b8664c66",
   "metadata": {},
   "source": [
    "4.From a given string, count how many alphabets appear immediately after a digit.\"a3b4c5d\""
   ]
  },
  {
   "cell_type": "code",
   "execution_count": 65,
   "id": "75eea520-dfda-48d4-b69e-d8964b667361",
   "metadata": {},
   "outputs": [
    {
     "name": "stdin",
     "output_type": "stream",
     "text": [
      "enter alphanumeric string A3B3C5D\n"
     ]
    },
    {
     "name": "stdout",
     "output_type": "stream",
     "text": [
      "3\n"
     ]
    }
   ],
   "source": [
    "a=input('enter alphanumeric string')\n",
    "\n",
    "count=0\n",
    "for i in range(1,len(a)):\n",
    "    if a[i].isalpha() and a[i-1].isdigit():\n",
    "        count+=1\n",
    "print(count)"
   ]
  },
  {
   "cell_type": "markdown",
   "id": "fd19d1ad-ef68-4e1b-8f27-e5df558a4d93",
   "metadata": {},
   "source": [
    "5.Create two lists: one with names and one with corresponding ages. Store all names where the age is strictly\n",
    "greater than 18 in a separate list. Ensure both lists have equal length."
   ]
  },
  {
   "cell_type": "code",
   "execution_count": 66,
   "id": "b910ccdd-b07d-48ab-87b9-32b403837e16",
   "metadata": {},
   "outputs": [
    {
     "name": "stdout",
     "output_type": "stream",
     "text": [
      "['abc', 'ghi']\n",
      "[19, 20]\n"
     ]
    }
   ],
   "source": [
    "names=['abc','def','ghi']\n",
    "ages=[19,16,20]\n",
    "name=[]\n",
    "age=[]\n",
    "for i in range(len(names)) :\n",
    "    if ages[i]>18:\n",
    "        name.append(names[i])\n",
    "        age.append(ages[i])\n",
    "print(name)\n",
    "print(age)"
   ]
  },
  {
   "cell_type": "code",
   "execution_count": 83,
   "id": "6883685f-0875-4be4-a1b7-4f1ea1284949",
   "metadata": {
    "scrolled": true
   },
   "outputs": [
    {
     "name": "stdout",
     "output_type": "stream",
     "text": [
      "2\n"
     ]
    }
   ],
   "source": [
    "#From a nested dictionary of employees, count how many employees have a salary greater than 50,000.\n",
    "employees={\n",
    "    'emp1':\n",
    "    {'name'   :'devi',\n",
    "     'salary' : 100000\n",
    "    },\n",
    "    'emp2':\n",
    "    {'name'   :'kishore',\n",
    "     'salary' : 200000\n",
    "    },\n",
    "    'emp3':\n",
    "    {'name'   :'kumar',\n",
    "     'salary' : 20000\n",
    "    }\n",
    "}\n",
    "count=0\n",
    "for emp in employees:\n",
    "    if employees[emp]['salary']>50000:\n",
    "        count+=1\n",
    "print(count)\n",
    "\n"
   ]
  },
  {
   "cell_type": "code",
   "execution_count": 1,
   "id": "a12c59c7-bd61-4e8a-8588-737c668cf587",
   "metadata": {},
   "outputs": [
    {
     "data": {
      "text/plain": [
       "(0, 1)"
      ]
     },
     "execution_count": 1,
     "metadata": {},
     "output_type": "execute_result"
    }
   ],
   "source": [
    "\n",
    "def twoSum(nums,target):\n",
    "    for i in range(len(nums)):\n",
    "        for j in range(i+1,len(nums)):\n",
    "            if nums[i]+nums[j]==target:\n",
    "                return(i,j)\n",
    "                return[]\n",
    "nums=[2,7,11,15]\n",
    "target=9\n",
    "twoSum(nums,target)"
   ]
  },
  {
   "cell_type": "code",
   "execution_count": 2,
   "id": "476c4a14-8e6b-4910-95f0-1871a283df2e",
   "metadata": {},
   "outputs": [
    {
     "data": {
      "text/plain": [
       "4"
      ]
     },
     "execution_count": 2,
     "metadata": {},
     "output_type": "execute_result"
    }
   ],
   "source": [
    "len(nums)"
   ]
  },
  {
   "cell_type": "code",
   "execution_count": 14,
   "id": "f308e6d3-5890-48f4-91ad-d94300489500",
   "metadata": {},
   "outputs": [
    {
     "data": {
      "text/plain": [
       "[8, 0, 7]"
      ]
     },
     "execution_count": 14,
     "metadata": {},
     "output_type": "execute_result"
    }
   ],
   "source": [
    "def addTwoNumbers(l1, l2):\n",
    "        a=l1[::-1]\n",
    "        b=l2[::-1]\n",
    "        number1 = int(\"\".join(map(str, a)))\n",
    "        number2 = int(\"\".join(map(str, b)))\n",
    "        num=number1 + number2\n",
    "        return list(map(int, str(num)))\n",
    "l1 = [2,4,3]\n",
    "l2 = [5,6,4]\n",
    "addTwoNumbers(l1,l2)\n"
   ]
  },
  {
   "cell_type": "code",
   "execution_count": null,
   "id": "b8d1e6a5-099a-4f33-bba3-5d1941a12f3b",
   "metadata": {},
   "outputs": [],
   "source": [
    "#take a comma-separated string of integers, remove duplicates, sort them in descending order, and return the mean."
   ]
  },
  {
   "cell_type": "code",
   "execution_count": null,
   "id": "30e76d7b-4ed9-4e09-b1d3-1d849f9e46b4",
   "metadata": {},
   "outputs": [],
   "source": [
    "#Write a function calculate_discount(price, discount=10) that returns the final price after applying a discount. actual amt 100\n",
    "#after discount 90==>o/p"
   ]
  },
  {
   "cell_type": "code",
   "execution_count": null,
   "id": "bf372999-7bb4-464c-8d09-6c8e989aa0d1",
   "metadata": {},
   "outputs": [],
   "source": [
    "#Write a recursive function factorial(n) that returns the factorial of a number."
   ]
  },
  {
   "cell_type": "code",
   "execution_count": null,
   "id": "add76e54-2b09-4fda-b7a3-40d8909ed951",
   "metadata": {},
   "outputs": [],
   "source": [
    "#Create a function make_multiplier(n) that returns a new function which multiplies its input by n.(nested function)"
   ]
  },
  {
   "cell_type": "code",
   "execution_count": null,
   "id": "4f0bff20-a108-4252-9ffb-66889bbf61e4",
   "metadata": {},
   "outputs": [],
   "source": [
    "#Given a list of numbers, use filter() with a lambda function to extract only the even numbers.\n",
    "#Also, use map() to square them."
   ]
  },
  {
   "cell_type": "code",
   "execution_count": null,
   "id": "8b83be68-d74f-41d6-bb7f-427b4f3f7188",
   "metadata": {},
   "outputs": [],
   "source": []
  }
 ],
 "metadata": {
  "kernelspec": {
   "display_name": "Python 3 (ipykernel)",
   "language": "python",
   "name": "python3"
  },
  "language_info": {
   "codemirror_mode": {
    "name": "ipython",
    "version": 3
   },
   "file_extension": ".py",
   "mimetype": "text/x-python",
   "name": "python",
   "nbconvert_exporter": "python",
   "pygments_lexer": "ipython3",
   "version": "3.13.1"
  }
 },
 "nbformat": 4,
 "nbformat_minor": 5
}
